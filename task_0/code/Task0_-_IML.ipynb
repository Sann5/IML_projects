{
 "cells": [
  {
   "cell_type": "markdown",
   "metadata": {},
   "source": [
    "## Introduction to Machine Learning - Task 0\n",
    "\n",
    "CBBayes\n",
    "\n",
    "mcolomer (mcolomer@student.ethz.ch), pratsink (pratsink@student.ethz.ch) and scastro (scastro@student.ethz.ch)\n"
   ]
  },
  {
   "cell_type": "code",
   "execution_count": 37,
   "metadata": {},
   "outputs": [],
   "source": [
    "# Library import\n",
    "import pandas as pd\n",
    "from sklearn.metrics import mean_squared_error\n",
    "from sklearn import linear_model\n",
    "\n",
    "# Open files\n",
    "path = \"data/\"\n",
    "train_data = pd.read_csv(path+\"train.csv\")\n",
    "test_data = pd.read_csv(path+\"test.csv\")\n",
    "\n",
    "# Compute the average\n",
    "train_data['average'] = train_data[['x1','x2',\"x3\",\"x4\",\"x5\",'x6','x7',\"x8\",\"x9\",\"x10\"]].mean(axis=1)\n",
    "test_data['y'] = test_data[['x1','x2',\"x3\",\"x4\",\"x5\",'x6','x7',\"x8\",\"x9\",\"x10\"]].mean(axis=1)\n",
    "\n",
    "# Create output data\n",
    "output_data = test_data[['Id', 'y']]\n",
    "output_data.to_csv('output.csv', index=False)"
   ]
  }
 ],
 "metadata": {
  "kernelspec": {
   "display_name": "Python 3",
   "language": "python",
   "name": "python3"
  },
  "language_info": {
   "codemirror_mode": {
    "name": "ipython",
    "version": 3
   },
   "file_extension": ".py",
   "mimetype": "text/x-python",
   "name": "python",
   "nbconvert_exporter": "python",
   "pygments_lexer": "ipython3",
   "version": "3.8.3"
  }
 },
 "nbformat": 4,
 "nbformat_minor": 2
}
