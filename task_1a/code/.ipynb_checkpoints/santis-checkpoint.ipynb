{
 "cells": [
  {
   "cell_type": "markdown",
   "metadata": {},
   "source": [
    "# IML Task 1a. Santi's try"
   ]
  },
  {
   "cell_type": "markdown",
   "metadata": {},
   "source": [
    "## Import libraries"
   ]
  },
  {
   "cell_type": "code",
   "execution_count": 7,
   "metadata": {},
   "outputs": [],
   "source": [
    "import pandas as pd\n",
    "import numpy as np\n",
    "from sklearn.linear_model import Ridge\n",
    "from sklearn.model_selection import GridSearchCV\n",
    "from sklearn.metrics import mean_squared_error, make_scorer"
   ]
  },
  {
   "cell_type": "markdown",
   "metadata": {},
   "source": [
    "## Read data "
   ]
  },
  {
   "cell_type": "code",
   "execution_count": 20,
   "metadata": {},
   "outputs": [],
   "source": [
    "path = \"../data/\"  \n",
    "filename = \"train.csv\"                 \n",
    "train_data = pd.read_csv(path+filename)\n",
    "#train_data = train_data.sample(frac=1, random_state=123).reset_index(drop=True) ## Shoufle data\n",
    "X = train_data.iloc[:, 1:14].values   \n",
    "y = train_data.iloc[:,0].values "
   ]
  },
  {
   "cell_type": "markdown",
   "metadata": {},
   "source": [
    "## Set parameters for regression over multiple parameters"
   ]
  },
  {
   "cell_type": "code",
   "execution_count": 22,
   "metadata": {},
   "outputs": [],
   "source": [
    "ridge = Ridge(solver = 'svd',       ## Specify type of regression and mehtod ('sag' = stochastic gradient decent, and 'svd' exact solution via singular value decomposition) to solve it\n",
    "              #random_state = 123,  ## specify only when solver = 'sag'\n",
    "              #max_iter = 1000,     ## specify only when solver = 'sag'\n",
    "              #tol = 1e-5,          ## 1e-3 when solver = 'sag'                      \n",
    "              fit_intercept = True)\n",
    "              \n",
    "alphas = [0.1, 1, 10, 100, 200]                          ## Specify the hyperparameters\n",
    "RMSE = make_scorer(mean_squared_error, squared=False)    ## Specify the scoring scheme\n",
    "parameters = [{'alpha': alphas}]                         ## Put hyperparameters into a tupple\n",
    "n_folds = 10                                             ## Specify the number of folds in the corss validation"
   ]
  },
  {
   "cell_type": "markdown",
   "metadata": {},
   "source": [
    "## Perform the regressions"
   ]
  },
  {
   "cell_type": "code",
   "execution_count": 23,
   "metadata": {},
   "outputs": [],
   "source": [
    "clf = GridSearchCV(estimator = ridge, \n",
    "                   param_grid = parameters, \n",
    "                   cv = n_folds, \n",
    "                   scoring = RMSE,\n",
    "                   refit = False)\n",
    "clf.fit(X, y)\n",
    "scores = pd.DataFrame(clf.cv_results_['mean_test_score'])"
   ]
  },
  {
   "cell_type": "markdown",
   "metadata": {},
   "source": [
    "## Print results"
   ]
  },
  {
   "cell_type": "code",
   "execution_count": 24,
   "metadata": {
    "scrolled": true
   },
   "outputs": [
    {
     "name": "stdout",
     "output_type": "stream",
     "text": [
      "           params  split0_test_score  split1_test_score  split2_test_score  \\\n",
      "0  {'alpha': 0.1}           7.339081           4.545067           7.549093   \n",
      "1    {'alpha': 1}           7.465163           4.432381           7.553463   \n",
      "2   {'alpha': 10}           7.642464           3.810555           7.515255   \n",
      "3  {'alpha': 100}           8.138291           3.066840           7.339536   \n",
      "4  {'alpha': 200}           8.358118           3.080818           7.345320   \n",
      "\n",
      "   split3_test_score  split4_test_score  split5_test_score  split6_test_score  \\\n",
      "0           5.423094           3.981594           5.893819           6.402006   \n",
      "1           5.300746           3.965221           5.828557           6.467339   \n",
      "2           5.326232           4.042385           6.094280           6.447993   \n",
      "3           5.719732           4.272141           7.222154           6.492214   \n",
      "4           5.689633           4.361321           7.620630           6.551951   \n",
      "\n",
      "   split7_test_score  split8_test_score  split9_test_score  mean_test_score  \\\n",
      "0           5.656822           4.623346           3.604172         5.501809   \n",
      "1           5.839535           4.716845           3.429137         5.499839   \n",
      "2           6.048903           4.607805           3.300444         5.483631   \n",
      "3           6.561522           4.129432           3.424559         5.636642   \n",
      "4           6.719535           3.972360           3.512652         5.721234   \n",
      "\n",
      "   std_test_score  rank_test_score  \n",
      "0        1.271233                3  \n",
      "1        1.329452                4  \n",
      "2        1.443780                5  \n",
      "3        1.699912                2  \n",
      "4        1.778869                1  \n"
     ]
    }
   ],
   "source": [
    "print(pd.DataFrame.from_dict(clf.cv_results_).iloc[:, 5:20])"
   ]
  },
  {
   "cell_type": "markdown",
   "metadata": {},
   "source": [
    "## Save to csv"
   ]
  },
  {
   "cell_type": "code",
   "execution_count": 25,
   "metadata": {},
   "outputs": [],
   "source": [
    "scores.to_csv('../data/output_not_shuf_svd_with_intercept', index = False, header = False)"
   ]
  },
  {
   "cell_type": "markdown",
   "metadata": {},
   "source": [
    "## Results "
   ]
  },
  {
   "cell_type": "code",
   "execution_count": 13,
   "metadata": {},
   "outputs": [
    {
     "ename": "SyntaxError",
     "evalue": "invalid syntax (<ipython-input-13-cacc5e15a524>, line 2)",
     "output_type": "error",
     "traceback": [
      "\u001b[0;36m  File \u001b[0;32m\"<ipython-input-13-cacc5e15a524>\"\u001b[0;36m, line \u001b[0;32m2\u001b[0m\n\u001b[0;31m    5.501809 -> 5.396306 -> 5.542109 -> 6.058791 -> 5.888465 -> 5.572983 -> 5.503638\u001b[0m\n\u001b[0m             ^\u001b[0m\n\u001b[0;31mSyntaxError\u001b[0m\u001b[0;31m:\u001b[0m invalid syntax\n"
     ]
    }
   ],
   "source": [
    "# og data -> no seed shuf -> shuf seed 123 -> shuf 123 and sag 123 -> og data and sag 123 -> shuf seed 123, svd, no intercept -> no shuf, svd, no intercept\n",
    "5.501809 -> 5.396306 -> 5.542109 -> 6.058791 -> 5.888465 -> 5.572983 -> 5.503638 -> 5.511612\n",
    "5.499839 -> 5.444699 -> 5.556770 -> 6.058849 -> 5.888632 -> 5.561387 -> 5.480400 -> 5.488701\n",
    "5.483631 -> 5.439110 -> 5.561448 -> 6.060649 -> 5.889326 -> 5.549056 -> 5.469886 -> 5.493753\n",
    "5.636642 -> 5.573814 -> 5.773031 -> 6.051932 -> 5.901776 -> 5.981954 -> 5.931931 -> 5.947408\n",
    "5.721234 -> 5.656222 -> 5.863599 -> 6.039229 -> 5.916084 -> 6.255655 -> 6.243347 -> 6.253948"
   ]
  }
 ],
 "metadata": {
  "kernelspec": {
   "display_name": "Python 3",
   "language": "python",
   "name": "python3"
  },
  "language_info": {
   "codemirror_mode": {
    "name": "ipython",
    "version": 3
   },
   "file_extension": ".py",
   "mimetype": "text/x-python",
   "name": "python",
   "nbconvert_exporter": "python",
   "pygments_lexer": "ipython3",
   "version": "3.7.4"
  }
 },
 "nbformat": 4,
 "nbformat_minor": 4
}
