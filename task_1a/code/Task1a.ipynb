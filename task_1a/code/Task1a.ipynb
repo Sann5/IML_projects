{
 "cells": [
  {
   "cell_type": "markdown",
   "metadata": {},
   "source": [
    "# Introduction to Machine Learning - Task 1a\n",
    "\n",
    "Group name: Cbbayes\n",
    "\n",
    "Team members: mcolomer (mcolomer@student.ethz.ch), pratsink (pratsink@student.ethz.ch) and scastro (scastro@student.ethz.ch)\n",
    "\n",
    "Spring 2021"
   ]
  },
  {
   "cell_type": "markdown",
   "metadata": {},
   "source": [
    "## Libraries import"
   ]
  },
  {
   "cell_type": "code",
   "execution_count": 1,
   "metadata": {},
   "outputs": [],
   "source": [
    "import pandas as pd\n",
    "import numpy as np\n",
    "from sklearn.linear_model import Ridge\n",
    "from sklearn.model_selection import GridSearchCV\n",
    "from sklearn.metrics import mean_squared_error, make_scorer"
   ]
  },
  {
   "cell_type": "markdown",
   "metadata": {},
   "source": [
    "## Read input data "
   ]
  },
  {
   "cell_type": "code",
   "execution_count": 2,
   "metadata": {},
   "outputs": [],
   "source": [
    "path = \"../data/\"                            ## Select the path to the data file\n",
    "filename = \"train.csv\"                 \n",
    "train_data = pd.read_csv(path+filename)\n",
    "X = train_data.iloc[:, 1:14].values          ## Select the featuers\n",
    "y = train_data.iloc[:,0].values              ## Select the class labels"
   ]
  },
  {
   "cell_type": "markdown",
   "metadata": {},
   "source": [
    "## Set parameters for ridge regression over multiple parameters"
   ]
  },
  {
   "cell_type": "code",
   "execution_count": 3,
   "metadata": {},
   "outputs": [],
   "source": [
    "ridge = Ridge(solver = 'svd',        ## Specify type of regression and mehtod ('sag' = stochastic gradient decent, and 'svd' \n",
    "                                     ## exact solution via singular value decomposition) to solve it                  \n",
    "              fit_intercept = False) ## Specify if we want to fit the intercept\n",
    "              \n",
    "alphas = [0.1, 1, 10, 100, 200]                          ## Specify the hyperparameters\n",
    "\n",
    "\n",
    "def RMSE_function(y_test, y_pred):\n",
    "    \"\"\"Function that returns the RSME \n",
    "    given the predicted class labels and\n",
    "    the actual class labels\"\"\"\n",
    "    RSME = np.sqrt(mean_squared_error(y_test, y_pred))\n",
    "    return RSME\n",
    "\n",
    "RMSE = make_scorer(RMSE_function)    ## Specify the scoring scheme\n",
    "parameters = [{'alpha': alphas}]                         ## Put hyperparameters into a tupple\n",
    "n_folds = 10                                             ## Specify the number of folds in the corss validation"
   ]
  },
  {
   "cell_type": "markdown",
   "metadata": {},
   "source": [
    "## Perform the ridge regressions"
   ]
  },
  {
   "cell_type": "code",
   "execution_count": 4,
   "metadata": {},
   "outputs": [
    {
     "name": "stdout",
     "output_type": "stream",
     "text": [
      "          0\n",
      "0  5.503638\n",
      "1  5.480400\n",
      "2  5.469886\n",
      "3  5.931931\n",
      "4  6.243347\n"
     ]
    }
   ],
   "source": [
    "clf = GridSearchCV(estimator = ridge,           ## Create a ridge regression classifier \n",
    "                   param_grid = parameters, \n",
    "                   cv = n_folds,                ## Perform a cross-validation of the parameters n_folds\n",
    "                   scoring = RMSE,              ## Output the RSME score of our results\n",
    "                   refit = False)\n",
    "\n",
    "clf.fit(X, y)                                                      ## Fit the data\n",
    "scores = pd.DataFrame(clf.cv_results_['mean_test_score']) ## Save the results to a dataframe\n",
    "scores.to_csv('output.csv', index = False, header = False)             ## Save the results dataframe to a csv\n",
    "print(scores) "
   ]
  },
  {
   "cell_type": "code",
   "execution_count": null,
   "metadata": {},
   "outputs": [],
   "source": []
  }
 ],
 "metadata": {
  "kernelspec": {
   "display_name": "Python 3",
   "language": "python",
   "name": "python3"
  },
  "language_info": {
   "codemirror_mode": {
    "name": "ipython",
    "version": 3
   },
   "file_extension": ".py",
   "mimetype": "text/x-python",
   "name": "python",
   "nbconvert_exporter": "python",
   "pygments_lexer": "ipython3",
   "version": "3.7.4"
  }
 },
 "nbformat": 4,
 "nbformat_minor": 4
}
