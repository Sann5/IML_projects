{
 "cells": [
  {
   "cell_type": "markdown",
   "metadata": {},
   "source": [
    "# Introduction to Machine Learning - Task 1a\n",
    "\n",
    "Group name: Cbbayes\n",
    "\n",
    "Team members: mcolomer (mcolomer@student.ethz.ch), pratsink (pratsink@student.ethz.ch) and scastro (scastro@student.ethz.ch)\n",
    "\n",
    "Fall 2021"
   ]
  },
  {
   "cell_type": "markdown",
   "metadata": {},
   "source": [
    "## Library import"
   ]
  },
  {
   "cell_type": "code",
   "execution_count": 10,
   "metadata": {},
   "outputs": [],
   "source": [
    "import pandas as pd\n",
    "from sklearn.linear_model import Ridge\n",
    "from sklearn.metrics import mean_squared_error\n",
    "from sklearn.model_selection import KFold\n",
    "import numpy as np"
   ]
  },
  {
   "cell_type": "markdown",
   "metadata": {},
   "source": [
    "## Opening the data"
   ]
  },
  {
   "cell_type": "code",
   "execution_count": 11,
   "metadata": {},
   "outputs": [],
   "source": [
    "path = \"../data/\" #Path to the data folder\n",
    "filename = \"train.csv\" #Train data file name\n",
    "train_data = pd.read_csv(path+filename)\n",
    "X = train_data.iloc[:, 1:14].values \n",
    "y = train_data.iloc[:,0].values "
   ]
  },
  {
   "cell_type": "code",
   "execution_count": 12,
   "metadata": {
    "scrolled": true
   },
   "outputs": [
    {
     "name": "stdout",
     "output_type": "stream",
     "text": [
      "        y        x1    x2     x3   x4     x5     x6     x7      x8    x9  \\\n",
      "0    22.6   0.06724   0.0   3.24  0.0  0.460  6.333   17.2  5.2146   4.0   \n",
      "1    50.0   9.23230   0.0  18.10  0.0  0.631  6.216  100.0  1.1691  24.0   \n",
      "2    23.0   0.11425   0.0  13.89  1.0  0.550  6.373   92.4  3.3633   5.0   \n",
      "3     8.3  24.80170   0.0  18.10  0.0  0.693  5.349   96.0  1.7028  24.0   \n",
      "4    21.2   0.05646   0.0  12.83  0.0  0.437  6.232   53.7  5.0141   5.0   \n",
      "..    ...       ...   ...    ...  ...    ...    ...    ...     ...   ...   \n",
      "145  16.6   0.67191   0.0   8.14  0.0  0.538  5.813   90.3  4.6820   4.0   \n",
      "146  32.9   0.01778  95.0   1.47  0.0  0.403  7.135   13.9  7.6534   3.0   \n",
      "147  36.2   0.06905   0.0   2.18  0.0  0.458  7.147   54.2  6.0622   3.0   \n",
      "148  11.0   7.36711   0.0  18.10  0.0  0.679  6.193   78.1  1.9356  24.0   \n",
      "149   7.2  16.81180   0.0  18.10  0.0  0.700  5.277   98.1  1.4261  24.0   \n",
      "\n",
      "       x10   x11     x12    x13  \n",
      "0    430.0  16.9  375.21   7.34  \n",
      "1    666.0  20.2  366.15   9.53  \n",
      "2    276.0  16.4  393.74  10.50  \n",
      "3    666.0  20.2  396.90  19.77  \n",
      "4    398.0  18.7  386.40  12.34  \n",
      "..     ...   ...     ...    ...  \n",
      "145  307.0  21.0  376.88  14.81  \n",
      "146  402.0  17.0  384.30   4.45  \n",
      "147  222.0  18.7  396.90   5.33  \n",
      "148  666.0  20.2   96.73  21.52  \n",
      "149  666.0  20.2  396.90  30.81  \n",
      "\n",
      "[150 rows x 14 columns]\n"
     ]
    }
   ],
   "source": [
    "print(train_data)"
   ]
  },
  {
   "cell_type": "code",
   "execution_count": null,
   "metadata": {},
   "outputs": [],
   "source": []
  },
  {
   "cell_type": "markdown",
   "metadata": {},
   "source": [
    "## k-fold crossvalidation and ridge regression\n"
   ]
  },
  {
   "cell_type": "code",
   "execution_count": 13,
   "metadata": {},
   "outputs": [],
   "source": [
    "def ridge_regression(X_train, y_train, X_test, alpha):\n",
    "    \"\"\"\n",
    "    Performs the ridge regerssion analysis given a training and test\n",
    "    dataset\n",
    "    :X_train: training class features\n",
    "    :y_train: training class labels\n",
    "    :X_test: test class features\n",
    "    :alpha: strength of the ridge regerssion\n",
    "    \"\"\"\n",
    "    #Perform the Logistic Regression clasification\n",
    "    clf = Ridge(alpha=alpha)\n",
    "    clf.fit(X_train, y_train)\n",
    "    y_pred = clf.predict(X_test)\n",
    "    return y_pred\n",
    "\n",
    "\n",
    "def cross_validation_analysis(X, y, n_kfold , alpha):\n",
    "    \"\"\"\n",
    "    Performs the k-fold cross-validation analysis of\n",
    "    the ridge regression\n",
    "    :X: class features\n",
    "    :y: class labels\n",
    "    :alpha: strength of the ridge regerssion\n",
    "    :n_kfold: number of splits of the k-fold crossvalidation \"\"\"\n",
    "    cv = KFold(n_splits=n_kfold)\n",
    "    errors = []\n",
    "    for train_index, test_index in cv.split(X, y):\n",
    "        X_train, y_train = X[train_index], y[train_index]\n",
    "        X_test, y_test = X[test_index], y[test_index]\n",
    "        y_pred = ridge_regression(X_train, y_train, X_test, alpha)\n",
    "        RSME = np.sqrt(mean_squared_error(y_test, y_pred))\n",
    "        #RSME2 = np.sqrt(np.sum((y_test-y_pred)**2)/len(y_test))\n",
    "        errors.append(RSME)\n",
    "    print(np.mean(errors))\n",
    "    return np.mean(errors)"
   ]
  },
  {
   "cell_type": "markdown",
   "metadata": {},
   "source": [
    "## analyse the data"
   ]
  },
  {
   "cell_type": "code",
   "execution_count": 14,
   "metadata": {},
   "outputs": [
    {
     "name": "stdout",
     "output_type": "stream",
     "text": [
      "5.501809445057859\n",
      "5.499838741278096\n",
      "5.483631486072288\n",
      "5.636642135414035\n",
      "5.721233719861127\n"
     ]
    }
   ],
   "source": [
    "#Ridge strengths and random seed\n",
    "alpha_parameters = [0.1, 1, 10, 100, 200]\n",
    "#np.random.seed(10)\n",
    "\n",
    "RSME_alphas = []\n",
    "#Iterate for the different ridge strengths\n",
    "for alpha in alpha_parameters:\n",
    "    RSME_alpha = cross_validation_analysis(X, y, 10, alpha)\n",
    "    RSME_alphas.append(RSME_alpha)\n",
    "    \n",
    "#Ouptut file\n",
    "np.savetxt('output.csv', RSME_alphas, fmt='%2.1f')\n"
   ]
  },
  {
   "cell_type": "code",
   "execution_count": null,
   "metadata": {},
   "outputs": [],
   "source": []
  }
 ],
 "metadata": {
  "kernelspec": {
   "display_name": "Python 3",
   "language": "python",
   "name": "python3"
  },
  "language_info": {
   "codemirror_mode": {
    "name": "ipython",
    "version": 3
   },
   "file_extension": ".py",
   "mimetype": "text/x-python",
   "name": "python",
   "nbconvert_exporter": "python",
   "pygments_lexer": "ipython3",
   "version": "3.8.3"
  }
 },
 "nbformat": 4,
 "nbformat_minor": 2
}
