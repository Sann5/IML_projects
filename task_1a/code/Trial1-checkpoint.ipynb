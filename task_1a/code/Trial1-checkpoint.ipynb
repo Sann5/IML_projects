{
 "cells": [
  {
   "cell_type": "markdown",
   "metadata": {},
   "source": [
    "# Introduction to Machine Learning - Task 1a\n",
    "\n",
    "Group name: Cbbayes\n",
    "\n",
    "Team members: mcolomer (mcolomer@student.ethz.ch), pratsink (pratsink@student.ethz.ch) and scastro (scastro@student.ethz.ch)\n",
    "\n",
    "Fall 2021"
   ]
  },
  {
   "cell_type": "markdown",
   "metadata": {},
   "source": [
    "## Library import"
   ]
  },
  {
   "cell_type": "code",
   "execution_count": 147,
   "metadata": {},
   "outputs": [],
   "source": [
    "import pandas as pd\n",
    "from sklearn.linear_model import Ridge\n",
    "from sklearn.metrics import mean_squared_error\n",
    "from sklearn.model_selection import KFold\n",
    "import numpy as np"
   ]
  },
  {
   "cell_type": "markdown",
   "metadata": {},
   "source": [
    "## Opening the data"
   ]
  },
  {
   "cell_type": "code",
   "execution_count": 148,
   "metadata": {},
   "outputs": [],
   "source": [
    "path = \"data/\" #Path to the data folder\n",
    "filename = \"train.csv\" #Train data file name\n",
    "train_data = pd.read_csv(path+filename)\n",
    "X = train_data.iloc[:, 1:14].values \n",
    "y = train_data.iloc[:,0].values "
   ]
  },
  {
   "cell_type": "code",
   "execution_count": null,
   "metadata": {
    "scrolled": true
   },
   "outputs": [],
   "source": []
  },
  {
   "cell_type": "markdown",
   "metadata": {},
   "source": [
    "## k-fold crossvalidation and ridge regression\n"
   ]
  },
  {
   "cell_type": "code",
   "execution_count": 149,
   "metadata": {},
   "outputs": [],
   "source": [
    "def ridge_regression(X_train, y_train, X_test, alpha):\n",
    "    \"\"\"\n",
    "    Performs the ridge regerssion analysis given a training and test\n",
    "    dataset\n",
    "    :X_train: training class features\n",
    "    :y_train: training class labels\n",
    "    :X_test: test class features\n",
    "    :alpha: strength of the ridge regerssion\n",
    "    \"\"\"\n",
    "    #Perform the Logistic Regression clasification\n",
    "    clf = Ridge(alpha=alpha)\n",
    "    clf.fit(X_train, y_train)\n",
    "    y_pred = clf.predict(X_test)\n",
    "    return y_pred\n",
    "\n",
    "\n",
    "def cross_validation_analysis(X, y, n_kfold , alpha):\n",
    "    \"\"\"\n",
    "    Performs the k-fold cross-validation analysis of\n",
    "    the ridge regression\n",
    "    :X: class features\n",
    "    :y: class labels\n",
    "    :alpha: strength of the ridge regerssion\n",
    "    :n_kfold: number of splits of the k-fold crossvalidation \"\"\"\n",
    "    cv = KFold(n_splits=n_kfold)\n",
    "    errors = []\n",
    "    for train_index, test_index in cv.split(X, y):\n",
    "        X_train, y_train = X[train_index], y[train_index]\n",
    "        X_test, y_test = X[test_index], y[test_index]\n",
    "        y_pred = ridge_regression(X_train, y_train, X_test, alpha)\n",
    "        RSME = np.sqrt(mean_squared_error(y_test, y_pred))\n",
    "        #RSME2 = np.sqrt(np.sum((y_test-y_pred)**2)/len(y_test))\n",
    "        errors.append(RSME)\n",
    "    print(np.mean(errors))\n",
    "    return np.mean(errors)"
   ]
  },
  {
   "cell_type": "markdown",
   "metadata": {},
   "source": [
    "## analyse the data"
   ]
  },
  {
   "cell_type": "code",
   "execution_count": 150,
   "metadata": {},
   "outputs": [
    {
     "name": "stdout",
     "output_type": "stream",
     "text": [
      "5.501809445057857\n",
      "5.499838741278097\n",
      "5.483631486072287\n",
      "5.636642135414034\n",
      "5.721233719861127\n"
     ]
    }
   ],
   "source": [
    "#Ridge strengths and random seed\n",
    "alpha_parameters = [0.1, 1, 10, 100, 200]\n",
    "#np.random.seed(10)\n",
    "\n",
    "RSME_alphas = []\n",
    "#Iterate for the different ridge strengths\n",
    "for alpha in alpha_parameters:\n",
    "    RSME_alpha = cross_validation_analysis(X, y, 10, alpha)\n",
    "    RSME_alphas.append(RSME_alpha)\n",
    "    \n",
    "#Ouptut file\n",
    "np.savetxt('output.csv', RSME_alphas, fmt='%2.1f')\n"
   ]
  },
  {
   "cell_type": "code",
   "execution_count": null,
   "metadata": {},
   "outputs": [],
   "source": []
  }
 ],
 "metadata": {
  "kernelspec": {
   "display_name": "Python 3",
   "language": "python",
   "name": "python3"
  },
  "language_info": {
   "codemirror_mode": {
    "name": "ipython",
    "version": 3
   },
   "file_extension": ".py",
   "mimetype": "text/x-python",
   "name": "python",
   "nbconvert_exporter": "python",
   "pygments_lexer": "ipython3",
   "version": "3.7.4"
  }
 },
 "nbformat": 4,
 "nbformat_minor": 2
}
