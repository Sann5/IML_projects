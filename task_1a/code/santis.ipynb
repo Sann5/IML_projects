{
 "cells": [
  {
   "cell_type": "markdown",
   "metadata": {},
   "source": [
    "# IML Task 1a. Santi's try"
   ]
  },
  {
   "cell_type": "markdown",
   "metadata": {},
   "source": [
    "## Import libreries"
   ]
  },
  {
   "cell_type": "code",
   "execution_count": 22,
   "metadata": {},
   "outputs": [],
   "source": [
    "import pandas as pd\n",
    "import numpy as np\n",
    "from sklearn.linear_model import Ridge\n",
    "from sklearn.model_selection import GridSearchCV\n",
    "from sklearn.metrics import mean_squared_error, make_scorer"
   ]
  },
  {
   "cell_type": "markdown",
   "metadata": {},
   "source": [
    "## Read data "
   ]
  },
  {
   "cell_type": "code",
   "execution_count": 52,
   "metadata": {},
   "outputs": [],
   "source": [
    "path = \"../data/\"  \n",
    "filename = \"train.csv\"                 \n",
    "train_data = pd.read_csv(path+filename)\n",
    "train_data = train_data.sample(frac=1, random_state=123).reset_index(drop=True) ## Shoufle data\n",
    "X = train_data.iloc[:, 1:14].values \n",
    "y = train_data.iloc[:,0].values "
   ]
  },
  {
   "cell_type": "markdown",
   "metadata": {},
   "source": [
    "## Set parameters for regression over multiple parameters"
   ]
  },
  {
   "cell_type": "code",
   "execution_count": 53,
   "metadata": {},
   "outputs": [],
   "source": [
    "ridge = Ridge(solver = 'svd',      ## Specify type of regression and mehtod ('sag' = stochastic gradient decent, and 'svd' exact solution via singular value decomposition) to solve it\n",
    "              #random_state = 123, ## specify only when solver = 'sag'\n",
    "              #max_iter = 1000,    ## specify only when solver = 'sag'\n",
    "              tol = 1e-5)          ## 1e-3 when solver = 'sag'                      \n",
    "alphas = [0.1, 1, 10, 100, 200]                          ## Specify the hyperparameters\n",
    "RMSE = make_scorer(mean_squared_error, squared=False)    ## Specify the scoring scheme\n",
    "parameters = [{'alpha': alphas}]                         ## Put hyperparameters into a tupple\n",
    "n_folds = 10                                             ## Specify the number of folds in the corss validation"
   ]
  },
  {
   "cell_type": "markdown",
   "metadata": {},
   "source": [
    "## Perform the regressions"
   ]
  },
  {
   "cell_type": "code",
   "execution_count": 54,
   "metadata": {},
   "outputs": [],
   "source": [
    "clf = GridSearchCV(estimator = ridge, \n",
    "                   param_grid = parameters, \n",
    "                   cv = n_folds, \n",
    "                   scoring = RMSE,\n",
    "                   refit = False)\n",
    "clf.fit(X, y)\n",
    "scores = pd.DataFrame(clf.cv_results_['mean_test_score'])"
   ]
  },
  {
   "cell_type": "markdown",
   "metadata": {},
   "source": [
    "## Print results"
   ]
  },
  {
   "cell_type": "code",
   "execution_count": 55,
   "metadata": {
    "scrolled": true
   },
   "outputs": [
    {
     "name": "stdout",
     "output_type": "stream",
     "text": [
      "           params  split0_test_score  split1_test_score  split2_test_score  \\\n",
      "0  {'alpha': 0.1}           8.398141           3.121684           7.262009   \n",
      "1    {'alpha': 1}           8.399036           3.121891           7.262674   \n",
      "2   {'alpha': 10}           8.415663           3.121609           7.268741   \n",
      "3  {'alpha': 100}           8.570600           3.128927           7.315270   \n",
      "4  {'alpha': 200}           8.699164           3.149984           7.359022   \n",
      "\n",
      "   split3_test_score  split4_test_score  split5_test_score  split6_test_score  \\\n",
      "0           5.899232           4.533289           7.783009           7.096943   \n",
      "1           5.898249           4.533246           7.785834           7.095315   \n",
      "2           5.886644           4.535685           7.805317           7.088627   \n",
      "3           5.785358           4.560951           7.991607           7.027456   \n",
      "4           5.683945           4.585338           8.163118           6.964311   \n",
      "\n",
      "   split7_test_score  split8_test_score  split9_test_score  mean_test_score  \\\n",
      "0           7.277573           3.951737           3.561031         5.888465   \n",
      "1           7.277023           3.951146           3.561904         5.888632   \n",
      "2           7.269739           3.937541           3.563698         5.889326   \n",
      "3           7.217907           3.830883           3.588798         5.901776   \n",
      "4           7.165540           3.770729           3.619686         5.916084   \n",
      "\n",
      "   std_test_score  rank_test_score  \n",
      "0        1.839130                5  \n",
      "1        1.839368                4  \n",
      "2        1.844198                3  \n",
      "3        1.887481                2  \n",
      "4        1.920645                1  \n"
     ]
    }
   ],
   "source": [
    "print(pd.DataFrame.from_dict(clf.cv_results_).iloc[:, 5:20])"
   ]
  },
  {
   "cell_type": "markdown",
   "metadata": {},
   "source": [
    "## Save to csv"
   ]
  },
  {
   "cell_type": "code",
   "execution_count": 56,
   "metadata": {},
   "outputs": [],
   "source": [
    "#scores.to_csv('../data/##name your fiule here##', index = False, header = False)"
   ]
  },
  {
   "cell_type": "markdown",
   "metadata": {},
   "source": [
    "## Results "
   ]
  },
  {
   "cell_type": "code",
   "execution_count": null,
   "metadata": {},
   "outputs": [],
   "source": [
    "# Orignial data -> no seed shuffle -> shuffle seed 123 -> shuffle 123 and sag 123 -> orignial data and sag 123\n",
    "5.501809 -> 5.396306 -> 5.542109 -> 6.058791 -> 5.888465\n",
    "5.499839 -> 5.444699 -> 5.556770 -> 6.058849 -> 5.888632\n",
    "5.483631 -> 5.439110 -> 5.561448 -> 6.060649 -> 5.889326\n",
    "5.636642 -> 5.573814 -> 5.773031 -> 6.051932 -> 5.901776\n",
    "5.721234 -> 5.656222 -> 5.863599 -> 6.039229 -> 5.916084"
   ]
  }
 ],
 "metadata": {
  "kernelspec": {
   "display_name": "Python 3",
   "language": "python",
   "name": "python3"
  },
  "language_info": {
   "codemirror_mode": {
    "name": "ipython",
    "version": 3
   },
   "file_extension": ".py",
   "mimetype": "text/x-python",
   "name": "python",
   "nbconvert_exporter": "python",
   "pygments_lexer": "ipython3",
   "version": "3.8.3"
  }
 },
 "nbformat": 4,
 "nbformat_minor": 4
}
