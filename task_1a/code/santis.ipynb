{
 "cells": [
  {
   "cell_type": "markdown",
   "metadata": {},
   "source": [
    "# IML Task 1a. Santi's try"
   ]
  },
  {
   "cell_type": "markdown",
   "metadata": {},
   "source": [
    "## Import libreries"
   ]
  },
  {
   "cell_type": "code",
   "execution_count": 1,
   "metadata": {},
   "outputs": [],
   "source": [
    "import pandas as pd\n",
    "import numpy as np\n",
    "from sklearn.linear_model import Ridge\n",
    "from sklearn.model_selection import GridSearchCV\n",
    "from sklearn.metrics import mean_squared_error, make_scorer"
   ]
  },
  {
   "cell_type": "markdown",
   "metadata": {},
   "source": [
    "## Read data "
   ]
  },
  {
   "cell_type": "code",
   "execution_count": 8,
   "metadata": {},
   "outputs": [],
   "source": [
    "path = \"../data/\"  \n",
    "filename = \"train.csv\"                 \n",
    "train_data = pd.read_csv(path+filename)\n",
    "#train_data = train_data.sample(frac=1, random_state=123).reset_index(drop=True) ## Shoufle data\n",
    "X = train_data.iloc[:, 1:14].values \n",
    "y = train_data.iloc[:,0].values "
   ]
  },
  {
   "cell_type": "markdown",
   "metadata": {},
   "source": [
    "## Set parameters for regression over multiple parameters"
   ]
  },
  {
   "cell_type": "code",
   "execution_count": 23,
   "metadata": {},
   "outputs": [],
   "source": [
    "ridge = Ridge(solver = 'svd',       ## Specify type of regression and mehtod ('sag' = stochastic gradient decent, and 'svd' exact solution via singular value decomposition) to solve it\n",
    "              #random_state = 123,  ## specify only when solver = 'sag'\n",
    "              #max_iter = 1000,     ## specify only when solver = 'sag'\n",
    "              #tol = 1e-5,          ## 1e-3 when solver = 'sag'                      \n",
    "              fit_intercept = False)\n",
    "              \n",
    "alphas = [0.1, 1, 10, 100, 200]                          ## Specify the hyperparameters\n",
    "RMSE = make_scorer(mean_squared_error, squared=False)    ## Specify the scoring scheme\n",
    "parameters = [{'alpha': alphas}]                         ## Put hyperparameters into a tupple\n",
    "n_folds = 10                                             ## Specify the number of folds in the corss validation"
   ]
  },
  {
   "cell_type": "markdown",
   "metadata": {},
   "source": [
    "## Perform the regressions"
   ]
  },
  {
   "cell_type": "code",
   "execution_count": 24,
   "metadata": {},
   "outputs": [],
   "source": [
    "clf = GridSearchCV(estimator = ridge, \n",
    "                   param_grid = parameters, \n",
    "                   cv = n_folds, \n",
    "                   scoring = RMSE,\n",
    "                   refit = False)\n",
    "clf.fit(X, y)\n",
    "scores = pd.DataFrame(clf.cv_results_['mean_test_score'])"
   ]
  },
  {
   "cell_type": "markdown",
   "metadata": {},
   "source": [
    "## Print results"
   ]
  },
  {
   "cell_type": "code",
   "execution_count": 25,
   "metadata": {
    "scrolled": true
   },
   "outputs": [
    {
     "name": "stdout",
     "output_type": "stream",
     "text": [
      "           params  split0_test_score  split1_test_score  split2_test_score  \\\n",
      "0  {'alpha': 0.1}           7.441234           5.128266           7.707647   \n",
      "1    {'alpha': 1}           7.477933           4.883931           7.702792   \n",
      "2   {'alpha': 10}           7.581469           4.452825           7.727744   \n",
      "3  {'alpha': 100}           8.196459           3.552561           7.779944   \n",
      "4  {'alpha': 200}           8.507482           3.603993           7.889683   \n",
      "\n",
      "   split3_test_score  split4_test_score  split5_test_score  split6_test_score  \\\n",
      "0           4.540061           4.075316           5.109754           6.551364   \n",
      "1           4.500595           4.072622           5.151921           6.561512   \n",
      "2           4.339892           4.194254           5.394463           6.552751   \n",
      "3           4.946785           4.894264           7.119826           7.135450   \n",
      "4           5.240547           5.242722           7.878800           7.478659   \n",
      "\n",
      "   split7_test_score  split8_test_score  split9_test_score  mean_test_score  \\\n",
      "0           6.040220           4.887598           3.554922         5.503638   \n",
      "1           6.098370           4.881777           3.472549         5.480400   \n",
      "2           6.367170           4.705849           3.382438         5.469886   \n",
      "3           7.592244           4.302997           3.798782         5.931931   \n",
      "4           7.993559           4.450260           4.147759         6.243347   \n",
      "\n",
      "   std_test_score  rank_test_score  \n",
      "0        1.320576                3  \n",
      "1        1.351858                4  \n",
      "2        1.428980                5  \n",
      "3        1.705047                2  \n",
      "4        1.779898                1  \n"
     ]
    }
   ],
   "source": [
    "print(pd.DataFrame.from_dict(clf.cv_results_).iloc[:, 5:20])"
   ]
  },
  {
   "cell_type": "markdown",
   "metadata": {},
   "source": [
    "## Save to csv"
   ]
  },
  {
   "cell_type": "code",
   "execution_count": 22,
   "metadata": {},
   "outputs": [],
   "source": [
    "scores.to_csv('../data/output_not_shuf_svd_no_intercept', index = False, header = False)"
   ]
  },
  {
   "cell_type": "markdown",
   "metadata": {},
   "source": [
    "## Results "
   ]
  },
  {
   "cell_type": "code",
   "execution_count": 13,
   "metadata": {},
   "outputs": [
    {
     "ename": "SyntaxError",
     "evalue": "invalid syntax (<ipython-input-13-cacc5e15a524>, line 2)",
     "output_type": "error",
     "traceback": [
      "\u001b[0;36m  File \u001b[0;32m\"<ipython-input-13-cacc5e15a524>\"\u001b[0;36m, line \u001b[0;32m2\u001b[0m\n\u001b[0;31m    5.501809 -> 5.396306 -> 5.542109 -> 6.058791 -> 5.888465 -> 5.572983 -> 5.503638\u001b[0m\n\u001b[0m             ^\u001b[0m\n\u001b[0;31mSyntaxError\u001b[0m\u001b[0;31m:\u001b[0m invalid syntax\n"
     ]
    }
   ],
   "source": [
    "# og data -> no seed shuf -> shuf seed 123 -> shuf 123 and sag 123 -> og data and sag 123 -> shuf seed 123, svd, no intercept -> no shuf, svd, no intercept\n",
    "5.501809 -> 5.396306 -> 5.542109 -> 6.058791 -> 5.888465 -> 5.572983 -> 5.503638\n",
    "5.499839 -> 5.444699 -> 5.556770 -> 6.058849 -> 5.888632 -> 5.561387 -> 5.480400\n",
    "5.483631 -> 5.439110 -> 5.561448 -> 6.060649 -> 5.889326 -> 5.549056 -> 5.469886\n",
    "5.636642 -> 5.573814 -> 5.773031 -> 6.051932 -> 5.901776 -> 5.981954 -> 5.931931\n",
    "5.721234 -> 5.656222 -> 5.863599 -> 6.039229 -> 5.916084 -> 6.255655 -> 6.243347"
   ]
  }
 ],
 "metadata": {
  "kernelspec": {
   "display_name": "Python 3",
   "language": "python",
   "name": "python3"
  },
  "language_info": {
   "codemirror_mode": {
    "name": "ipython",
    "version": 3
   },
   "file_extension": ".py",
   "mimetype": "text/x-python",
   "name": "python",
   "nbconvert_exporter": "python",
   "pygments_lexer": "ipython3",
   "version": "3.8.3"
  }
 },
 "nbformat": 4,
 "nbformat_minor": 4
}
