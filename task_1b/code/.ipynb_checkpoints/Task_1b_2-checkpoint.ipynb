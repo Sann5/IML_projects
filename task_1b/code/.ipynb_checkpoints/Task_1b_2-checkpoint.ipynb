{
 "cells": [
  {
   "cell_type": "markdown",
   "metadata": {},
   "source": [
    "# Introduction to Machine Learning - Task 1b\n",
    "\n",
    "Group name: Cbbayes\n",
    "\n",
    "Team members: mcolomer (mcolomer@student.ethz.ch), pratsink (pratsink@student.ethz.ch) and scastro (scastro@student.ethz.ch)\n",
    "\n",
    "Spring 2021"
   ]
  },
  {
   "cell_type": "markdown",
   "metadata": {},
   "source": [
    "## Import libraries"
   ]
  },
  {
   "cell_type": "code",
   "execution_count": 1,
   "metadata": {},
   "outputs": [],
   "source": [
    "import pandas as pd\n",
    "import numpy as np\n",
    "from sklearn.linear_model import LassoCV"
   ]
  },
  {
   "cell_type": "markdown",
   "metadata": {},
   "source": [
    "## Read data "
   ]
  },
  {
   "cell_type": "code",
   "execution_count": 2,
   "metadata": {},
   "outputs": [],
   "source": [
    "# Indicate the path to the data file\n",
    "path = \"../data/\"\n",
    "filename = \"train.csv\"\n",
    "train_data = pd.read_csv(path+filename)"
   ]
  },
  {
   "cell_type": "markdown",
   "metadata": {},
   "source": [
    "## Create new features"
   ]
  },
  {
   "cell_type": "code",
   "execution_count": 3,
   "metadata": {},
   "outputs": [],
   "source": [
    "# Quadratic features\n",
    "train_data[\"phi6\"] = train_data[\"x1\"]**2\n",
    "train_data[\"phi7\"] = train_data[\"x2\"]**2\n",
    "train_data[\"phi8\"] = train_data[\"x3\"]**2\n",
    "train_data[\"phi9\"] = train_data[\"x4\"]**2\n",
    "train_data[\"phi10\"] = train_data[\"x5\"]**2\n",
    "\n",
    "# Exponential features\n",
    "train_data[\"phi11\"] = np.exp(train_data[\"x1\"])\n",
    "train_data[\"phi12\"] = np.exp(train_data[\"x2\"])\n",
    "train_data[\"phi13\"] = np.exp(train_data[\"x3\"])\n",
    "train_data[\"phi14\"] = np.exp(train_data[\"x4\"])\n",
    "train_data[\"phi15\"] = np.exp(train_data[\"x5\"])\n",
    "\n",
    "# Cosine features\n",
    "train_data[\"phi16\"] = np.cos(train_data[\"x1\"])\n",
    "train_data[\"phi17\"] = np.cos(train_data[\"x2\"])\n",
    "train_data[\"phi18\"] = np.cos(train_data[\"x3\"])\n",
    "train_data[\"phi19\"] = np.cos(train_data[\"x4\"])\n",
    "train_data[\"phi20\"] = np.cos(train_data[\"x5\"])\n",
    "\n",
    "# Constant feature\n",
    "train_data[\"phi21\"] = 1                      \n",
    "\n",
    "# Selecting X and y\n",
    "X = train_data.iloc[:, 2:23].values          ## Select the features\n",
    "y = train_data.iloc[:,1].values              ## Select the response variable"
   ]
  },
  {
   "cell_type": "markdown",
   "metadata": {},
   "source": [
    "## Perform the regression"
   ]
  },
  {
   "cell_type": "code",
   "execution_count": null,
   "metadata": {
    "scrolled": true
   },
   "outputs": [],
   "source": [
    "reg = LassoCV(cv = 10,              ## Number of folds for the cross validation\n",
    "              random_state = 123,   ## Fixed seed for reproducible results\n",
    "              fit_intercept = False,## Set this parameter to false (we don't want a double intercept)\n",
    "              tol = 1e-5,           ## Error tolerance\n",
    "              max_iter = 1000000,   ## Number of iterations\n",
    "              eps = 1e-5,           ## Length of the regularization path: alpha_min / alpha_max = eps\n",
    "              n_alphas = 10000).fit(X, y) ## Number of alphas along the regularization path"
   ]
  },
  {
   "cell_type": "markdown",
   "metadata": {},
   "source": [
    "## Print results"
   ]
  },
  {
   "cell_type": "code",
   "execution_count": null,
   "metadata": {},
   "outputs": [],
   "source": [
    "reg.alpha_"
   ]
  },
  {
   "cell_type": "code",
   "execution_count": null,
   "metadata": {},
   "outputs": [],
   "source": [
    "reg.coef_"
   ]
  },
  {
   "cell_type": "markdown",
   "metadata": {},
   "source": [
    "## Save to output file"
   ]
  },
  {
   "cell_type": "code",
   "execution_count": null,
   "metadata": {},
   "outputs": [],
   "source": [
    "np.savetxt('../data/output_LassoCV_cv10_tol1e-5_eps1e-5_n_alphas10000_seed123.csv', reg.coef_, delimiter=\",\")"
   ]
  },
  {
   "cell_type": "code",
   "execution_count": null,
   "metadata": {},
   "outputs": [],
   "source": []
  }
 ],
 "metadata": {
  "kernelspec": {
   "display_name": "Python 3",
   "language": "python",
   "name": "python3"
  },
  "language_info": {
   "codemirror_mode": {
    "name": "ipython",
    "version": 3
   },
   "file_extension": ".py",
   "mimetype": "text/x-python",
   "name": "python",
   "nbconvert_exporter": "python",
   "pygments_lexer": "ipython3",
   "version": "3.7.4"
  }
 },
 "nbformat": 4,
 "nbformat_minor": 4
}
