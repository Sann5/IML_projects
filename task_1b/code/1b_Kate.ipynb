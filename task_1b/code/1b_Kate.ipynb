{
 "cells": [
  {
   "cell_type": "markdown",
   "metadata": {},
   "source": [
    "## IML - Task 1b"
   ]
  },
  {
   "cell_type": "markdown",
   "metadata": {},
   "source": [
    "### import libraries"
   ]
  },
  {
   "cell_type": "code",
   "execution_count": 43,
   "metadata": {},
   "outputs": [],
   "source": [
    "import numpy as np\n",
    "import pandas as pd\n",
    "from sklearn.linear_model import Lasso"
   ]
  },
  {
   "cell_type": "markdown",
   "metadata": {},
   "source": [
    "### import data"
   ]
  },
  {
   "cell_type": "code",
   "execution_count": 44,
   "metadata": {},
   "outputs": [],
   "source": [
    "path = \"../data/train.csv\"                            ## Select the path to the data file\n",
    "train_data = pd.read_csv(path)"
   ]
  },
  {
   "cell_type": "markdown",
   "metadata": {},
   "source": [
    "### transform variables\n",
    "##### quadratic transformation"
   ]
  },
  {
   "cell_type": "code",
   "execution_count": 45,
   "metadata": {},
   "outputs": [],
   "source": [
    "train_data[\"phi6\"] = train_data[\"x1\"]**2\n",
    "train_data[\"phi7\"] = train_data[\"x2\"]**2\n",
    "train_data[\"phi8\"] = train_data[\"x3\"]**2\n",
    "train_data[\"phi9\"] = train_data[\"x4\"]**2\n",
    "train_data[\"phi10\"] = train_data[\"x5\"]**2"
   ]
  },
  {
   "cell_type": "markdown",
   "metadata": {},
   "source": [
    "##### exponential transformation"
   ]
  },
  {
   "cell_type": "code",
   "execution_count": 46,
   "metadata": {},
   "outputs": [],
   "source": [
    "train_data[\"phi11\"] = np.exp(train_data[\"x1\"])\n",
    "train_data[\"phi12\"] = np.exp(train_data[\"x2\"])\n",
    "train_data[\"phi13\"] = np.exp(train_data[\"x3\"])\n",
    "train_data[\"phi14\"] = np.exp(train_data[\"x4\"])\n",
    "train_data[\"phi15\"] = np.exp(train_data[\"x5\"])"
   ]
  },
  {
   "cell_type": "markdown",
   "metadata": {},
   "source": [
    "##### cosine transformation"
   ]
  },
  {
   "cell_type": "code",
   "execution_count": 47,
   "metadata": {},
   "outputs": [],
   "source": [
    "train_data[\"phi16\"] = np.cos(train_data[\"x1\"])\n",
    "train_data[\"phi17\"] = np.cos(train_data[\"x2\"])\n",
    "train_data[\"phi18\"] = np.cos(train_data[\"x3\"])\n",
    "train_data[\"phi19\"] = np.cos(train_data[\"x4\"])\n",
    "train_data[\"phi20\"] = np.cos(train_data[\"x5\"])"
   ]
  },
  {
   "cell_type": "markdown",
   "metadata": {},
   "source": [
    "##### constant feature"
   ]
  },
  {
   "cell_type": "code",
   "execution_count": 50,
   "metadata": {},
   "outputs": [],
   "source": [
    "train_data[\"phi21\"] = 1"
   ]
  },
  {
   "cell_type": "markdown",
   "metadata": {},
   "source": [
    "### train data & perform regression"
   ]
  },
  {
   "cell_type": "code",
   "execution_count": 51,
   "metadata": {},
   "outputs": [
    {
     "name": "stdout",
     "output_type": "stream",
     "text": [
      "[ 0.          0.          0.          0.          0.         -0.\n",
      " -0.         -0.         -0.         -0.         -0.         -0.\n",
      " -0.         -0.         -0.         -0.         -0.         -1.14919089\n",
      " -0.         -1.52638247 -2.64329631]\n"
     ]
    },
    {
     "name": "stderr",
     "output_type": "stream",
     "text": [
      "/Users/katerinapratsinis/opt/anaconda3/lib/python3.7/site-packages/sklearn/linear_model/_coordinate_descent.py:476: ConvergenceWarning: Objective did not converge. You might want to increase the number of iterations. Duality gap: 6.1334332288925, tolerance: 3.0566464880308284\n",
      "  positive)\n"
     ]
    }
   ],
   "source": [
    "X = train_data.iloc[:, 2:].values\n",
    "y = train_data.iloc[:, 1].values\n",
    "reg = Lasso(random_state=1, fit_intercept = False).fit(X,y)\n",
    "scores = reg.coef_\n",
    "scores\n",
    "pd.DataFrame(scores).to_csv('output.csv', index = False, header = False)\n",
    "#np.savetxt('output.csv', scores, delimiter=\",\")\n",
    "print(scores) "
   ]
  },
  {
   "cell_type": "code",
   "execution_count": null,
   "metadata": {},
   "outputs": [],
   "source": []
  },
  {
   "cell_type": "code",
   "execution_count": null,
   "metadata": {},
   "outputs": [],
   "source": []
  },
  {
   "cell_type": "code",
   "execution_count": null,
   "metadata": {},
   "outputs": [],
   "source": []
  }
 ],
 "metadata": {
  "kernelspec": {
   "display_name": "Python 3",
   "language": "python",
   "name": "python3"
  },
  "language_info": {
   "codemirror_mode": {
    "name": "ipython",
    "version": 3
   },
   "file_extension": ".py",
   "mimetype": "text/x-python",
   "name": "python",
   "nbconvert_exporter": "python",
   "pygments_lexer": "ipython3",
   "version": "3.7.6"
  }
 },
 "nbformat": 4,
 "nbformat_minor": 4
}
