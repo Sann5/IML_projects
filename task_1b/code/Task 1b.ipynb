{
 "cells": [
  {
   "cell_type": "markdown",
   "metadata": {},
   "source": [
    "# Task 1b - Lasso Regression\n",
    "\n",
    "Group name: Cbbayes\n",
    "\n",
    "Team members: mcolomer (mcolomer@student.ethz.ch), pratsink (pratsink@student.ethz.ch) and scastro (scastro@student.ethz.ch)\n",
    "\n",
    "Spring 2021"
   ]
  },
  {
   "cell_type": "markdown",
   "metadata": {},
   "source": [
    "## Import libraries"
   ]
  },
  {
   "cell_type": "code",
   "execution_count": 4,
   "metadata": {},
   "outputs": [],
   "source": [
    "import pandas as pd\n",
    "import numpy as np\n",
    "from sklearn.linear_model import LassoCV"
   ]
  },
  {
   "cell_type": "markdown",
   "metadata": {},
   "source": [
    "## Read data "
   ]
  },
  {
   "cell_type": "code",
   "execution_count": 5,
   "metadata": {},
   "outputs": [],
   "source": [
    "path = \"../data/\" #path to the data\n",
    "filename = \"train.csv\"\n",
    "train_data = pd.read_csv(path+filename)"
   ]
  },
  {
   "cell_type": "markdown",
   "metadata": {},
   "source": [
    "## Create new features"
   ]
  },
  {
   "cell_type": "code",
   "execution_count": 6,
   "metadata": {},
   "outputs": [],
   "source": [
    "# Quadratic features\n",
    "train_data[\"phi6\"] = train_data[\"x1\"]**2\n",
    "train_data[\"phi7\"] = train_data[\"x2\"]**2\n",
    "train_data[\"phi8\"] = train_data[\"x3\"]**2\n",
    "train_data[\"phi9\"] = train_data[\"x4\"]**2\n",
    "train_data[\"phi10\"] = train_data[\"x5\"]**2\n",
    "\n",
    "# Exponential features\n",
    "train_data[\"phi11\"] = np.exp(train_data[\"x1\"])\n",
    "train_data[\"phi12\"] = np.exp(train_data[\"x2\"])\n",
    "train_data[\"phi13\"] = np.exp(train_data[\"x3\"])\n",
    "train_data[\"phi14\"] = np.exp(train_data[\"x4\"])\n",
    "train_data[\"phi15\"] = np.exp(train_data[\"x5\"])\n",
    "\n",
    "# Cosine features\n",
    "train_data[\"phi16\"] = np.cos(train_data[\"x1\"])\n",
    "train_data[\"phi17\"] = np.cos(train_data[\"x2\"])\n",
    "train_data[\"phi18\"] = np.cos(train_data[\"x3\"])\n",
    "train_data[\"phi19\"] = np.cos(train_data[\"x4\"])\n",
    "train_data[\"phi20\"] = np.cos(train_data[\"x5\"])\n",
    "\n",
    "# Constan features\n",
    "train_data[\"phi21\"] = 1                      ## leave this one out and just set intercept = true?\n",
    "\n",
    "X = train_data.iloc[:, 2:23].values          ## Select the featuers\n",
    "y = train_data.iloc[:,1].values              ## Select the response variable"
   ]
  },
  {
   "cell_type": "markdown",
   "metadata": {},
   "source": [
    "## Perform the regression"
   ]
  },
  {
   "cell_type": "code",
   "execution_count": null,
   "metadata": {
    "scrolled": true
   },
   "outputs": [
    {
     "name": "stderr",
     "output_type": "stream",
     "text": [
      "/opt/anaconda3/lib/python3.7/site-packages/sklearn/linear_model/coordinate_descent.py:471: ConvergenceWarning: Objective did not converge. You might want to increase the number of iterations. Duality gap: 0.3521985486977428, tolerance: 0.24840159577163506\n",
      "  tol, rng, random, positive)\n",
      "/opt/anaconda3/lib/python3.7/site-packages/sklearn/linear_model/coordinate_descent.py:471: ConvergenceWarning: Objective did not converge. You might want to increase the number of iterations. Duality gap: 0.3595105753934149, tolerance: 0.24840159577163506\n",
      "  tol, rng, random, positive)\n",
      "/opt/anaconda3/lib/python3.7/site-packages/sklearn/linear_model/coordinate_descent.py:471: ConvergenceWarning: Objective did not converge. You might want to increase the number of iterations. Duality gap: 0.3584804406805233, tolerance: 0.24840159577163506\n",
      "  tol, rng, random, positive)\n",
      "/opt/anaconda3/lib/python3.7/site-packages/sklearn/linear_model/coordinate_descent.py:471: ConvergenceWarning: Objective did not converge. You might want to increase the number of iterations. Duality gap: 0.3587759990941777, tolerance: 0.24840159577163506\n",
      "  tol, rng, random, positive)\n",
      "/opt/anaconda3/lib/python3.7/site-packages/sklearn/linear_model/coordinate_descent.py:471: ConvergenceWarning: Objective did not converge. You might want to increase the number of iterations. Duality gap: 0.35884746853571414, tolerance: 0.24840159577163506\n",
      "  tol, rng, random, positive)\n",
      "/opt/anaconda3/lib/python3.7/site-packages/sklearn/linear_model/coordinate_descent.py:471: ConvergenceWarning: Objective did not converge. You might want to increase the number of iterations. Duality gap: 0.3589615368791783, tolerance: 0.24840159577163506\n",
      "  tol, rng, random, positive)\n",
      "/opt/anaconda3/lib/python3.7/site-packages/sklearn/linear_model/coordinate_descent.py:471: ConvergenceWarning: Objective did not converge. You might want to increase the number of iterations. Duality gap: 0.3590468639595201, tolerance: 0.24840159577163506\n",
      "  tol, rng, random, positive)\n",
      "/opt/anaconda3/lib/python3.7/site-packages/sklearn/linear_model/coordinate_descent.py:471: ConvergenceWarning: Objective did not converge. You might want to increase the number of iterations. Duality gap: 0.35914751825384883, tolerance: 0.24840159577163506\n",
      "  tol, rng, random, positive)\n",
      "/opt/anaconda3/lib/python3.7/site-packages/sklearn/linear_model/coordinate_descent.py:471: ConvergenceWarning: Objective did not converge. You might want to increase the number of iterations. Duality gap: 0.35923910152087046, tolerance: 0.24840159577163506\n",
      "  tol, rng, random, positive)\n",
      "/opt/anaconda3/lib/python3.7/site-packages/sklearn/linear_model/coordinate_descent.py:471: ConvergenceWarning: Objective did not converge. You might want to increase the number of iterations. Duality gap: 0.35932379355199373, tolerance: 0.24840159577163506\n",
      "  tol, rng, random, positive)\n",
      "/opt/anaconda3/lib/python3.7/site-packages/sklearn/linear_model/coordinate_descent.py:471: ConvergenceWarning: Objective did not converge. You might want to increase the number of iterations. Duality gap: 0.3594120859679606, tolerance: 0.24840159577163506\n",
      "  tol, rng, random, positive)\n"
     ]
    }
   ],
   "source": [
    "reg = LassoCV(cv = 10,              ## Number of folds for the cross validation\n",
    "              random_state = 135,   ## Seed\n",
    "              fit_intercept = False,## Set this parameter to false (we dont want a double intercept)\n",
    "              tol = 1e-5,           ## Error tolerance\n",
    "              max_iter = 1000000,   ## Number of iterations\n",
    "              eps = 1e-5,           ## Length of the regularization path: alpha_min / alpha_max = eps\n",
    "              n_alphas = 10000).fit(X, y) ## Number of alphas along the regularization path"
   ]
  },
  {
   "cell_type": "markdown",
   "metadata": {},
   "source": [
    "## Print results"
   ]
  },
  {
   "cell_type": "code",
   "execution_count": 8,
   "metadata": {},
   "outputs": [
    {
     "data": {
      "text/plain": [
       "0.04397450383005953"
      ]
     },
     "execution_count": 8,
     "metadata": {},
     "output_type": "execute_result"
    }
   ],
   "source": [
    "reg.alpha_"
   ]
  },
  {
   "cell_type": "code",
   "execution_count": 9,
   "metadata": {},
   "outputs": [
    {
     "data": {
      "text/plain": [
       "array([ 0.        , -0.        , -0.        ,  0.        ,  0.        ,\n",
       "       -0.        ,  0.        ,  0.        , -0.        ,  0.        ,\n",
       "       -0.09197742, -1.65814318, -2.2531037 , -0.        , -0.        ,\n",
       "       -0.        , -1.1836988 , -0.        , -0.        , -1.29623341,\n",
       "       -0.        ])"
      ]
     },
     "execution_count": 9,
     "metadata": {},
     "output_type": "execute_result"
    }
   ],
   "source": [
    "reg.coef_"
   ]
  },
  {
   "cell_type": "code",
   "execution_count": 11,
   "metadata": {},
   "outputs": [
    {
     "data": {
      "text/plain": [
       "0.03289942795942505"
      ]
     },
     "execution_count": 11,
     "metadata": {},
     "output_type": "execute_result"
    }
   ],
   "source": [
    "reg.alpha_"
   ]
  },
  {
   "cell_type": "code",
   "execution_count": 12,
   "metadata": {},
   "outputs": [
    {
     "data": {
      "text/plain": [
       "array([ 0.        , -0.        , -0.        ,  0.        ,  0.        ,\n",
       "       -0.        ,  0.        ,  0.        , -0.        ,  0.        ,\n",
       "       -0.11291892, -1.68639576, -2.35908271, -0.        , -0.        ,\n",
       "       -0.        , -1.43591689, -0.        , -0.        , -0.90911938,\n",
       "       -0.        ])"
      ]
     },
     "execution_count": 12,
     "metadata": {},
     "output_type": "execute_result"
    }
   ],
   "source": [
    "reg.coef_"
   ]
  },
  {
   "cell_type": "markdown",
   "metadata": {},
   "source": [
    "## Save to output file"
   ]
  },
  {
   "cell_type": "code",
   "execution_count": 13,
   "metadata": {},
   "outputs": [],
   "source": [
    "np.savetxt('../data/output_LassoCV_cv5_tol1e-5_eps1e-5_n_alphas10000.csv', reg.coef_, delimiter=\",\")"
   ]
  },
  {
   "cell_type": "code",
   "execution_count": null,
   "metadata": {},
   "outputs": [],
   "source": []
  }
 ],
 "metadata": {
  "kernelspec": {
   "display_name": "Python 3",
   "language": "python",
   "name": "python3"
  },
  "language_info": {
   "codemirror_mode": {
    "name": "ipython",
    "version": 3
   },
   "file_extension": ".py",
   "mimetype": "text/x-python",
   "name": "python",
   "nbconvert_exporter": "python",
   "pygments_lexer": "ipython3",
   "version": "3.7.4"
  }
 },
 "nbformat": 4,
 "nbformat_minor": 4
}
