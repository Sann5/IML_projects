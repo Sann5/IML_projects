{
 "cells": [
  {
   "cell_type": "markdown",
   "metadata": {},
   "source": [
    "# Introduction to Machine Learning - Task 1a\n",
    "\n",
    "Group name: Cbbayes\n",
    "\n",
    "Team members: mcolomer (mcolomer@student.ethz.ch), pratsink (pratsink@student.ethz.ch) and scastro (scastro@student.ethz.ch)\n",
    "\n",
    "Spring 2021"
   ]
  },
  {
   "cell_type": "markdown",
   "metadata": {},
   "source": [
    "## Libraries import"
   ]
  },
  {
   "cell_type": "code",
   "execution_count": 1,
   "metadata": {},
   "outputs": [],
   "source": [
    "import pandas as pd\n",
    "import numpy as np\n",
    "from sklearn.linear_model import LinearRegression"
   ]
  },
  {
   "cell_type": "markdown",
   "metadata": {},
   "source": [
    "## Read input data "
   ]
  },
  {
   "cell_type": "code",
   "execution_count": 2,
   "metadata": {},
   "outputs": [
    {
     "data": {
      "text/html": [
       "<div>\n",
       "<style scoped>\n",
       "    .dataframe tbody tr th:only-of-type {\n",
       "        vertical-align: middle;\n",
       "    }\n",
       "\n",
       "    .dataframe tbody tr th {\n",
       "        vertical-align: top;\n",
       "    }\n",
       "\n",
       "    .dataframe thead th {\n",
       "        text-align: right;\n",
       "    }\n",
       "</style>\n",
       "<table border=\"1\" class=\"dataframe\">\n",
       "  <thead>\n",
       "    <tr style=\"text-align: right;\">\n",
       "      <th></th>\n",
       "      <th>Id</th>\n",
       "      <th>y</th>\n",
       "      <th>x1</th>\n",
       "      <th>x2</th>\n",
       "      <th>x3</th>\n",
       "      <th>x4</th>\n",
       "      <th>x5</th>\n",
       "    </tr>\n",
       "  </thead>\n",
       "  <tbody>\n",
       "    <tr>\n",
       "      <th>0</th>\n",
       "      <td>0</td>\n",
       "      <td>-6.822679</td>\n",
       "      <td>0.02</td>\n",
       "      <td>0.05</td>\n",
       "      <td>-0.09</td>\n",
       "      <td>-0.43</td>\n",
       "      <td>-0.08</td>\n",
       "    </tr>\n",
       "    <tr>\n",
       "      <th>1</th>\n",
       "      <td>1</td>\n",
       "      <td>-6.326290</td>\n",
       "      <td>-0.13</td>\n",
       "      <td>0.11</td>\n",
       "      <td>-0.08</td>\n",
       "      <td>-0.29</td>\n",
       "      <td>-0.03</td>\n",
       "    </tr>\n",
       "    <tr>\n",
       "      <th>2</th>\n",
       "      <td>2</td>\n",
       "      <td>-9.302728</td>\n",
       "      <td>0.08</td>\n",
       "      <td>0.06</td>\n",
       "      <td>-0.07</td>\n",
       "      <td>-0.41</td>\n",
       "      <td>-0.03</td>\n",
       "    </tr>\n",
       "    <tr>\n",
       "      <th>3</th>\n",
       "      <td>3</td>\n",
       "      <td>-7.371893</td>\n",
       "      <td>0.02</td>\n",
       "      <td>-0.12</td>\n",
       "      <td>0.01</td>\n",
       "      <td>-0.43</td>\n",
       "      <td>-0.02</td>\n",
       "    </tr>\n",
       "    <tr>\n",
       "      <th>4</th>\n",
       "      <td>4</td>\n",
       "      <td>-6.027647</td>\n",
       "      <td>-0.14</td>\n",
       "      <td>-0.12</td>\n",
       "      <td>-0.08</td>\n",
       "      <td>-0.02</td>\n",
       "      <td>-0.08</td>\n",
       "    </tr>\n",
       "    <tr>\n",
       "      <th>...</th>\n",
       "      <td>...</td>\n",
       "      <td>...</td>\n",
       "      <td>...</td>\n",
       "      <td>...</td>\n",
       "      <td>...</td>\n",
       "      <td>...</td>\n",
       "      <td>...</td>\n",
       "    </tr>\n",
       "    <tr>\n",
       "      <th>695</th>\n",
       "      <td>695</td>\n",
       "      <td>-6.147394</td>\n",
       "      <td>0.31</td>\n",
       "      <td>-0.09</td>\n",
       "      <td>0.04</td>\n",
       "      <td>-0.09</td>\n",
       "      <td>0.03</td>\n",
       "    </tr>\n",
       "    <tr>\n",
       "      <th>696</th>\n",
       "      <td>696</td>\n",
       "      <td>-6.214899</td>\n",
       "      <td>-0.26</td>\n",
       "      <td>-0.01</td>\n",
       "      <td>0.02</td>\n",
       "      <td>-0.40</td>\n",
       "      <td>0.05</td>\n",
       "    </tr>\n",
       "    <tr>\n",
       "      <th>697</th>\n",
       "      <td>697</td>\n",
       "      <td>-6.841341</td>\n",
       "      <td>-0.27</td>\n",
       "      <td>-0.22</td>\n",
       "      <td>-0.01</td>\n",
       "      <td>-0.32</td>\n",
       "      <td>-0.05</td>\n",
       "    </tr>\n",
       "    <tr>\n",
       "      <th>698</th>\n",
       "      <td>698</td>\n",
       "      <td>-6.523371</td>\n",
       "      <td>0.19</td>\n",
       "      <td>0.11</td>\n",
       "      <td>-0.05</td>\n",
       "      <td>-0.27</td>\n",
       "      <td>-0.04</td>\n",
       "    </tr>\n",
       "    <tr>\n",
       "      <th>699</th>\n",
       "      <td>699</td>\n",
       "      <td>-5.676683</td>\n",
       "      <td>-0.09</td>\n",
       "      <td>-0.09</td>\n",
       "      <td>-0.06</td>\n",
       "      <td>-0.41</td>\n",
       "      <td>-0.06</td>\n",
       "    </tr>\n",
       "  </tbody>\n",
       "</table>\n",
       "<p>700 rows × 7 columns</p>\n",
       "</div>"
      ],
      "text/plain": [
       "      Id         y    x1    x2    x3    x4    x5\n",
       "0      0 -6.822679  0.02  0.05 -0.09 -0.43 -0.08\n",
       "1      1 -6.326290 -0.13  0.11 -0.08 -0.29 -0.03\n",
       "2      2 -9.302728  0.08  0.06 -0.07 -0.41 -0.03\n",
       "3      3 -7.371893  0.02 -0.12  0.01 -0.43 -0.02\n",
       "4      4 -6.027647 -0.14 -0.12 -0.08 -0.02 -0.08\n",
       "..   ...       ...   ...   ...   ...   ...   ...\n",
       "695  695 -6.147394  0.31 -0.09  0.04 -0.09  0.03\n",
       "696  696 -6.214899 -0.26 -0.01  0.02 -0.40  0.05\n",
       "697  697 -6.841341 -0.27 -0.22 -0.01 -0.32 -0.05\n",
       "698  698 -6.523371  0.19  0.11 -0.05 -0.27 -0.04\n",
       "699  699 -5.676683 -0.09 -0.09 -0.06 -0.41 -0.06\n",
       "\n",
       "[700 rows x 7 columns]"
      ]
     },
     "execution_count": 2,
     "metadata": {},
     "output_type": "execute_result"
    }
   ],
   "source": [
    "path = \"../data/\"                            ## Select the path to the data file\n",
    "filename = \"train.csv\"                 \n",
    "train_data = pd.read_csv(path+filename)\n",
    "train_data"
   ]
  },
  {
   "cell_type": "markdown",
   "metadata": {},
   "source": [
    "## Create new features"
   ]
  },
  {
   "cell_type": "code",
   "execution_count": 3,
   "metadata": {},
   "outputs": [],
   "source": [
    "# Quadratic features\n",
    "train_data[\"phi6\"] = train_data[\"x1\"]**2\n",
    "train_data[\"phi7\"] = train_data[\"x2\"]**2\n",
    "train_data[\"phi8\"] = train_data[\"x3\"]**2\n",
    "train_data[\"phi9\"] = train_data[\"x4\"]**2\n",
    "train_data[\"phi10\"] = train_data[\"x5\"]**2\n",
    "\n",
    "# Exponential features\n",
    "train_data[\"phi11\"] = np.exp(train_data[\"x1\"])\n",
    "train_data[\"phi12\"] = np.exp(train_data[\"x2\"])\n",
    "train_data[\"phi13\"] = np.exp(train_data[\"x3\"])\n",
    "train_data[\"phi14\"] = np.exp(train_data[\"x4\"])\n",
    "train_data[\"phi15\"] = np.exp(train_data[\"x5\"])\n",
    "\n",
    "# Cosine features\n",
    "train_data[\"phi16\"] = np.cos(train_data[\"x1\"])\n",
    "train_data[\"phi17\"] = np.cos(train_data[\"x2\"])\n",
    "train_data[\"phi18\"] = np.cos(train_data[\"x3\"])\n",
    "train_data[\"phi19\"] = np.cos(train_data[\"x4\"])\n",
    "train_data[\"phi20\"] = np.cos(train_data[\"x5\"])\n",
    "# Constan features\n",
    "\n",
    "train_data[\"phi21\"] = 1"
   ]
  },
  {
   "cell_type": "markdown",
   "metadata": {},
   "source": [
    "## Train a linear model and determine the weights of the features"
   ]
  },
  {
   "cell_type": "code",
   "execution_count": 5,
   "metadata": {},
   "outputs": [],
   "source": [
    "X = train_data.iloc[:, 2:23].values          ## Select the featuers\n",
    "y = train_data.iloc[:,1].values              ## Select the class labels\n",
    "reg = LinearRegression().fit(X, y)\n",
    "coeficients = reg.coef_\n",
    "pd.DataFrame(coeficients).to_csv(\"output.csv\", index = False, header = False)\n"
   ]
  },
  {
   "cell_type": "code",
   "execution_count": 6,
   "metadata": {},
   "outputs": [
    {
     "name": "stdout",
     "output_type": "stream",
     "text": [
      "[   87.19891672   -67.27010868    28.53822965   158.07550392\n",
      "  -819.69642957   200.04958807  -393.54175642  1953.26216012\n",
      "  -523.63288817  1518.93422167   -86.60565699    65.34027498\n",
      "   -30.9921308   -155.77167729   822.10809668   327.109988\n",
      "  -737.64020339  3890.6703122  -1211.22831197  3799.82175151\n",
      "     0.        ]\n"
     ]
    }
   ],
   "source": [
    "print(coeficients)"
   ]
  },
  {
   "cell_type": "code",
   "execution_count": null,
   "metadata": {},
   "outputs": [],
   "source": []
  }
 ],
 "metadata": {
  "kernelspec": {
   "display_name": "Python 3",
   "language": "python",
   "name": "python3"
  },
  "language_info": {
   "codemirror_mode": {
    "name": "ipython",
    "version": 3
   },
   "file_extension": ".py",
   "mimetype": "text/x-python",
   "name": "python",
   "nbconvert_exporter": "python",
   "pygments_lexer": "ipython3",
   "version": "3.8.3"
  }
 },
 "nbformat": 4,
 "nbformat_minor": 4
}
