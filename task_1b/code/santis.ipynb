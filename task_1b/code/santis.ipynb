{
 "cells": [
  {
   "cell_type": "markdown",
   "metadata": {},
   "source": [
    "# Task 1b - Lasso Regression\n",
    "\n",
    "Group name: Cbbayes\n",
    "\n",
    "Team members: mcolomer (mcolomer@student.ethz.ch), pratsink (pratsink@student.ethz.ch) and scastro (scastro@student.ethz.ch)\n",
    "\n",
    "Spring 2021"
   ]
  },
  {
   "cell_type": "markdown",
   "metadata": {},
   "source": [
    "## Import libraries"
   ]
  },
  {
   "cell_type": "code",
   "execution_count": 193,
   "metadata": {},
   "outputs": [],
   "source": [
    "import pandas as pd\n",
    "import numpy as np\n",
    "from sklearn.linear_model import LassoCV"
   ]
  },
  {
   "cell_type": "markdown",
   "metadata": {},
   "source": [
    "## Read data "
   ]
  },
  {
   "cell_type": "code",
   "execution_count": 194,
   "metadata": {},
   "outputs": [],
   "source": [
    "path = \"../data/train.csv\"                 \n",
    "train_data = pd.read_csv(path)"
   ]
  },
  {
   "cell_type": "markdown",
   "metadata": {},
   "source": [
    "## Create new features"
   ]
  },
  {
   "cell_type": "code",
   "execution_count": 195,
   "metadata": {},
   "outputs": [],
   "source": [
    "# Quadratic features\n",
    "train_data[\"phi6\"] = train_data[\"x1\"]**2\n",
    "train_data[\"phi7\"] = train_data[\"x2\"]**2\n",
    "train_data[\"phi8\"] = train_data[\"x3\"]**2\n",
    "train_data[\"phi9\"] = train_data[\"x4\"]**2\n",
    "train_data[\"phi10\"] = train_data[\"x5\"]**2\n",
    "\n",
    "# Exponential features\n",
    "train_data[\"phi11\"] = np.exp(train_data[\"x1\"])\n",
    "train_data[\"phi12\"] = np.exp(train_data[\"x2\"])\n",
    "train_data[\"phi13\"] = np.exp(train_data[\"x3\"])\n",
    "train_data[\"phi14\"] = np.exp(train_data[\"x4\"])\n",
    "train_data[\"phi15\"] = np.exp(train_data[\"x5\"])\n",
    "\n",
    "# Cosine features\n",
    "train_data[\"phi16\"] = np.cos(train_data[\"x1\"])\n",
    "train_data[\"phi17\"] = np.cos(train_data[\"x2\"])\n",
    "train_data[\"phi18\"] = np.cos(train_data[\"x3\"])\n",
    "train_data[\"phi19\"] = np.cos(train_data[\"x4\"])\n",
    "train_data[\"phi20\"] = np.cos(train_data[\"x5\"])\n",
    "\n",
    "# Constan features\n",
    "train_data[\"phi21\"] = 1                      ## leave this one out and just set intercept = true?\n",
    "\n",
    "X = train_data.iloc[:, 2:23].values          ## Select the featuers\n",
    "y = train_data.iloc[:,1].values              ## Select the response variable"
   ]
  },
  {
   "cell_type": "markdown",
   "metadata": {},
   "source": [
    "## Perform the regression"
   ]
  },
  {
   "cell_type": "code",
   "execution_count": 196,
   "metadata": {
    "scrolled": true
   },
   "outputs": [],
   "source": [
    "reg = LassoCV(cv = 10, \n",
    "              random_state = 123, \n",
    "              fit_intercept = False).fit(X, y)"
   ]
  },
  {
   "cell_type": "markdown",
   "metadata": {},
   "source": [
    "## Print results"
   ]
  },
  {
   "cell_type": "code",
   "execution_count": 197,
   "metadata": {},
   "outputs": [
    {
     "data": {
      "text/plain": [
       "0.031396867232323517"
      ]
     },
     "execution_count": 197,
     "metadata": {},
     "output_type": "execute_result"
    }
   ],
   "source": [
    "reg.alpha_"
   ]
  },
  {
   "cell_type": "code",
   "execution_count": 198,
   "metadata": {},
   "outputs": [
    {
     "data": {
      "text/plain": [
       "array([ 0.        , -0.        , -0.        ,  0.        ,  0.        ,\n",
       "       -0.        ,  0.        ,  0.        , -0.        ,  0.        ,\n",
       "       -0.10137445, -1.71216951, -2.40316992, -0.        , -0.        ,\n",
       "       -0.73873707, -1.54598259, -0.        , -0.        , -0.01323461,\n",
       "       -0.        ])"
      ]
     },
     "execution_count": 198,
     "metadata": {},
     "output_type": "execute_result"
    }
   ],
   "source": [
    "reg.coef_"
   ]
  },
  {
   "cell_type": "markdown",
   "metadata": {},
   "source": [
    "## Save to output file"
   ]
  },
  {
   "cell_type": "code",
   "execution_count": 199,
   "metadata": {},
   "outputs": [],
   "source": [
    "np.savetxt('../data/output_using_LassoCV_cv10_seed123.csv', reg.coef_, delimiter=\",\")"
   ]
  },
  {
   "cell_type": "code",
   "execution_count": null,
   "metadata": {},
   "outputs": [],
   "source": []
  }
 ],
 "metadata": {
  "kernelspec": {
   "display_name": "Python 3",
   "language": "python",
   "name": "python3"
  },
  "language_info": {
   "codemirror_mode": {
    "name": "ipython",
    "version": 3
   },
   "file_extension": ".py",
   "mimetype": "text/x-python",
   "name": "python",
   "nbconvert_exporter": "python",
   "pygments_lexer": "ipython3",
   "version": "3.8.3"
  }
 },
 "nbformat": 4,
 "nbformat_minor": 4
}
