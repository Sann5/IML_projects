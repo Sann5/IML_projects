{
 "cells": [
  {
   "cell_type": "markdown",
   "metadata": {},
   "source": [
    "# Task 2, Subtask 1"
   ]
  },
  {
   "cell_type": "markdown",
   "metadata": {},
   "source": [
    "## Import libreries"
   ]
  },
  {
   "cell_type": "code",
   "execution_count": 1,
   "metadata": {},
   "outputs": [],
   "source": [
    "import pandas as pd\n",
    "import numpy as np\n",
    "from sklearn.experimental import enable_hist_gradient_boosting  # noqa\n",
    "from sklearn.ensemble import HistGradientBoostingClassifier\n",
    "import sklearn.metrics as metrics\n",
    "import time"
   ]
  },
  {
   "cell_type": "markdown",
   "metadata": {},
   "source": [
    "## Start timer"
   ]
  },
  {
   "cell_type": "code",
   "execution_count": 2,
   "metadata": {},
   "outputs": [],
   "source": [
    "start_time = time.time()"
   ]
  },
  {
   "cell_type": "markdown",
   "metadata": {},
   "source": [
    "## Read data"
   ]
  },
  {
   "cell_type": "code",
   "execution_count": 3,
   "metadata": {},
   "outputs": [],
   "source": [
    "## We read the already normalized and imputed data \n",
    "test_feat_path = \"../data/test_features_imp.csv\" \n",
    "train_feat_path = \"../data/train_features_imp.csv\" \n",
    "train_lab_path = \"../data/train_labels.csv\"\n",
    "test_feat = pd.read_csv(test_feat_path)\n",
    "train_feat = pd.read_csv(train_feat_path)\n",
    "train_lab = pd.read_csv(train_lab_path)\n",
    "\n",
    "## Order data to make sure that rows in X and Y match\n",
    "test_feat.sort_values(by=['pid'], inplace = True, ignore_index = True)\n",
    "train_feat.sort_values(by=['pid'], inplace = True, ignore_index = True)\n",
    "train_lab.sort_values(by=['pid'], inplace = True, ignore_index = True)\n",
    "\n",
    "## Get labels\n",
    "labels_ids = ['LABEL_BaseExcess', 'LABEL_Fibrinogen', 'LABEL_AST',\n",
    "              'LABEL_Alkalinephos', 'LABEL_Bilirubin_total', \n",
    "              'LABEL_Lactate', 'LABEL_TroponinI', 'LABEL_SaO2',\n",
    "              'LABEL_Bilirubin_direct', 'LABEL_EtCO2']\n",
    "\n",
    "## Select relevant label columns and exclude the pid column, and sample rows\n",
    "X_test = test_feat.iloc[:, 1:272].values\n",
    "X_train = train_feat.iloc[:, 1:272].values\n",
    "Y_train = train_lab[labels_ids].to_numpy()"
   ]
  },
  {
   "cell_type": "markdown",
   "metadata": {},
   "source": [
    "## Histogram-based Gradient Boosting Classification Tree\n",
    "### Subtask 1"
   ]
  },
  {
   "cell_type": "code",
   "execution_count": 4,
   "metadata": {},
   "outputs": [
    {
     "name": "stdout",
     "output_type": "stream",
     "text": [
      "ROC AUC scores for each label and training score on probabilities:\n",
      "0.9373635209479475   0.9753031880702936\n",
      "0.7549797077922078   0.9026598465473147\n",
      "0.7412113646304126   0.852573851830949\n",
      "0.7613488278569883   0.8731191490363147\n",
      "0.73456405403889   0.8339599224844418\n",
      "0.8192191828254848   0.8619365002020938\n",
      "0.8664142813173283   0.9300488203798855\n",
      "0.8372654935154936   0.9118233959642607\n",
      "0.7361366421568627   0.9384280088989346\n",
      "0.9490929577464788   0.9949929011335982\n"
     ]
    }
   ],
   "source": [
    "output = pd.DataFrame({'pid': test_feat.iloc[:, 0].values})\n",
    "print(\"ROC AUC scores for each label and training score on probabilities:\")\n",
    "for i, label in enumerate(labels_ids):\n",
    "    clf = HistGradientBoostingClassifier(scoring = 'roc_auc', random_state = 123).fit(X_train, Y_train[:, i])\n",
    "    print(clf.validation_score_[np.size(clf.validation_score_) - 1], \" \", metrics.roc_auc_score(Y_train[:, i], clf.predict_proba(X_train)[:, 1], average='micro'))\n",
    "    output[label] = clf.predict_proba(X_test)[:, 1]"
   ]
  },
  {
   "cell_type": "markdown",
   "metadata": {},
   "source": [
    "### Subtask 2"
   ]
  },
  {
   "cell_type": "code",
   "execution_count": 5,
   "metadata": {},
   "outputs": [
    {
     "name": "stdout",
     "output_type": "stream",
     "text": [
      "ROC AUC scores for each label and training score on probabilities:\n",
      "0.7436315112770785   0.952782749680539\n"
     ]
    }
   ],
   "source": [
    "Y_train = train_lab['LABEL_Sepsis'].to_numpy()\n",
    "\n",
    "print(\"ROC AUC scores for each label and training score on probabilities:\")\n",
    "\n",
    "clf = HistGradientBoostingClassifier(scoring = 'roc_auc', random_state = 123).fit(X_train, Y_train)\n",
    "print(clf.validation_score_[np.size(clf.validation_score_) - 1], \" \", metrics.roc_auc_score(Y_train, clf.predict_proba(X_train)[:, 1], average='micro'))\n",
    "\n",
    "output['LABEL_Sepsis'] = clf.predict_proba(X_test)[:, 1]"
   ]
  },
  {
   "cell_type": "markdown",
   "metadata": {},
   "source": [
    "## Write probabilities to output"
   ]
  },
  {
   "cell_type": "code",
   "execution_count": 6,
   "metadata": {},
   "outputs": [
    {
     "data": {
      "text/html": [
       "<div>\n",
       "<style scoped>\n",
       "    .dataframe tbody tr th:only-of-type {\n",
       "        vertical-align: middle;\n",
       "    }\n",
       "\n",
       "    .dataframe tbody tr th {\n",
       "        vertical-align: top;\n",
       "    }\n",
       "\n",
       "    .dataframe thead th {\n",
       "        text-align: right;\n",
       "    }\n",
       "</style>\n",
       "<table border=\"1\" class=\"dataframe\">\n",
       "  <thead>\n",
       "    <tr style=\"text-align: right;\">\n",
       "      <th></th>\n",
       "      <th>pid</th>\n",
       "      <th>LABEL_BaseExcess</th>\n",
       "      <th>LABEL_Fibrinogen</th>\n",
       "      <th>LABEL_AST</th>\n",
       "      <th>LABEL_Alkalinephos</th>\n",
       "      <th>LABEL_Bilirubin_total</th>\n",
       "      <th>LABEL_Lactate</th>\n",
       "      <th>LABEL_TroponinI</th>\n",
       "      <th>LABEL_SaO2</th>\n",
       "      <th>LABEL_Bilirubin_direct</th>\n",
       "      <th>LABEL_EtCO2</th>\n",
       "      <th>LABEL_Sepsis</th>\n",
       "    </tr>\n",
       "  </thead>\n",
       "  <tbody>\n",
       "    <tr>\n",
       "      <th>0</th>\n",
       "      <td>0</td>\n",
       "      <td>0.914906</td>\n",
       "      <td>0.513746</td>\n",
       "      <td>0.842769</td>\n",
       "      <td>0.819782</td>\n",
       "      <td>0.790402</td>\n",
       "      <td>0.491066</td>\n",
       "      <td>0.075179</td>\n",
       "      <td>0.297925</td>\n",
       "      <td>0.040125</td>\n",
       "      <td>0.002910</td>\n",
       "      <td>0.128961</td>\n",
       "    </tr>\n",
       "    <tr>\n",
       "      <th>1</th>\n",
       "      <td>3</td>\n",
       "      <td>0.010101</td>\n",
       "      <td>0.060852</td>\n",
       "      <td>0.246728</td>\n",
       "      <td>0.205171</td>\n",
       "      <td>0.136316</td>\n",
       "      <td>0.055908</td>\n",
       "      <td>0.042676</td>\n",
       "      <td>0.059464</td>\n",
       "      <td>0.021740</td>\n",
       "      <td>0.012837</td>\n",
       "      <td>0.019549</td>\n",
       "    </tr>\n",
       "    <tr>\n",
       "      <th>2</th>\n",
       "      <td>5</td>\n",
       "      <td>0.033072</td>\n",
       "      <td>0.046898</td>\n",
       "      <td>0.128559</td>\n",
       "      <td>0.179086</td>\n",
       "      <td>0.133181</td>\n",
       "      <td>0.068252</td>\n",
       "      <td>0.067896</td>\n",
       "      <td>0.058745</td>\n",
       "      <td>0.022675</td>\n",
       "      <td>0.022711</td>\n",
       "      <td>0.030466</td>\n",
       "    </tr>\n",
       "    <tr>\n",
       "      <th>3</th>\n",
       "      <td>7</td>\n",
       "      <td>0.844867</td>\n",
       "      <td>0.815086</td>\n",
       "      <td>0.897217</td>\n",
       "      <td>0.960052</td>\n",
       "      <td>0.910483</td>\n",
       "      <td>0.468831</td>\n",
       "      <td>0.061377</td>\n",
       "      <td>0.496812</td>\n",
       "      <td>0.340772</td>\n",
       "      <td>0.011140</td>\n",
       "      <td>0.075632</td>\n",
       "    </tr>\n",
       "    <tr>\n",
       "      <th>4</th>\n",
       "      <td>9</td>\n",
       "      <td>0.086911</td>\n",
       "      <td>0.073689</td>\n",
       "      <td>0.252036</td>\n",
       "      <td>0.277729</td>\n",
       "      <td>0.287920</td>\n",
       "      <td>0.096186</td>\n",
       "      <td>0.073415</td>\n",
       "      <td>0.069117</td>\n",
       "      <td>0.014736</td>\n",
       "      <td>0.000683</td>\n",
       "      <td>0.031630</td>\n",
       "    </tr>\n",
       "    <tr>\n",
       "      <th>...</th>\n",
       "      <td>...</td>\n",
       "      <td>...</td>\n",
       "      <td>...</td>\n",
       "      <td>...</td>\n",
       "      <td>...</td>\n",
       "      <td>...</td>\n",
       "      <td>...</td>\n",
       "      <td>...</td>\n",
       "      <td>...</td>\n",
       "      <td>...</td>\n",
       "      <td>...</td>\n",
       "      <td>...</td>\n",
       "    </tr>\n",
       "    <tr>\n",
       "      <th>12659</th>\n",
       "      <td>31647</td>\n",
       "      <td>0.026496</td>\n",
       "      <td>0.062178</td>\n",
       "      <td>0.141386</td>\n",
       "      <td>0.170821</td>\n",
       "      <td>0.126407</td>\n",
       "      <td>0.065149</td>\n",
       "      <td>0.067896</td>\n",
       "      <td>0.050096</td>\n",
       "      <td>0.015539</td>\n",
       "      <td>0.001867</td>\n",
       "      <td>0.015392</td>\n",
       "    </tr>\n",
       "    <tr>\n",
       "      <th>12660</th>\n",
       "      <td>31649</td>\n",
       "      <td>0.798826</td>\n",
       "      <td>0.070331</td>\n",
       "      <td>0.405186</td>\n",
       "      <td>0.380808</td>\n",
       "      <td>0.375513</td>\n",
       "      <td>0.684463</td>\n",
       "      <td>0.042917</td>\n",
       "      <td>0.241261</td>\n",
       "      <td>0.022399</td>\n",
       "      <td>0.005445</td>\n",
       "      <td>0.043661</td>\n",
       "    </tr>\n",
       "    <tr>\n",
       "      <th>12661</th>\n",
       "      <td>31651</td>\n",
       "      <td>0.599231</td>\n",
       "      <td>0.045610</td>\n",
       "      <td>0.213162</td>\n",
       "      <td>0.183221</td>\n",
       "      <td>0.167425</td>\n",
       "      <td>0.132979</td>\n",
       "      <td>0.069538</td>\n",
       "      <td>0.302960</td>\n",
       "      <td>0.013578</td>\n",
       "      <td>0.001275</td>\n",
       "      <td>0.063752</td>\n",
       "    </tr>\n",
       "    <tr>\n",
       "      <th>12662</th>\n",
       "      <td>31652</td>\n",
       "      <td>0.010771</td>\n",
       "      <td>0.045973</td>\n",
       "      <td>0.231386</td>\n",
       "      <td>0.202682</td>\n",
       "      <td>0.264693</td>\n",
       "      <td>0.062295</td>\n",
       "      <td>0.105402</td>\n",
       "      <td>0.031817</td>\n",
       "      <td>0.016451</td>\n",
       "      <td>0.049580</td>\n",
       "      <td>0.024161</td>\n",
       "    </tr>\n",
       "    <tr>\n",
       "      <th>12663</th>\n",
       "      <td>31655</td>\n",
       "      <td>0.038998</td>\n",
       "      <td>0.107205</td>\n",
       "      <td>0.263377</td>\n",
       "      <td>0.200347</td>\n",
       "      <td>0.206094</td>\n",
       "      <td>0.102689</td>\n",
       "      <td>0.591748</td>\n",
       "      <td>0.147497</td>\n",
       "      <td>0.028919</td>\n",
       "      <td>0.020054</td>\n",
       "      <td>0.044556</td>\n",
       "    </tr>\n",
       "  </tbody>\n",
       "</table>\n",
       "<p>12664 rows × 12 columns</p>\n",
       "</div>"
      ],
      "text/plain": [
       "         pid  LABEL_BaseExcess  LABEL_Fibrinogen  LABEL_AST  \\\n",
       "0          0          0.914906          0.513746   0.842769   \n",
       "1          3          0.010101          0.060852   0.246728   \n",
       "2          5          0.033072          0.046898   0.128559   \n",
       "3          7          0.844867          0.815086   0.897217   \n",
       "4          9          0.086911          0.073689   0.252036   \n",
       "...      ...               ...               ...        ...   \n",
       "12659  31647          0.026496          0.062178   0.141386   \n",
       "12660  31649          0.798826          0.070331   0.405186   \n",
       "12661  31651          0.599231          0.045610   0.213162   \n",
       "12662  31652          0.010771          0.045973   0.231386   \n",
       "12663  31655          0.038998          0.107205   0.263377   \n",
       "\n",
       "       LABEL_Alkalinephos  LABEL_Bilirubin_total  LABEL_Lactate  \\\n",
       "0                0.819782               0.790402       0.491066   \n",
       "1                0.205171               0.136316       0.055908   \n",
       "2                0.179086               0.133181       0.068252   \n",
       "3                0.960052               0.910483       0.468831   \n",
       "4                0.277729               0.287920       0.096186   \n",
       "...                   ...                    ...            ...   \n",
       "12659            0.170821               0.126407       0.065149   \n",
       "12660            0.380808               0.375513       0.684463   \n",
       "12661            0.183221               0.167425       0.132979   \n",
       "12662            0.202682               0.264693       0.062295   \n",
       "12663            0.200347               0.206094       0.102689   \n",
       "\n",
       "       LABEL_TroponinI  LABEL_SaO2  LABEL_Bilirubin_direct  LABEL_EtCO2  \\\n",
       "0             0.075179    0.297925                0.040125     0.002910   \n",
       "1             0.042676    0.059464                0.021740     0.012837   \n",
       "2             0.067896    0.058745                0.022675     0.022711   \n",
       "3             0.061377    0.496812                0.340772     0.011140   \n",
       "4             0.073415    0.069117                0.014736     0.000683   \n",
       "...                ...         ...                     ...          ...   \n",
       "12659         0.067896    0.050096                0.015539     0.001867   \n",
       "12660         0.042917    0.241261                0.022399     0.005445   \n",
       "12661         0.069538    0.302960                0.013578     0.001275   \n",
       "12662         0.105402    0.031817                0.016451     0.049580   \n",
       "12663         0.591748    0.147497                0.028919     0.020054   \n",
       "\n",
       "       LABEL_Sepsis  \n",
       "0          0.128961  \n",
       "1          0.019549  \n",
       "2          0.030466  \n",
       "3          0.075632  \n",
       "4          0.031630  \n",
       "...             ...  \n",
       "12659      0.015392  \n",
       "12660      0.043661  \n",
       "12661      0.063752  \n",
       "12662      0.024161  \n",
       "12663      0.044556  \n",
       "\n",
       "[12664 rows x 12 columns]"
      ]
     },
     "execution_count": 6,
     "metadata": {},
     "output_type": "execute_result"
    }
   ],
   "source": [
    "output"
   ]
  },
  {
   "cell_type": "code",
   "execution_count": 7,
   "metadata": {},
   "outputs": [],
   "source": [
    "output.to_csv('../output/subtask_1_output', index = False, header = True)"
   ]
  },
  {
   "cell_type": "markdown",
   "metadata": {},
   "source": [
    "## Runtime"
   ]
  },
  {
   "cell_type": "code",
   "execution_count": 8,
   "metadata": {},
   "outputs": [
    {
     "name": "stdout",
     "output_type": "stream",
     "text": [
      "--- 0.5912911335627238 minutes ---\n"
     ]
    }
   ],
   "source": [
    "print(\"--- %s minutes ---\" % ((time.time() - start_time)/60))"
   ]
  },
  {
   "cell_type": "markdown",
   "metadata": {},
   "source": [
    "## Results Log"
   ]
  },
  {
   "cell_type": "markdown",
   "metadata": {},
   "source": [
    "|   | C | kernel | gamma | weight | features | n_features | F1 score | AUC | runtime (min) |\n",
    "|---|---|---|---|---|---|---|---|---|---|\n",
    "| run_1 |  1 |  rbf | scale  |  balanced |  median for NA's and mean  | 35 | 0.598165656150447 | ? | 33 |\n",
    "| run_2 |  1 |  rbf | scale  |  balanced |  median for NA's and mean, max, min, median, sd  | 170 | 0.628216870267411 |?| 102 |\n",
    "| run_3 |  1 |  rbf | scale  |  balanced |  median for NA's and mean, max, min, median, sd, range, skw, kurt  | 272 | 0.649372121402984 | 0.8236937992110356 | 141 |\n",
    "| run_4 |  HGBC |  HGBC | HGBC |  HGBC |  median for NA's and mean, max, min, median, sd, range, skw, kurt  | 272 | 0.871097657278231 | 0.8222653647930391 | 0.5 |"
   ]
  }
 ],
 "metadata": {
  "kernelspec": {
   "display_name": "Python 3",
   "language": "python",
   "name": "python3"
  },
  "language_info": {
   "codemirror_mode": {
    "name": "ipython",
    "version": 3
   },
   "file_extension": ".py",
   "mimetype": "text/x-python",
   "name": "python",
   "nbconvert_exporter": "python",
   "pygments_lexer": "ipython3",
   "version": "3.8.3"
  }
 },
 "nbformat": 4,
 "nbformat_minor": 4
}
