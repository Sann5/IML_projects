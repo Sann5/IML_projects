{
 "cells": [
  {
   "cell_type": "markdown",
   "metadata": {},
   "source": [
    "# CV for multilabel classifer\n",
    "## IML task 2, subtask 1"
   ]
  },
  {
   "cell_type": "markdown",
   "metadata": {},
   "source": [
    "### Import libreries"
   ]
  },
  {
   "cell_type": "code",
   "execution_count": 1,
   "metadata": {},
   "outputs": [],
   "source": [
    "import pandas as pd\n",
    "import numpy as np\n",
    "from skmultilearn.problem_transform import BinaryRelevance\n",
    "from sklearn.ensemble import RandomForestClassifier\n",
    "from sklearn.experimental import enable_hist_gradient_boosting  # noqa\n",
    "from sklearn.ensemble import HistGradientBoostingClassifier\n",
    "from sklearn.svm import SVC\n",
    "from sklearn.metrics import f1_score, roc_auc_score\n",
    "from sklearn.model_selection import GridSearchCV\n",
    "import time"
   ]
  },
  {
   "cell_type": "code",
   "execution_count": 2,
   "metadata": {},
   "outputs": [],
   "source": [
    "## Start timer\n",
    "start_time = time.time()"
   ]
  },
  {
   "cell_type": "markdown",
   "metadata": {},
   "source": [
    "### Read data"
   ]
  },
  {
   "cell_type": "code",
   "execution_count": 3,
   "metadata": {},
   "outputs": [],
   "source": [
    "## We read the already normalized and imputed data \n",
    "train_feat_path = \"../data/train_features_imp.csv\" \n",
    "train_lab_path = \"../data/train_labels.csv\"\n",
    "train_feat = pd.read_csv(train_feat_path)\n",
    "train_lab = pd.read_csv(train_lab_path)\n",
    "\n",
    "## Order data to make sure that rows in X and Y match\n",
    "train_feat.sort_values(by=['pid'], inplace = True, ignore_index = True)\n",
    "train_lab.sort_values(by=['pid'], inplace = True, ignore_index = True)\n",
    "\n",
    "## Join data \n",
    "train_Y_X = pd.merge(train_lab, train_feat,\n",
    "                     on='pid', \n",
    "                     how='left')"
   ]
  },
  {
   "cell_type": "code",
   "execution_count": 4,
   "metadata": {},
   "outputs": [],
   "source": [
    "## Sample rows\n",
    "train_Y_X = train_Y_X.sample(frac=1, random_state=123).reset_index(drop=True) "
   ]
  },
  {
   "cell_type": "code",
   "execution_count": 5,
   "metadata": {},
   "outputs": [],
   "source": [
    "## Select relevant label columns and exclude the pid column, and sample rows\n",
    "Y_train = train_Y_X.iloc[:,1:10].values \n",
    "X_train = train_Y_X.iloc[:, 11:287].values"
   ]
  },
  {
   "cell_type": "markdown",
   "metadata": {},
   "source": [
    "### Define clasifiers for CV search"
   ]
  },
  {
   "cell_type": "markdown",
   "metadata": {},
   "source": [
    "// Comented out for now\n",
    "parameters = {'classifier': [SVC(class_weight = 'balanced')],\n",
    "              'classifier__kernel':('linear', 'rbf'), \n",
    "              'classifier__C':[1e-4, 1e-3, 1e-2, 1e-1, 1, 10, 100, 1000]}\n",
    "\n",
    "clf = GridSearchCV(BinaryRelevance(require_dense = [False, True]), \n",
    "                   parameters, \n",
    "                   scoring='f1_micro',\n",
    "                   refit = True, \n",
    "                   cv = 5)\n",
    "clf.fit(X_train, Y_train)                   "
   ]
  },
  {
   "cell_type": "markdown",
   "metadata": {},
   "source": [
    "### Check out HGBC classification"
   ]
  },
  {
   "cell_type": "code",
   "execution_count": 6,
   "metadata": {},
   "outputs": [
    {
     "data": {
      "text/plain": [
       "GridSearchCV(cv=5, estimator=BinaryRelevance(require_dense=[True, True]),\n",
       "             param_grid={'classifier': [HistGradientBoostingClassifier()]},\n",
       "             scoring='f1_micro')"
      ]
     },
     "execution_count": 6,
     "metadata": {},
     "output_type": "execute_result"
    }
   ],
   "source": [
    "parameters = {'classifier': [HistGradientBoostingClassifier()]}\n",
    "\n",
    "clf_2 = GridSearchCV(BinaryRelevance(), \n",
    "                     parameters, \n",
    "                     scoring='f1_micro',\n",
    "                     refit = True, \n",
    "                     cv = 5)\n",
    "clf_2.fit(X_train, Y_train)"
   ]
  },
  {
   "cell_type": "code",
   "execution_count": 7,
   "metadata": {},
   "outputs": [
    {
     "name": "stdout",
     "output_type": "stream",
     "text": [
      "--- 3.1024815519650777 minutes ---\n"
     ]
    }
   ],
   "source": [
    "print(\"--- %s minutes ---\" % ((time.time() - start_time)/60))"
   ]
  },
  {
   "cell_type": "code",
   "execution_count": 10,
   "metadata": {},
   "outputs": [
    {
     "data": {
      "text/plain": [
       "{'mean_fit_time': array([29.86903682]),\n",
       " 'std_fit_time': array([2.3831427]),\n",
       " 'mean_score_time': array([0.06750159]),\n",
       " 'std_score_time': array([0.01126375]),\n",
       " 'param_classifier': masked_array(data=[HistGradientBoostingClassifier()],\n",
       "              mask=[False],\n",
       "        fill_value='?',\n",
       "             dtype=object),\n",
       " 'params': [{'classifier': HistGradientBoostingClassifier()}],\n",
       " 'split0_test_score': array([0.52329749]),\n",
       " 'split1_test_score': array([0.51466138]),\n",
       " 'split2_test_score': array([0.52488414]),\n",
       " 'split3_test_score': array([0.51771735]),\n",
       " 'split4_test_score': array([0.51457649]),\n",
       " 'mean_test_score': array([0.51902737]),\n",
       " 'std_test_score': array([0.00431565]),\n",
       " 'rank_test_score': array([1], dtype=int32)}"
      ]
     },
     "execution_count": 10,
     "metadata": {},
     "output_type": "execute_result"
    }
   ],
   "source": [
    "clf_2.cv_results_"
   ]
  },
  {
   "cell_type": "code",
   "execution_count": 8,
   "metadata": {},
   "outputs": [
    {
     "name": "stdout",
     "output_type": "stream",
     "text": [
      "--- 0.005346028010050455 minutes ---\n"
     ]
    }
   ],
   "source": [
    "start_time = time.time()\n",
    "probs = clf_2.predict_proba(X_train)\n",
    "print(\"--- %s minutes ---\" % ((time.time() - start_time)/60))"
   ]
  },
  {
   "cell_type": "code",
   "execution_count": 9,
   "metadata": {},
   "outputs": [
    {
     "data": {
      "text/html": [
       "<div>\n",
       "<style scoped>\n",
       "    .dataframe tbody tr th:only-of-type {\n",
       "        vertical-align: middle;\n",
       "    }\n",
       "\n",
       "    .dataframe tbody tr th {\n",
       "        vertical-align: top;\n",
       "    }\n",
       "\n",
       "    .dataframe thead th {\n",
       "        text-align: right;\n",
       "    }\n",
       "</style>\n",
       "<table border=\"1\" class=\"dataframe\">\n",
       "  <thead>\n",
       "    <tr style=\"text-align: right;\">\n",
       "      <th></th>\n",
       "      <th>0</th>\n",
       "      <th>1</th>\n",
       "      <th>2</th>\n",
       "      <th>3</th>\n",
       "      <th>4</th>\n",
       "      <th>5</th>\n",
       "      <th>6</th>\n",
       "      <th>7</th>\n",
       "      <th>8</th>\n",
       "    </tr>\n",
       "  </thead>\n",
       "  <tbody>\n",
       "    <tr>\n",
       "      <th>0</th>\n",
       "      <td>0.020026</td>\n",
       "      <td>0.026184</td>\n",
       "      <td>0.193926</td>\n",
       "      <td>0.228685</td>\n",
       "      <td>0.226696</td>\n",
       "      <td>0.104676</td>\n",
       "      <td>0.065354</td>\n",
       "      <td>0.143798</td>\n",
       "      <td>0.010756</td>\n",
       "    </tr>\n",
       "    <tr>\n",
       "      <th>1</th>\n",
       "      <td>0.753678</td>\n",
       "      <td>0.036173</td>\n",
       "      <td>0.047086</td>\n",
       "      <td>0.036587</td>\n",
       "      <td>0.034599</td>\n",
       "      <td>0.168151</td>\n",
       "      <td>0.006931</td>\n",
       "      <td>0.902905</td>\n",
       "      <td>0.005964</td>\n",
       "    </tr>\n",
       "    <tr>\n",
       "      <th>2</th>\n",
       "      <td>0.205001</td>\n",
       "      <td>0.031768</td>\n",
       "      <td>0.203492</td>\n",
       "      <td>0.183848</td>\n",
       "      <td>0.176394</td>\n",
       "      <td>0.084961</td>\n",
       "      <td>0.016710</td>\n",
       "      <td>0.056815</td>\n",
       "      <td>0.011960</td>\n",
       "    </tr>\n",
       "    <tr>\n",
       "      <th>3</th>\n",
       "      <td>0.583477</td>\n",
       "      <td>0.015332</td>\n",
       "      <td>0.190372</td>\n",
       "      <td>0.178453</td>\n",
       "      <td>0.178158</td>\n",
       "      <td>0.291343</td>\n",
       "      <td>0.008091</td>\n",
       "      <td>0.108516</td>\n",
       "      <td>0.013026</td>\n",
       "    </tr>\n",
       "    <tr>\n",
       "      <th>4</th>\n",
       "      <td>0.007158</td>\n",
       "      <td>0.031569</td>\n",
       "      <td>0.298229</td>\n",
       "      <td>0.429707</td>\n",
       "      <td>0.555056</td>\n",
       "      <td>0.065348</td>\n",
       "      <td>0.385772</td>\n",
       "      <td>0.044772</td>\n",
       "      <td>0.011028</td>\n",
       "    </tr>\n",
       "    <tr>\n",
       "      <th>...</th>\n",
       "      <td>...</td>\n",
       "      <td>...</td>\n",
       "      <td>...</td>\n",
       "      <td>...</td>\n",
       "      <td>...</td>\n",
       "      <td>...</td>\n",
       "      <td>...</td>\n",
       "      <td>...</td>\n",
       "      <td>...</td>\n",
       "    </tr>\n",
       "    <tr>\n",
       "      <th>18990</th>\n",
       "      <td>0.069637</td>\n",
       "      <td>0.017585</td>\n",
       "      <td>0.163667</td>\n",
       "      <td>0.130233</td>\n",
       "      <td>0.146484</td>\n",
       "      <td>0.047072</td>\n",
       "      <td>0.016720</td>\n",
       "      <td>0.035916</td>\n",
       "      <td>0.010320</td>\n",
       "    </tr>\n",
       "    <tr>\n",
       "      <th>18991</th>\n",
       "      <td>0.292982</td>\n",
       "      <td>0.070242</td>\n",
       "      <td>0.470243</td>\n",
       "      <td>0.430541</td>\n",
       "      <td>0.392089</td>\n",
       "      <td>0.133853</td>\n",
       "      <td>0.008342</td>\n",
       "      <td>0.297786</td>\n",
       "      <td>0.038633</td>\n",
       "    </tr>\n",
       "    <tr>\n",
       "      <th>18992</th>\n",
       "      <td>0.761684</td>\n",
       "      <td>0.017030</td>\n",
       "      <td>0.063067</td>\n",
       "      <td>0.066066</td>\n",
       "      <td>0.025187</td>\n",
       "      <td>0.103107</td>\n",
       "      <td>0.015392</td>\n",
       "      <td>0.611873</td>\n",
       "      <td>0.006373</td>\n",
       "    </tr>\n",
       "    <tr>\n",
       "      <th>18993</th>\n",
       "      <td>0.252504</td>\n",
       "      <td>0.042099</td>\n",
       "      <td>0.701177</td>\n",
       "      <td>0.704101</td>\n",
       "      <td>0.877943</td>\n",
       "      <td>0.439551</td>\n",
       "      <td>0.007122</td>\n",
       "      <td>0.062641</td>\n",
       "      <td>0.022764</td>\n",
       "    </tr>\n",
       "    <tr>\n",
       "      <th>18994</th>\n",
       "      <td>0.433480</td>\n",
       "      <td>0.032594</td>\n",
       "      <td>0.074279</td>\n",
       "      <td>0.076874</td>\n",
       "      <td>0.087711</td>\n",
       "      <td>0.144178</td>\n",
       "      <td>0.007636</td>\n",
       "      <td>0.144176</td>\n",
       "      <td>0.007438</td>\n",
       "    </tr>\n",
       "  </tbody>\n",
       "</table>\n",
       "<p>18995 rows × 9 columns</p>\n",
       "</div>"
      ],
      "text/plain": [
       "              0         1         2         3         4         5         6  \\\n",
       "0      0.020026  0.026184  0.193926  0.228685  0.226696  0.104676  0.065354   \n",
       "1      0.753678  0.036173  0.047086  0.036587  0.034599  0.168151  0.006931   \n",
       "2      0.205001  0.031768  0.203492  0.183848  0.176394  0.084961  0.016710   \n",
       "3      0.583477  0.015332  0.190372  0.178453  0.178158  0.291343  0.008091   \n",
       "4      0.007158  0.031569  0.298229  0.429707  0.555056  0.065348  0.385772   \n",
       "...         ...       ...       ...       ...       ...       ...       ...   \n",
       "18990  0.069637  0.017585  0.163667  0.130233  0.146484  0.047072  0.016720   \n",
       "18991  0.292982  0.070242  0.470243  0.430541  0.392089  0.133853  0.008342   \n",
       "18992  0.761684  0.017030  0.063067  0.066066  0.025187  0.103107  0.015392   \n",
       "18993  0.252504  0.042099  0.701177  0.704101  0.877943  0.439551  0.007122   \n",
       "18994  0.433480  0.032594  0.074279  0.076874  0.087711  0.144178  0.007636   \n",
       "\n",
       "              7         8  \n",
       "0      0.143798  0.010756  \n",
       "1      0.902905  0.005964  \n",
       "2      0.056815  0.011960  \n",
       "3      0.108516  0.013026  \n",
       "4      0.044772  0.011028  \n",
       "...         ...       ...  \n",
       "18990  0.035916  0.010320  \n",
       "18991  0.297786  0.038633  \n",
       "18992  0.611873  0.006373  \n",
       "18993  0.062641  0.022764  \n",
       "18994  0.144176  0.007438  \n",
       "\n",
       "[18995 rows x 9 columns]"
      ]
     },
     "execution_count": 9,
     "metadata": {},
     "output_type": "execute_result"
    }
   ],
   "source": [
    "pd.DataFrame(probs.toarray())"
   ]
  }
 ],
 "metadata": {
  "kernelspec": {
   "display_name": "Python 3",
   "language": "python",
   "name": "python3"
  },
  "language_info": {
   "codemirror_mode": {
    "name": "ipython",
    "version": 3
   },
   "file_extension": ".py",
   "mimetype": "text/x-python",
   "name": "python",
   "nbconvert_exporter": "python",
   "pygments_lexer": "ipython3",
   "version": "3.8.3"
  }
 },
 "nbformat": 4,
 "nbformat_minor": 4
}
