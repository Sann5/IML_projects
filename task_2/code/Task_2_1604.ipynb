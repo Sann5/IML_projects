{
 "cells": [
  {
   "cell_type": "markdown",
   "metadata": {},
   "source": [
    "# Introduction to Machine Learning - Task 2\n",
    "\n",
    "Group name: Cbbayes\n",
    "\n",
    "Team members: mcolomer (mcolomer@student.ethz.ch), pratsink (pratsink@student.ethz.ch) and scastro (scastro@student.ethz.ch)\n",
    "\n",
    "Spring 2021"
   ]
  },
  {
   "cell_type": "markdown",
   "metadata": {},
   "source": [
    "## Import libraries"
   ]
  },
  {
   "cell_type": "code",
   "execution_count": 1,
   "metadata": {},
   "outputs": [],
   "source": [
    "import pandas as pd\n",
    "import numpy as np"
   ]
  },
  {
   "cell_type": "markdown",
   "metadata": {},
   "source": [
    "## Read data "
   ]
  },
  {
   "cell_type": "code",
   "execution_count": 9,
   "metadata": {},
   "outputs": [],
   "source": [
    "# Indicate the path to the data file\n",
    "path = \"../data/\"\n",
    "\n",
    "train_features = pd.read_csv(path+\"train_features.csv\")\n",
    "train_labels = pd.read_csv(path+\"train_labels.csv\")\n",
    "test_features = pd.read_csv(path+\"test_features.csv\")\n"
   ]
  },
  {
   "cell_type": "markdown",
   "metadata": {},
   "source": [
    "## Description of the train features:\n",
    "\n",
    "All medical measurements are not available at each timestep, meaning the data contains a lot of missing values, indicated with ‘nan’ in our case. To simplify the problem, the data is already re-sampled hourly. This means that we aggregate measurements by one-hour period, thus there are only 12 rows for a given patient in the corresponding .csv file.\n",
    "\n",
    "Either vital signs such as the Heart rate, or lab tests such as Calcium level in the patient blood. Finally, you are provided with the Age of the patient which is the same during the entire stay.\n"
   ]
  },
  {
   "cell_type": "code",
   "execution_count": 3,
   "metadata": {},
   "outputs": [
    {
     "name": "stdout",
     "output_type": "stream",
     "text": [
      "EtCO2\n",
      "PTT\n",
      "BUN\n",
      "Lactate\n",
      "Temp\n",
      "Hgb\n",
      "HCO3\n",
      "BaseExcess\n",
      "RRate\n",
      "Fibrinogen\n",
      "Phosphate\n",
      "WBC\n",
      "Creatinine\n",
      "PaCO2\n",
      "AST\n",
      "FiO2\n",
      "Platelets\n",
      "SaO2\n",
      "Glucose\n",
      "ABPm\n",
      "Magnesium\n",
      "Potassium\n",
      "ABPd\n",
      "Calcium\n",
      "Alkalinephos\n",
      "SpO2\n",
      "Bilirubin_direct\n",
      "Chloride\n",
      "Hct\n",
      "Heartrate\n",
      "Bilirubin_total\n",
      "TroponinI\n",
      "ABPs\n",
      "pH\n"
     ]
    }
   ],
   "source": [
    "## Feature engineering\n",
    "feature_labels = list(train_features.columns)\n",
    "feature_labels = ['EtCO2', 'PTT', 'BUN','Lactate',\n",
    " 'Temp', 'Hgb', 'HCO3', 'BaseExcess','RRate','Fibrinogen', 'Phosphate',\n",
    "'WBC', 'Creatinine', 'PaCO2', 'AST','FiO2','Platelets','SaO2',\n",
    " 'Glucose', 'ABPm', 'Magnesium',\n",
    " 'Potassium', 'ABPd','Calcium', 'Alkalinephos',\n",
    " 'SpO2', 'Bilirubin_direct', 'Chloride', 'Hct',\n",
    " 'Heartrate', 'Bilirubin_total', 'TroponinI', 'ABPs','pH']\n",
    "\n",
    "def create_lag(dataset, feature):\n",
    "    #Create a lag and a median feature\n",
    "    column_lag = feature+\"_lag\"\n",
    "    column_median = feature+\"_median\"\n",
    "    dataset[column_lag] = dataset.groupby(['pid'])[feature].diff()\n",
    "    dataset[column_median] = dataset.groupby(['pid'])[feature].median()\n",
    "\n",
    "    return dataset\n",
    "\n",
    "X_train = train_features.copy()\n",
    "X_test = test_features.copy()\n",
    "\n",
    "\n",
    "for feature in feature_labels:\n",
    "    print(feature)\n",
    "    X_train[feature].fillna(X_train.groupby(\"pid\")[feature].transform('median'))\n",
    "    X_test[feature].fillna(X_test.groupby(\"pid\")[feature].transform('median'))\n",
    "    X_train = create_lag(X_train, feature)\n",
    "    X_test = create_lag(X_test, feature)\n",
    "    \n",
    "X_train = X_train.fillna(X_train.median())\n",
    "X_test = X_test.fillna(X_test.median())\n",
    "\n",
    "X_train = X_train.groupby(by=[\"pid\"]).mean()\n",
    "X_test = X_test.groupby(by=[\"pid\"]).mean()"
   ]
  },
  {
   "cell_type": "markdown",
   "metadata": {},
   "source": [
    "## Description of the train labels:\n",
    "\n",
    "### SubTask 1) Produce (probabilistic) real-valued predictions in the interval [0, 1].\n",
    "The corresponding columns containing the binary ground truth in train_labels.csv are: LABEL_BaseExcess, LABEL_Fibrinogen, LABEL_AST, LABEL_Alkalinephos, LABEL_Bilirubin_total, LABEL_Lactate, LABEL_TroponinI, LABEL_SaO2, LABEL_Bilirubin_direct, LABEL_EtCO2.\n",
    "\n",
    "### SubTask 2) Binary: 0 or 1\n",
    "The corresponding column containing the binary ground-truth in train_labels.csv is LABEL_Sepsis.\n",
    "\n",
    "Note: for subtasks 1 and 2, you will need to produce predictions in the interval [0, 1]. How can you achieve this with an SVM? In the lecture, you have seen that the SVM prediction for binary classification is \n",
    "sign. In order to produce real-valued predictions in the interval [0, 1] with SVM, you can replace the \n",
    "sign function by the sigmoid function.\n",
    "\n",
    "### SubTask 3) Regression \n",
    "The corresponding columns containing the real-valued ground truth in train_labels.csv are: LABEL_RRate, LABEL_ABPm, LABEL_SpO2, LABEL_Heartrate.\n",
    "\n",
    "\n",
    "\n",
    "**Additional notes**: Both train_features.csv and test_features.csv contain missing values ('nan' entries). An important part of this project is how to deal with such missing data (known as '**data imputation**' in the ML literature) and **feature engineering** (what features can you extract from measurements taken in consecutive hours, etc.)\n",
    "\n",
    "Ideas:\n",
    "\n",
    "For SubTask 1a and 1b -> Engineer new features, perform SVM\n",
    "\n",
    "For SubTask 1c -> Regression, take into account we need to output the values of the features at hour 13\n"
   ]
  },
  {
   "cell_type": "markdown",
   "metadata": {},
   "source": [
    "## Dealing with NaN\n",
    "\n",
    "Finally, we could fill the gaps. This is called data imputation and there are many strategies that could be used to fill the gaps. Three methods that may perform well include:\n",
    "\n",
    "Persisting the last observed value forward (linear).\n",
    "Use the median value for the hour of day within the chunk.\n",
    "Use the median value for the hour of day across chunks.\n"
   ]
  },
  {
   "cell_type": "markdown",
   "metadata": {},
   "source": [
    "## Subtask 1a\n",
    "\n",
    "Produce (probabilistic) real-valued predictions in the interval [0, 1].\n",
    "The corresponding columns containing the binary ground truth in train_labels.csv are: LABEL_BaseExcess, LABEL_Fibrinogen, LABEL_AST, LABEL_Alkalinephos, LABEL_Bilirubin_total, LABEL_Lactate, LABEL_TroponinI, LABEL_SaO2, LABEL_Bilirubin_direct, LABEL_EtCO2.\n",
    "\n"
   ]
  },
  {
   "cell_type": "code",
   "execution_count": 10,
   "metadata": {},
   "outputs": [
    {
     "name": "stdout",
     "output_type": "stream",
     "text": [
      "LABEL_BaseExcess\n"
     ]
    },
    {
     "name": "stderr",
     "output_type": "stream",
     "text": [
      "/opt/anaconda3/lib/python3.7/site-packages/sklearn/ensemble/forest.py:245: FutureWarning: The default value of n_estimators will change from 10 in version 0.20 to 100 in 0.22.\n",
      "  \"10 in version 0.20 to 100 in 0.22.\", FutureWarning)\n"
     ]
    },
    {
     "name": "stdout",
     "output_type": "stream",
     "text": [
      "[0. 1.]\n",
      "LABEL_Fibrinogen\n"
     ]
    },
    {
     "name": "stderr",
     "output_type": "stream",
     "text": [
      "/opt/anaconda3/lib/python3.7/site-packages/sklearn/ensemble/forest.py:245: FutureWarning: The default value of n_estimators will change from 10 in version 0.20 to 100 in 0.22.\n",
      "  \"10 in version 0.20 to 100 in 0.22.\", FutureWarning)\n"
     ]
    },
    {
     "name": "stdout",
     "output_type": "stream",
     "text": [
      "[0. 1.]\n",
      "LABEL_AST\n"
     ]
    },
    {
     "name": "stderr",
     "output_type": "stream",
     "text": [
      "/opt/anaconda3/lib/python3.7/site-packages/sklearn/ensemble/forest.py:245: FutureWarning: The default value of n_estimators will change from 10 in version 0.20 to 100 in 0.22.\n",
      "  \"10 in version 0.20 to 100 in 0.22.\", FutureWarning)\n"
     ]
    },
    {
     "name": "stdout",
     "output_type": "stream",
     "text": [
      "[0. 1.]\n",
      "LABEL_Alkalinephos\n"
     ]
    },
    {
     "name": "stderr",
     "output_type": "stream",
     "text": [
      "/opt/anaconda3/lib/python3.7/site-packages/sklearn/ensemble/forest.py:245: FutureWarning: The default value of n_estimators will change from 10 in version 0.20 to 100 in 0.22.\n",
      "  \"10 in version 0.20 to 100 in 0.22.\", FutureWarning)\n"
     ]
    },
    {
     "name": "stdout",
     "output_type": "stream",
     "text": [
      "[0. 1.]\n",
      "LABEL_Bilirubin_total\n"
     ]
    },
    {
     "name": "stderr",
     "output_type": "stream",
     "text": [
      "/opt/anaconda3/lib/python3.7/site-packages/sklearn/ensemble/forest.py:245: FutureWarning: The default value of n_estimators will change from 10 in version 0.20 to 100 in 0.22.\n",
      "  \"10 in version 0.20 to 100 in 0.22.\", FutureWarning)\n"
     ]
    },
    {
     "name": "stdout",
     "output_type": "stream",
     "text": [
      "[0. 1.]\n",
      "LABEL_Lactate\n"
     ]
    },
    {
     "name": "stderr",
     "output_type": "stream",
     "text": [
      "/opt/anaconda3/lib/python3.7/site-packages/sklearn/ensemble/forest.py:245: FutureWarning: The default value of n_estimators will change from 10 in version 0.20 to 100 in 0.22.\n",
      "  \"10 in version 0.20 to 100 in 0.22.\", FutureWarning)\n"
     ]
    },
    {
     "name": "stdout",
     "output_type": "stream",
     "text": [
      "[0. 1.]\n",
      "LABEL_TroponinI\n"
     ]
    },
    {
     "name": "stderr",
     "output_type": "stream",
     "text": [
      "/opt/anaconda3/lib/python3.7/site-packages/sklearn/ensemble/forest.py:245: FutureWarning: The default value of n_estimators will change from 10 in version 0.20 to 100 in 0.22.\n",
      "  \"10 in version 0.20 to 100 in 0.22.\", FutureWarning)\n"
     ]
    },
    {
     "name": "stdout",
     "output_type": "stream",
     "text": [
      "[0. 1.]\n",
      "LABEL_SaO2\n"
     ]
    },
    {
     "name": "stderr",
     "output_type": "stream",
     "text": [
      "/opt/anaconda3/lib/python3.7/site-packages/sklearn/ensemble/forest.py:245: FutureWarning: The default value of n_estimators will change from 10 in version 0.20 to 100 in 0.22.\n",
      "  \"10 in version 0.20 to 100 in 0.22.\", FutureWarning)\n"
     ]
    },
    {
     "name": "stdout",
     "output_type": "stream",
     "text": [
      "[0. 1.]\n",
      "LABEL_Bilirubin_direct\n"
     ]
    },
    {
     "name": "stderr",
     "output_type": "stream",
     "text": [
      "/opt/anaconda3/lib/python3.7/site-packages/sklearn/ensemble/forest.py:245: FutureWarning: The default value of n_estimators will change from 10 in version 0.20 to 100 in 0.22.\n",
      "  \"10 in version 0.20 to 100 in 0.22.\", FutureWarning)\n"
     ]
    },
    {
     "name": "stdout",
     "output_type": "stream",
     "text": [
      "[0. 1.]\n",
      "LABEL_EtCO2\n"
     ]
    },
    {
     "name": "stderr",
     "output_type": "stream",
     "text": [
      "/opt/anaconda3/lib/python3.7/site-packages/sklearn/ensemble/forest.py:245: FutureWarning: The default value of n_estimators will change from 10 in version 0.20 to 100 in 0.22.\n",
      "  \"10 in version 0.20 to 100 in 0.22.\", FutureWarning)\n"
     ]
    },
    {
     "name": "stdout",
     "output_type": "stream",
     "text": [
      "[0. 1.]\n",
      "LABEL_Sepsis\n"
     ]
    },
    {
     "name": "stderr",
     "output_type": "stream",
     "text": [
      "/opt/anaconda3/lib/python3.7/site-packages/sklearn/ensemble/forest.py:245: FutureWarning: The default value of n_estimators will change from 10 in version 0.20 to 100 in 0.22.\n",
      "  \"10 in version 0.20 to 100 in 0.22.\", FutureWarning)\n"
     ]
    },
    {
     "name": "stdout",
     "output_type": "stream",
     "text": [
      "LABEL_RRate\n",
      "LABEL_ABPm\n",
      "LABEL_SpO2\n",
      "LABEL_Heartrate\n"
     ]
    }
   ],
   "source": [
    "from sklearn.svm import LinearSVC\n",
    "from sklearn.pipeline import make_pipeline\n",
    "from sklearn.preprocessing import StandardScaler\n",
    "from sklearn.ensemble import RandomForestClassifier\n",
    "from sklearn import linear_model\n",
    "\n",
    "\n",
    "\n",
    "def fit_RFC_prob(X_train, y_train, X_test):\n",
    "    \"\"\"Probabilistic values from\n",
    "    random forest for predicting\n",
    "    the regression features\"\"\"\n",
    "    clf = RandomForestClassifier()\n",
    "    clf.fit(X_train, y_train)\n",
    "    predicted = clf.predict_proba(X_test)\n",
    "    return predicted[:,1] #Choose probabilistic values for class 1\n",
    "\n",
    "def fit_RFC(X_train, y_train, X_test):\n",
    "    \"\"\"Random forest for predicting\n",
    "    the regression features\"\"\"\n",
    "    clf = RandomForestClassifier()\n",
    "    clf.fit(X_train, y_train)\n",
    "    predicted = clf.predict(X_test)\n",
    "    return predicted\n",
    "\n",
    "\n",
    "def fit_Lasso(X_train, y_train, X_test):\n",
    "    \"\"\"Lasso regressor for predicting\n",
    "    the regression features\"\"\"\n",
    "    clf = linear_model.Lasso(alpha=0.1)\n",
    "    clf.fit(X_train, y_train)\n",
    "    predicted = clf.predict(X_test)\n",
    "    return predicted\n",
    "\n",
    "\n",
    "#Create the output dataframe\n",
    "output_dataframe = test_features.groupby(by=[\"pid\"], as_index=False).mean()\n",
    "\n",
    "\n",
    "\n",
    "labels_a = [\"LABEL_BaseExcess\", \"LABEL_Fibrinogen\", \n",
    "          \"LABEL_AST\", \"LABEL_Alkalinephos\", \"LABEL_Bilirubin_total\", \n",
    "          \"LABEL_Lactate\", \"LABEL_TroponinI\", \"LABEL_SaO2\", \"LABEL_Bilirubin_direct\", \"LABEL_EtCO2\"]\n",
    "\n",
    "\n",
    "for feature in labels_a:\n",
    "    print(feature)\n",
    "    y_train = train_labels[feature]\n",
    "    output_dataframe[feature] = fit_RFC_prob(X_train, y_train, X_test)\n",
    "    \n",
    "labels_b = [\"LABEL_Sepsis\"]\n",
    "\n",
    "for feature in labels_b:\n",
    "    print(feature)\n",
    "    y_train = train_labels[feature]\n",
    "    output_dataframe[feature] = fit_RFC(X_train, y_train, X_test)\n",
    "    \n",
    "labels_c = [\"LABEL_RRate\", \"LABEL_ABPm\", \"LABEL_SpO2\", \"LABEL_Heartrate\"]\n",
    "\n",
    "\n",
    "for feature in labels_c:\n",
    "    print(feature)\n",
    "    y_train = train_labels[feature]\n",
    "    output_dataframe[feature] = fit_Lasso(X_train, y_train, X_test)\n",
    "    "
   ]
  },
  {
   "cell_type": "code",
   "execution_count": 12,
   "metadata": {},
   "outputs": [],
   "source": [
    "#Create output file\n",
    "\n",
    "output_columns = [\"pid\"]+labels_a+labels_b+labels_c\n",
    "sample = pd.read_csv(path+\"sample.csv\")\n",
    "\n",
    "output_columns = list(sample.columns)\n",
    "output = output_dataframe[output_columns]\n",
    "output.to_csv(\"../output/\"+'prediction_5.zip', index=False, float_format='%.3f', compression='zip')"
   ]
  },
  {
   "cell_type": "code",
   "execution_count": 13,
   "metadata": {},
   "outputs": [
    {
     "data": {
      "text/html": [
       "<div>\n",
       "<style scoped>\n",
       "    .dataframe tbody tr th:only-of-type {\n",
       "        vertical-align: middle;\n",
       "    }\n",
       "\n",
       "    .dataframe tbody tr th {\n",
       "        vertical-align: top;\n",
       "    }\n",
       "\n",
       "    .dataframe thead th {\n",
       "        text-align: right;\n",
       "    }\n",
       "</style>\n",
       "<table border=\"1\" class=\"dataframe\">\n",
       "  <thead>\n",
       "    <tr style=\"text-align: right;\">\n",
       "      <th></th>\n",
       "      <th>pid</th>\n",
       "      <th>LABEL_BaseExcess</th>\n",
       "      <th>LABEL_Fibrinogen</th>\n",
       "      <th>LABEL_AST</th>\n",
       "      <th>LABEL_Alkalinephos</th>\n",
       "      <th>LABEL_Bilirubin_total</th>\n",
       "      <th>LABEL_Lactate</th>\n",
       "      <th>LABEL_TroponinI</th>\n",
       "      <th>LABEL_SaO2</th>\n",
       "      <th>LABEL_Bilirubin_direct</th>\n",
       "      <th>LABEL_EtCO2</th>\n",
       "      <th>LABEL_Sepsis</th>\n",
       "      <th>LABEL_RRate</th>\n",
       "      <th>LABEL_ABPm</th>\n",
       "      <th>LABEL_SpO2</th>\n",
       "      <th>LABEL_Heartrate</th>\n",
       "    </tr>\n",
       "  </thead>\n",
       "  <tbody>\n",
       "    <tr>\n",
       "      <td>0</td>\n",
       "      <td>0</td>\n",
       "      <td>0.4</td>\n",
       "      <td>0.2</td>\n",
       "      <td>0.5</td>\n",
       "      <td>0.4</td>\n",
       "      <td>0.5</td>\n",
       "      <td>0.4</td>\n",
       "      <td>0.2</td>\n",
       "      <td>0.5</td>\n",
       "      <td>0.2</td>\n",
       "      <td>0.1</td>\n",
       "      <td>0.0</td>\n",
       "      <td>18.749403</td>\n",
       "      <td>81.782172</td>\n",
       "      <td>96.942572</td>\n",
       "      <td>84.230554</td>\n",
       "    </tr>\n",
       "    <tr>\n",
       "      <td>1</td>\n",
       "      <td>3</td>\n",
       "      <td>0.3</td>\n",
       "      <td>0.0</td>\n",
       "      <td>0.2</td>\n",
       "      <td>0.2</td>\n",
       "      <td>0.3</td>\n",
       "      <td>0.3</td>\n",
       "      <td>0.1</td>\n",
       "      <td>0.2</td>\n",
       "      <td>0.0</td>\n",
       "      <td>0.4</td>\n",
       "      <td>0.0</td>\n",
       "      <td>18.827689</td>\n",
       "      <td>82.542756</td>\n",
       "      <td>96.907013</td>\n",
       "      <td>84.264837</td>\n",
       "    </tr>\n",
       "    <tr>\n",
       "      <td>2</td>\n",
       "      <td>5</td>\n",
       "      <td>0.4</td>\n",
       "      <td>0.1</td>\n",
       "      <td>0.0</td>\n",
       "      <td>0.1</td>\n",
       "      <td>0.2</td>\n",
       "      <td>0.3</td>\n",
       "      <td>0.0</td>\n",
       "      <td>0.2</td>\n",
       "      <td>0.0</td>\n",
       "      <td>0.1</td>\n",
       "      <td>0.0</td>\n",
       "      <td>18.793512</td>\n",
       "      <td>82.858547</td>\n",
       "      <td>96.946206</td>\n",
       "      <td>84.128266</td>\n",
       "    </tr>\n",
       "    <tr>\n",
       "      <td>3</td>\n",
       "      <td>7</td>\n",
       "      <td>0.6</td>\n",
       "      <td>0.0</td>\n",
       "      <td>0.2</td>\n",
       "      <td>0.2</td>\n",
       "      <td>0.3</td>\n",
       "      <td>0.0</td>\n",
       "      <td>0.0</td>\n",
       "      <td>0.3</td>\n",
       "      <td>0.2</td>\n",
       "      <td>0.1</td>\n",
       "      <td>0.0</td>\n",
       "      <td>19.184185</td>\n",
       "      <td>83.735821</td>\n",
       "      <td>97.029362</td>\n",
       "      <td>84.625243</td>\n",
       "    </tr>\n",
       "    <tr>\n",
       "      <td>4</td>\n",
       "      <td>9</td>\n",
       "      <td>0.5</td>\n",
       "      <td>0.0</td>\n",
       "      <td>0.2</td>\n",
       "      <td>0.2</td>\n",
       "      <td>0.3</td>\n",
       "      <td>0.3</td>\n",
       "      <td>0.0</td>\n",
       "      <td>0.2</td>\n",
       "      <td>0.0</td>\n",
       "      <td>0.1</td>\n",
       "      <td>0.0</td>\n",
       "      <td>18.733537</td>\n",
       "      <td>82.500228</td>\n",
       "      <td>96.963035</td>\n",
       "      <td>83.606771</td>\n",
       "    </tr>\n",
       "    <tr>\n",
       "      <td>...</td>\n",
       "      <td>...</td>\n",
       "      <td>...</td>\n",
       "      <td>...</td>\n",
       "      <td>...</td>\n",
       "      <td>...</td>\n",
       "      <td>...</td>\n",
       "      <td>...</td>\n",
       "      <td>...</td>\n",
       "      <td>...</td>\n",
       "      <td>...</td>\n",
       "      <td>...</td>\n",
       "      <td>...</td>\n",
       "      <td>...</td>\n",
       "      <td>...</td>\n",
       "      <td>...</td>\n",
       "      <td>...</td>\n",
       "    </tr>\n",
       "    <tr>\n",
       "      <td>12659</td>\n",
       "      <td>31647</td>\n",
       "      <td>0.5</td>\n",
       "      <td>0.1</td>\n",
       "      <td>0.1</td>\n",
       "      <td>0.3</td>\n",
       "      <td>0.4</td>\n",
       "      <td>0.3</td>\n",
       "      <td>0.2</td>\n",
       "      <td>0.1</td>\n",
       "      <td>0.0</td>\n",
       "      <td>0.1</td>\n",
       "      <td>0.0</td>\n",
       "      <td>18.696079</td>\n",
       "      <td>82.806950</td>\n",
       "      <td>97.007095</td>\n",
       "      <td>83.682735</td>\n",
       "    </tr>\n",
       "    <tr>\n",
       "      <td>12660</td>\n",
       "      <td>31649</td>\n",
       "      <td>0.3</td>\n",
       "      <td>0.2</td>\n",
       "      <td>0.2</td>\n",
       "      <td>0.4</td>\n",
       "      <td>0.4</td>\n",
       "      <td>0.0</td>\n",
       "      <td>0.1</td>\n",
       "      <td>0.3</td>\n",
       "      <td>0.1</td>\n",
       "      <td>0.0</td>\n",
       "      <td>0.0</td>\n",
       "      <td>18.856438</td>\n",
       "      <td>82.376880</td>\n",
       "      <td>96.947983</td>\n",
       "      <td>84.143699</td>\n",
       "    </tr>\n",
       "    <tr>\n",
       "      <td>12661</td>\n",
       "      <td>31651</td>\n",
       "      <td>0.3</td>\n",
       "      <td>0.0</td>\n",
       "      <td>0.5</td>\n",
       "      <td>0.4</td>\n",
       "      <td>0.5</td>\n",
       "      <td>0.4</td>\n",
       "      <td>0.4</td>\n",
       "      <td>0.4</td>\n",
       "      <td>0.0</td>\n",
       "      <td>0.1</td>\n",
       "      <td>0.0</td>\n",
       "      <td>18.811595</td>\n",
       "      <td>82.280806</td>\n",
       "      <td>96.903950</td>\n",
       "      <td>84.273450</td>\n",
       "    </tr>\n",
       "    <tr>\n",
       "      <td>12662</td>\n",
       "      <td>31652</td>\n",
       "      <td>0.1</td>\n",
       "      <td>0.2</td>\n",
       "      <td>0.5</td>\n",
       "      <td>0.2</td>\n",
       "      <td>0.4</td>\n",
       "      <td>0.4</td>\n",
       "      <td>0.1</td>\n",
       "      <td>0.6</td>\n",
       "      <td>0.1</td>\n",
       "      <td>0.1</td>\n",
       "      <td>0.0</td>\n",
       "      <td>18.663080</td>\n",
       "      <td>82.059539</td>\n",
       "      <td>96.984852</td>\n",
       "      <td>83.282791</td>\n",
       "    </tr>\n",
       "    <tr>\n",
       "      <td>12663</td>\n",
       "      <td>31655</td>\n",
       "      <td>0.3</td>\n",
       "      <td>0.1</td>\n",
       "      <td>0.0</td>\n",
       "      <td>0.1</td>\n",
       "      <td>0.6</td>\n",
       "      <td>0.6</td>\n",
       "      <td>0.3</td>\n",
       "      <td>0.3</td>\n",
       "      <td>0.0</td>\n",
       "      <td>0.0</td>\n",
       "      <td>0.0</td>\n",
       "      <td>18.630490</td>\n",
       "      <td>82.370248</td>\n",
       "      <td>97.011358</td>\n",
       "      <td>83.255741</td>\n",
       "    </tr>\n",
       "  </tbody>\n",
       "</table>\n",
       "<p>12664 rows × 16 columns</p>\n",
       "</div>"
      ],
      "text/plain": [
       "         pid  LABEL_BaseExcess  LABEL_Fibrinogen  LABEL_AST  \\\n",
       "0          0               0.4               0.2        0.5   \n",
       "1          3               0.3               0.0        0.2   \n",
       "2          5               0.4               0.1        0.0   \n",
       "3          7               0.6               0.0        0.2   \n",
       "4          9               0.5               0.0        0.2   \n",
       "...      ...               ...               ...        ...   \n",
       "12659  31647               0.5               0.1        0.1   \n",
       "12660  31649               0.3               0.2        0.2   \n",
       "12661  31651               0.3               0.0        0.5   \n",
       "12662  31652               0.1               0.2        0.5   \n",
       "12663  31655               0.3               0.1        0.0   \n",
       "\n",
       "       LABEL_Alkalinephos  LABEL_Bilirubin_total  LABEL_Lactate  \\\n",
       "0                     0.4                    0.5            0.4   \n",
       "1                     0.2                    0.3            0.3   \n",
       "2                     0.1                    0.2            0.3   \n",
       "3                     0.2                    0.3            0.0   \n",
       "4                     0.2                    0.3            0.3   \n",
       "...                   ...                    ...            ...   \n",
       "12659                 0.3                    0.4            0.3   \n",
       "12660                 0.4                    0.4            0.0   \n",
       "12661                 0.4                    0.5            0.4   \n",
       "12662                 0.2                    0.4            0.4   \n",
       "12663                 0.1                    0.6            0.6   \n",
       "\n",
       "       LABEL_TroponinI  LABEL_SaO2  LABEL_Bilirubin_direct  LABEL_EtCO2  \\\n",
       "0                  0.2         0.5                     0.2          0.1   \n",
       "1                  0.1         0.2                     0.0          0.4   \n",
       "2                  0.0         0.2                     0.0          0.1   \n",
       "3                  0.0         0.3                     0.2          0.1   \n",
       "4                  0.0         0.2                     0.0          0.1   \n",
       "...                ...         ...                     ...          ...   \n",
       "12659              0.2         0.1                     0.0          0.1   \n",
       "12660              0.1         0.3                     0.1          0.0   \n",
       "12661              0.4         0.4                     0.0          0.1   \n",
       "12662              0.1         0.6                     0.1          0.1   \n",
       "12663              0.3         0.3                     0.0          0.0   \n",
       "\n",
       "       LABEL_Sepsis  LABEL_RRate  LABEL_ABPm  LABEL_SpO2  LABEL_Heartrate  \n",
       "0               0.0    18.749403   81.782172   96.942572        84.230554  \n",
       "1               0.0    18.827689   82.542756   96.907013        84.264837  \n",
       "2               0.0    18.793512   82.858547   96.946206        84.128266  \n",
       "3               0.0    19.184185   83.735821   97.029362        84.625243  \n",
       "4               0.0    18.733537   82.500228   96.963035        83.606771  \n",
       "...             ...          ...         ...         ...              ...  \n",
       "12659           0.0    18.696079   82.806950   97.007095        83.682735  \n",
       "12660           0.0    18.856438   82.376880   96.947983        84.143699  \n",
       "12661           0.0    18.811595   82.280806   96.903950        84.273450  \n",
       "12662           0.0    18.663080   82.059539   96.984852        83.282791  \n",
       "12663           0.0    18.630490   82.370248   97.011358        83.255741  \n",
       "\n",
       "[12664 rows x 16 columns]"
      ]
     },
     "execution_count": 13,
     "metadata": {},
     "output_type": "execute_result"
    }
   ],
   "source": [
    "output"
   ]
  },
  {
   "cell_type": "code",
   "execution_count": null,
   "metadata": {},
   "outputs": [],
   "source": []
  }
 ],
 "metadata": {
  "kernelspec": {
   "display_name": "Python 3",
   "language": "python",
   "name": "python3"
  },
  "language_info": {
   "codemirror_mode": {
    "name": "ipython",
    "version": 3
   },
   "file_extension": ".py",
   "mimetype": "text/x-python",
   "name": "python",
   "nbconvert_exporter": "python",
   "pygments_lexer": "ipython3",
   "version": "3.8.3"
  }
 },
 "nbformat": 4,
 "nbformat_minor": 4
}
