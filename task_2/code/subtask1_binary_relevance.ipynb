{
 "cells": [
  {
   "cell_type": "markdown",
   "metadata": {},
   "source": [
    "# Task 2, Subtask 1"
   ]
  },
  {
   "cell_type": "markdown",
   "metadata": {},
   "source": [
    "## Import libreries"
   ]
  },
  {
   "cell_type": "code",
   "execution_count": 1,
   "metadata": {},
   "outputs": [],
   "source": [
    "import pandas as pd\n",
    "import numpy as np\n",
    "from sklearn.experimental import enable_hist_gradient_boosting  # noqa\n",
    "from sklearn.ensemble import HistGradientBoostingClassifier\n",
    "import sklearn.metrics as metrics\n",
    "import time"
   ]
  },
  {
   "cell_type": "markdown",
   "metadata": {},
   "source": [
    "## Start timer"
   ]
  },
  {
   "cell_type": "code",
   "execution_count": 2,
   "metadata": {},
   "outputs": [],
   "source": [
    "start_time = time.time()"
   ]
  },
  {
   "cell_type": "markdown",
   "metadata": {},
   "source": [
    "## Read data"
   ]
  },
  {
   "cell_type": "code",
   "execution_count": 3,
   "metadata": {},
   "outputs": [],
   "source": [
    "## We read the already normalized and imputed data \n",
    "test_feat_path = \"../data/test_features_imp.csv\" \n",
    "train_feat_path = \"../data/train_features_imp.csv\" \n",
    "train_lab_path = \"../data/train_labels.csv\"\n",
    "test_feat = pd.read_csv(train_feat_path)\n",
    "train_feat = pd.read_csv(train_feat_path)\n",
    "train_lab = pd.read_csv(train_lab_path)\n",
    "\n",
    "## Order data to make sure that rows in X and Y match\n",
    "test_feat.sort_values(by=['pid'], inplace = True, ignore_index = True)\n",
    "train_feat.sort_values(by=['pid'], inplace = True, ignore_index = True)\n",
    "train_lab.sort_values(by=['pid'], inplace = True, ignore_index = True)\n",
    "\n",
    "## Get labels\n",
    "labels_ids = ['LABEL_BaseExcess', 'LABEL_Fibrinogen', 'LABEL_AST',\n",
    "              'LABEL_Alkalinephos', 'LABEL_Bilirubin_total', \n",
    "              'LABEL_Lactate', 'LABEL_TroponinI', 'LABEL_SaO2',\n",
    "              'LABEL_Bilirubin_direct', 'LABEL_EtCO2']\n",
    "\n",
    "## Select relevant label columns and exclude the pid column, and sample rows\n",
    "X_test = train_feat.iloc[:, 1:272].values\n",
    "X_train = train_feat.iloc[:, 1:272].values\n",
    "Y_train = train_lab[labels_ids].to_numpy()"
   ]
  },
  {
   "cell_type": "markdown",
   "metadata": {},
   "source": [
    "## Histogram-based Gradient Boosting Classification Tree"
   ]
  },
  {
   "cell_type": "code",
   "execution_count": 38,
   "metadata": {},
   "outputs": [
    {
     "name": "stdout",
     "output_type": "stream",
     "text": [
      "ROC AUC scores for each label and trraining score on probabilities:\n",
      "0.9622021063485248\n",
      "0.9179870295944466\n",
      "0.8672136760979517\n",
      "0.8375341926119442\n",
      "0.8658035412929626\n",
      "0.8947057383260937\n",
      "0.9427961702849914\n",
      "0.8824270572341473\n",
      "0.9375263368455897\n",
      "0.9886837965418951\n"
     ]
    }
   ],
   "source": [
    "output = pd.DataFrame({'pid': test_feat.iloc[:, 0].values})\n",
    "print(\"ROC AUC scores for each label and trraining score on probabilities:\")\n",
    "for i, label in enumerate(labels_ids):\n",
    "    clf = HistGradientBoostingClassifier(scoring = 'roc_auc').fit(X_train, Y_train[:, i])\n",
    "    print(clf.validation_score_[np.size(clf.validation_score_) - 1], \" \", metrics.roc_auc_score(Y_train[:, i], clf.predict_proba(X_test)[:, 1], average='micro'))\n",
    "    output[label] = clf.predict_proba(X_test)[:, 1]"
   ]
  },
  {
   "cell_type": "markdown",
   "metadata": {},
   "source": [
    "## Write probabilities to output"
   ]
  },
  {
   "cell_type": "code",
   "execution_count": 5,
   "metadata": {},
   "outputs": [
    {
     "data": {
      "text/html": [
       "<div>\n",
       "<style scoped>\n",
       "    .dataframe tbody tr th:only-of-type {\n",
       "        vertical-align: middle;\n",
       "    }\n",
       "\n",
       "    .dataframe tbody tr th {\n",
       "        vertical-align: top;\n",
       "    }\n",
       "\n",
       "    .dataframe thead th {\n",
       "        text-align: right;\n",
       "    }\n",
       "</style>\n",
       "<table border=\"1\" class=\"dataframe\">\n",
       "  <thead>\n",
       "    <tr style=\"text-align: right;\">\n",
       "      <th></th>\n",
       "      <th>pid</th>\n",
       "      <th>LABEL_BaseExcess</th>\n",
       "      <th>LABEL_Fibrinogen</th>\n",
       "      <th>LABEL_AST</th>\n",
       "      <th>LABEL_Alkalinephos</th>\n",
       "      <th>LABEL_Bilirubin_total</th>\n",
       "      <th>LABEL_Lactate</th>\n",
       "      <th>LABEL_TroponinI</th>\n",
       "      <th>LABEL_SaO2</th>\n",
       "      <th>LABEL_Bilirubin_direct</th>\n",
       "      <th>LABEL_EtCO2</th>\n",
       "    </tr>\n",
       "  </thead>\n",
       "  <tbody>\n",
       "    <tr>\n",
       "      <th>0</th>\n",
       "      <td>1</td>\n",
       "      <td>0.708554</td>\n",
       "      <td>0.076010</td>\n",
       "      <td>0.038123</td>\n",
       "      <td>0.055323</td>\n",
       "      <td>0.075393</td>\n",
       "      <td>0.249192</td>\n",
       "      <td>0.017614</td>\n",
       "      <td>0.115010</td>\n",
       "      <td>0.006282</td>\n",
       "      <td>0.000859</td>\n",
       "    </tr>\n",
       "    <tr>\n",
       "      <th>1</th>\n",
       "      <td>2</td>\n",
       "      <td>0.051212</td>\n",
       "      <td>0.033267</td>\n",
       "      <td>0.140638</td>\n",
       "      <td>0.120264</td>\n",
       "      <td>0.126126</td>\n",
       "      <td>0.131657</td>\n",
       "      <td>0.598975</td>\n",
       "      <td>0.106778</td>\n",
       "      <td>0.021915</td>\n",
       "      <td>0.024606</td>\n",
       "    </tr>\n",
       "    <tr>\n",
       "      <th>2</th>\n",
       "      <td>4</td>\n",
       "      <td>0.045770</td>\n",
       "      <td>0.032806</td>\n",
       "      <td>0.111365</td>\n",
       "      <td>0.208309</td>\n",
       "      <td>0.145649</td>\n",
       "      <td>0.083064</td>\n",
       "      <td>0.134275</td>\n",
       "      <td>0.271008</td>\n",
       "      <td>0.032889</td>\n",
       "      <td>0.044032</td>\n",
       "    </tr>\n",
       "    <tr>\n",
       "      <th>3</th>\n",
       "      <td>6</td>\n",
       "      <td>0.897079</td>\n",
       "      <td>0.052133</td>\n",
       "      <td>0.085278</td>\n",
       "      <td>0.097104</td>\n",
       "      <td>0.081738</td>\n",
       "      <td>0.308022</td>\n",
       "      <td>0.010966</td>\n",
       "      <td>0.877357</td>\n",
       "      <td>0.016876</td>\n",
       "      <td>0.000575</td>\n",
       "    </tr>\n",
       "    <tr>\n",
       "      <th>4</th>\n",
       "      <td>8</td>\n",
       "      <td>0.019660</td>\n",
       "      <td>0.027716</td>\n",
       "      <td>0.182168</td>\n",
       "      <td>0.195130</td>\n",
       "      <td>0.154833</td>\n",
       "      <td>0.038612</td>\n",
       "      <td>0.228829</td>\n",
       "      <td>0.039309</td>\n",
       "      <td>0.017819</td>\n",
       "      <td>0.008643</td>\n",
       "    </tr>\n",
       "    <tr>\n",
       "      <th>...</th>\n",
       "      <td>...</td>\n",
       "      <td>...</td>\n",
       "      <td>...</td>\n",
       "      <td>...</td>\n",
       "      <td>...</td>\n",
       "      <td>...</td>\n",
       "      <td>...</td>\n",
       "      <td>...</td>\n",
       "      <td>...</td>\n",
       "      <td>...</td>\n",
       "      <td>...</td>\n",
       "    </tr>\n",
       "    <tr>\n",
       "      <th>18990</th>\n",
       "      <td>31653</td>\n",
       "      <td>0.357821</td>\n",
       "      <td>0.093695</td>\n",
       "      <td>0.224009</td>\n",
       "      <td>0.175923</td>\n",
       "      <td>0.130908</td>\n",
       "      <td>0.394871</td>\n",
       "      <td>0.009812</td>\n",
       "      <td>0.134667</td>\n",
       "      <td>0.007570</td>\n",
       "      <td>0.000389</td>\n",
       "    </tr>\n",
       "    <tr>\n",
       "      <th>18991</th>\n",
       "      <td>31654</td>\n",
       "      <td>0.014742</td>\n",
       "      <td>0.029490</td>\n",
       "      <td>0.243918</td>\n",
       "      <td>0.201067</td>\n",
       "      <td>0.224094</td>\n",
       "      <td>0.049392</td>\n",
       "      <td>0.075589</td>\n",
       "      <td>0.047048</td>\n",
       "      <td>0.015648</td>\n",
       "      <td>0.028271</td>\n",
       "    </tr>\n",
       "    <tr>\n",
       "      <th>18992</th>\n",
       "      <td>31656</td>\n",
       "      <td>0.884902</td>\n",
       "      <td>0.034847</td>\n",
       "      <td>0.099396</td>\n",
       "      <td>0.106368</td>\n",
       "      <td>0.093803</td>\n",
       "      <td>0.346195</td>\n",
       "      <td>0.011927</td>\n",
       "      <td>0.226279</td>\n",
       "      <td>0.008908</td>\n",
       "      <td>0.001246</td>\n",
       "    </tr>\n",
       "    <tr>\n",
       "      <th>18993</th>\n",
       "      <td>31657</td>\n",
       "      <td>0.059808</td>\n",
       "      <td>0.030205</td>\n",
       "      <td>0.129815</td>\n",
       "      <td>0.148697</td>\n",
       "      <td>0.136649</td>\n",
       "      <td>0.047161</td>\n",
       "      <td>0.045837</td>\n",
       "      <td>0.059225</td>\n",
       "      <td>0.016379</td>\n",
       "      <td>0.011634</td>\n",
       "    </tr>\n",
       "    <tr>\n",
       "      <th>18994</th>\n",
       "      <td>31658</td>\n",
       "      <td>0.021221</td>\n",
       "      <td>0.026664</td>\n",
       "      <td>0.089070</td>\n",
       "      <td>0.092761</td>\n",
       "      <td>0.085253</td>\n",
       "      <td>0.037250</td>\n",
       "      <td>0.080797</td>\n",
       "      <td>0.048265</td>\n",
       "      <td>0.010886</td>\n",
       "      <td>0.016593</td>\n",
       "    </tr>\n",
       "  </tbody>\n",
       "</table>\n",
       "<p>18995 rows × 11 columns</p>\n",
       "</div>"
      ],
      "text/plain": [
       "         pid  LABEL_BaseExcess  LABEL_Fibrinogen  LABEL_AST  \\\n",
       "0          1          0.708554          0.076010   0.038123   \n",
       "1          2          0.051212          0.033267   0.140638   \n",
       "2          4          0.045770          0.032806   0.111365   \n",
       "3          6          0.897079          0.052133   0.085278   \n",
       "4          8          0.019660          0.027716   0.182168   \n",
       "...      ...               ...               ...        ...   \n",
       "18990  31653          0.357821          0.093695   0.224009   \n",
       "18991  31654          0.014742          0.029490   0.243918   \n",
       "18992  31656          0.884902          0.034847   0.099396   \n",
       "18993  31657          0.059808          0.030205   0.129815   \n",
       "18994  31658          0.021221          0.026664   0.089070   \n",
       "\n",
       "       LABEL_Alkalinephos  LABEL_Bilirubin_total  LABEL_Lactate  \\\n",
       "0                0.055323               0.075393       0.249192   \n",
       "1                0.120264               0.126126       0.131657   \n",
       "2                0.208309               0.145649       0.083064   \n",
       "3                0.097104               0.081738       0.308022   \n",
       "4                0.195130               0.154833       0.038612   \n",
       "...                   ...                    ...            ...   \n",
       "18990            0.175923               0.130908       0.394871   \n",
       "18991            0.201067               0.224094       0.049392   \n",
       "18992            0.106368               0.093803       0.346195   \n",
       "18993            0.148697               0.136649       0.047161   \n",
       "18994            0.092761               0.085253       0.037250   \n",
       "\n",
       "       LABEL_TroponinI  LABEL_SaO2  LABEL_Bilirubin_direct  LABEL_EtCO2  \n",
       "0             0.017614    0.115010                0.006282     0.000859  \n",
       "1             0.598975    0.106778                0.021915     0.024606  \n",
       "2             0.134275    0.271008                0.032889     0.044032  \n",
       "3             0.010966    0.877357                0.016876     0.000575  \n",
       "4             0.228829    0.039309                0.017819     0.008643  \n",
       "...                ...         ...                     ...          ...  \n",
       "18990         0.009812    0.134667                0.007570     0.000389  \n",
       "18991         0.075589    0.047048                0.015648     0.028271  \n",
       "18992         0.011927    0.226279                0.008908     0.001246  \n",
       "18993         0.045837    0.059225                0.016379     0.011634  \n",
       "18994         0.080797    0.048265                0.010886     0.016593  \n",
       "\n",
       "[18995 rows x 11 columns]"
      ]
     },
     "execution_count": 5,
     "metadata": {},
     "output_type": "execute_result"
    }
   ],
   "source": [
    "output"
   ]
  },
  {
   "cell_type": "code",
   "execution_count": 6,
   "metadata": {},
   "outputs": [],
   "source": [
    "#output.to_csv('../output/subtask_1_output', index = False, header = False)"
   ]
  },
  {
   "cell_type": "markdown",
   "metadata": {},
   "source": [
    "## Runtime"
   ]
  },
  {
   "cell_type": "code",
   "execution_count": 7,
   "metadata": {},
   "outputs": [
    {
     "name": "stdout",
     "output_type": "stream",
     "text": [
      "--- 0.5424755851427714 minutes ---\n"
     ]
    }
   ],
   "source": [
    "print(\"--- %s minutes ---\" % ((time.time() - start_time)/60))"
   ]
  },
  {
   "cell_type": "markdown",
   "metadata": {},
   "source": [
    "## Results Log"
   ]
  },
  {
   "cell_type": "markdown",
   "metadata": {},
   "source": [
    "|   | C | kernel | gamma | weight | features | n_features | F1 score | AUC | runtime (min) |\n",
    "|---|---|---|---|---|---|---|---|---|---|\n",
    "| run_1 |  1 |  rbf | scale  |  balanced |  median for NA's and mean  | 35 | 0.598165656150447 | ? | 33 |\n",
    "| run_2 |  1 |  rbf | scale  |  balanced |  median for NA's and mean, max, min, median, sd  | 170 | 0.628216870267411 |?| 102 |\n",
    "| run_3 |  1 |  rbf | scale  |  balanced |  median for NA's and mean, max, min, median, sd, range, skw, kurt  | 272 | 0.649372121402984 | 0.8236937992110356 | 141 |\n",
    "| run_4 |  na |  na | na |  na |  median for NA's and mean, max, min, median, sd, range, skw, kurt  | 272 | 0.871097657278231 | 0.8222653647930391 | 0.5 |"
   ]
  },
  {
   "cell_type": "markdown",
   "metadata": {},
   "source": [
    "### Alternative imputation"
   ]
  },
  {
   "cell_type": "code",
   "execution_count": 34,
   "metadata": {},
   "outputs": [
    {
     "name": "stderr",
     "output_type": "stream",
     "text": [
      "/Users/santiago/opt/anaconda3/lib/python3.8/site-packages/numpy/lib/nanfunctions.py:1115: RuntimeWarning: All-NaN slice encountered\n",
      "  r, k = function_base._ureduce(a, func=_nanmedian, axis=axis, out=out,\n",
      "<ipython-input-34-8ec680fef1a9>:17: RuntimeWarning: Mean of empty slice\n",
      "  feature_values[i] = feature(patient_data, axis=0)\n",
      "<ipython-input-34-8ec680fef1a9>:17: RuntimeWarning: Degrees of freedom <= 0 for slice.\n",
      "  feature_values[i] = feature(patient_data, axis=0)\n",
      "<ipython-input-34-8ec680fef1a9>:17: RuntimeWarning: All-NaN slice encountered\n",
      "  feature_values[i] = feature(patient_data, axis=0)\n"
     ]
    }
   ],
   "source": [
    "import numpy as np\n",
    "import pandas as pd\n",
    "train_data = pd.read_csv('../data/train_features.csv')\n",
    "labels = pd.read_csv('../data/train_labels.csv')\n",
    "test_data = pd.read_csv('../data/test_features.csv')\n",
    "\n",
    "def calculate_time_features(data, n_samples):\n",
    "    x = []\n",
    "    features = [np.nanmedian, np.nanmean, np.nanvar, np.nanmin,\n",
    "           np.nanmax]\n",
    "    for index in range(int(data.shape[0] / n_samples)):\n",
    "        assert data[n_samples * index, 0] == data[n_samples * (index + 1) - 1, 0], \\\n",
    "        'Ids are {}, {}'.format(data[n_samples * index, 0], data[n_samples * (index + 1) - 1, 0])\n",
    "        patient_data = data[n_samples * index:n_samples * (index + 1), 2:]\n",
    "        feature_values = np.empty((len(features), data[:, 2:].shape[1]))\n",
    "        for i, feature in enumerate(features):\n",
    "            feature_values[i] = feature(patient_data, axis=0)\n",
    "        x.append(feature_values.ravel())\n",
    "    return np.array(x)\n",
    "\n",
    "x_train = calculate_time_features(train_data.to_numpy(), 12)\n",
    "x_test = calculate_time_features(test_data.to_numpy(), 12)\n",
    "\n",
    "subtask1_labels_ids = ['LABEL_BaseExcess', 'LABEL_Fibrinogen', 'LABEL_AST',\n",
    "         'LABEL_Alkalinephos', 'LABEL_Bilirubin_total', \n",
    "         'LABEL_Lactate', 'LABEL_TroponinI', 'LABEL_SaO2',\n",
    "         'LABEL_Bilirubin_direct', 'LABEL_EtCO2']\n",
    "y_train = labels[subtask1_labels_ids].to_numpy()"
   ]
  },
  {
   "cell_type": "code",
   "execution_count": 35,
   "metadata": {},
   "outputs": [
    {
     "name": "stderr",
     "output_type": "stream",
     "text": [
      "[Parallel(n_jobs=1)]: Using backend SequentialBackend with 1 concurrent workers.\n",
      "[Parallel(n_jobs=1)]: Done   5 out of   5 | elapsed:   14.3s finished\n",
      "[Parallel(n_jobs=1)]: Using backend SequentialBackend with 1 concurrent workers.\n"
     ]
    },
    {
     "name": "stdout",
     "output_type": "stream",
     "text": [
      "Cross-validation score is 0.927, standard deviation is 0.002\n"
     ]
    },
    {
     "name": "stderr",
     "output_type": "stream",
     "text": [
      "[Parallel(n_jobs=1)]: Done   5 out of   5 | elapsed:    9.7s finished\n",
      "[Parallel(n_jobs=1)]: Using backend SequentialBackend with 1 concurrent workers.\n"
     ]
    },
    {
     "name": "stdout",
     "output_type": "stream",
     "text": [
      "Cross-validation score is 0.799, standard deviation is 0.008\n"
     ]
    },
    {
     "name": "stderr",
     "output_type": "stream",
     "text": [
      "[Parallel(n_jobs=1)]: Done   5 out of   5 | elapsed:   12.7s finished\n",
      "[Parallel(n_jobs=1)]: Using backend SequentialBackend with 1 concurrent workers.\n"
     ]
    },
    {
     "name": "stdout",
     "output_type": "stream",
     "text": [
      "Cross-validation score is 0.746, standard deviation is 0.004\n"
     ]
    },
    {
     "name": "stderr",
     "output_type": "stream",
     "text": [
      "[Parallel(n_jobs=1)]: Done   5 out of   5 | elapsed:   14.1s finished\n",
      "[Parallel(n_jobs=1)]: Using backend SequentialBackend with 1 concurrent workers.\n"
     ]
    },
    {
     "name": "stdout",
     "output_type": "stream",
     "text": [
      "Cross-validation score is 0.745, standard deviation is 0.006\n"
     ]
    },
    {
     "name": "stderr",
     "output_type": "stream",
     "text": [
      "[Parallel(n_jobs=1)]: Done   5 out of   5 | elapsed:   12.6s finished\n",
      "[Parallel(n_jobs=1)]: Using backend SequentialBackend with 1 concurrent workers.\n"
     ]
    },
    {
     "name": "stdout",
     "output_type": "stream",
     "text": [
      "Cross-validation score is 0.745, standard deviation is 0.006\n"
     ]
    },
    {
     "name": "stderr",
     "output_type": "stream",
     "text": [
      "[Parallel(n_jobs=1)]: Done   5 out of   5 | elapsed:   12.5s finished\n",
      "[Parallel(n_jobs=1)]: Using backend SequentialBackend with 1 concurrent workers.\n"
     ]
    },
    {
     "name": "stdout",
     "output_type": "stream",
     "text": [
      "Cross-validation score is 0.807, standard deviation is 0.008\n"
     ]
    },
    {
     "name": "stderr",
     "output_type": "stream",
     "text": [
      "[Parallel(n_jobs=1)]: Done   5 out of   5 | elapsed:   11.5s finished\n",
      "[Parallel(n_jobs=1)]: Using backend SequentialBackend with 1 concurrent workers.\n"
     ]
    },
    {
     "name": "stdout",
     "output_type": "stream",
     "text": [
      "Cross-validation score is 0.893, standard deviation is 0.002\n"
     ]
    },
    {
     "name": "stderr",
     "output_type": "stream",
     "text": [
      "[Parallel(n_jobs=1)]: Done   5 out of   5 | elapsed:   12.5s finished\n",
      "[Parallel(n_jobs=1)]: Using backend SequentialBackend with 1 concurrent workers.\n"
     ]
    },
    {
     "name": "stdout",
     "output_type": "stream",
     "text": [
      "Cross-validation score is 0.831, standard deviation is 0.006\n"
     ]
    },
    {
     "name": "stderr",
     "output_type": "stream",
     "text": [
      "[Parallel(n_jobs=1)]: Done   5 out of   5 | elapsed:    8.1s finished\n",
      "[Parallel(n_jobs=1)]: Using backend SequentialBackend with 1 concurrent workers.\n"
     ]
    },
    {
     "name": "stdout",
     "output_type": "stream",
     "text": [
      "Cross-validation score is 0.755, standard deviation is 0.027\n",
      "Cross-validation score is 0.932, standard deviation is 0.007\n"
     ]
    },
    {
     "name": "stderr",
     "output_type": "stream",
     "text": [
      "[Parallel(n_jobs=1)]: Done   5 out of   5 | elapsed:   11.8s finished\n"
     ]
    }
   ],
   "source": [
    "from sklearn.pipeline import make_pipeline\n",
    "from sklearn.model_selection import (GridSearchCV,\n",
    "    cross_val_score, KFold)\n",
    "from sklearn.multiclass import OneVsRestClassifier\n",
    "from sklearn.experimental import enable_hist_gradient_boosting\n",
    "from sklearn.ensemble import HistGradientBoostingClassifier\n",
    "from sklearn.impute import SimpleImputer\n",
    "from sklearn.preprocessing import StandardScaler\n",
    "import sklearn.metrics as metrics\n",
    "\n",
    "# TODO (yarden):\n",
    "# feature selection.\n",
    "# parameters tuning (subsample, learning rate).\n",
    "for i, label in enumerate(subtask1_labels_ids):\n",
    "    pipeline = make_pipeline(\n",
    "                        SimpleImputer(strategy='median'),\n",
    "                        StandardScaler(),\n",
    "                        HistGradientBoostingClassifier())\n",
    "    scores = cross_val_score(pipeline, x_train, y_train[:, i],\n",
    "                                cv=5,\n",
    "                                scoring='roc_auc',\n",
    "                                verbose=True)\n",
    "    print(\"Cross-validation score is {score:.3f},\"\n",
    "          \" standard deviation is {err:.3f}\"\n",
    "          .format(score = scores.mean(), err = scores.std()))"
   ]
  },
  {
   "cell_type": "code",
   "execution_count": 36,
   "metadata": {},
   "outputs": [
    {
     "name": "stdout",
     "output_type": "stream",
     "text": [
      "Training score: 0.9712413240711782\n",
      "Training score: 0.9468267567896724\n",
      "Training score: 0.8539277319915479\n",
      "Training score: 0.8484115708714369\n",
      "Training score: 0.8555810291669353\n",
      "Training score: 0.8862815926341792\n",
      "Training score: 0.9636602786650003\n",
      "Training score: 0.918923976388801\n",
      "Training score: 0.9692089486212778\n",
      "Training score: 0.9941067227563865\n"
     ]
    }
   ],
   "source": [
    "df = pd.DataFrame({'pid': test_data.iloc[0::12, 0].values})\n",
    "for i, label in enumerate(subtask1_labels_ids):\n",
    "    pipeline = pipeline.fit(x_train, y_train[:, i].ravel())\n",
    "    print(\"Training score:\", metrics.roc_auc_score(y_train[:, i], pipeline.predict_proba(x_train)[:, 1]))\n",
    "    predictions = pipeline.predict_proba(x_test)[:, 1]\n",
    "    df[label] = predictions"
   ]
  },
  {
   "cell_type": "code",
   "execution_count": 37,
   "metadata": {},
   "outputs": [
    {
     "data": {
      "text/plain": [
       "0.9208169931956416"
      ]
     },
     "execution_count": 37,
     "metadata": {},
     "output_type": "execute_result"
    }
   ],
   "source": [
    "(0.9712413240711782+\n",
    "0.9468267567896724+\n",
    "0.8539277319915479+\n",
    "0.8484115708714369+\n",
    "0.8555810291669353+\n",
    "0.8862815926341792+\n",
    "0.9636602786650003+\n",
    "0.918923976388801+\n",
    "0.9692089486212778+\n",
    "0.9941067227563865)/10"
   ]
  },
  {
   "cell_type": "code",
   "execution_count": 40,
   "metadata": {},
   "outputs": [
    {
     "data": {
      "text/plain": [
       "0.9096879645178546"
      ]
     },
     "execution_count": 40,
     "metadata": {},
     "output_type": "execute_result"
    }
   ],
   "source": [
    "(0.9622021063485248+\n",
    "0.9179870295944466+\n",
    "0.8672136760979517+\n",
    "0.8375341926119442+\n",
    "0.8658035412929626+\n",
    "0.8947057383260937+\n",
    "0.9427961702849914+\n",
    "0.8824270572341473+\n",
    "0.9375263368455897+\n",
    "0.9886837965418951)/10"
   ]
  },
  {
   "cell_type": "code",
   "execution_count": 41,
   "metadata": {},
   "outputs": [
    {
     "data": {
      "text/plain": [
       "0.011129028677786978"
      ]
     },
     "execution_count": 41,
     "metadata": {},
     "output_type": "execute_result"
    }
   ],
   "source": [
    "0.9208169931956416 - 0.9096879645178546"
   ]
  }
 ],
 "metadata": {
  "kernelspec": {
   "display_name": "Python 3",
   "language": "python",
   "name": "python3"
  },
  "language_info": {
   "codemirror_mode": {
    "name": "ipython",
    "version": 3
   },
   "file_extension": ".py",
   "mimetype": "text/x-python",
   "name": "python",
   "nbconvert_exporter": "python",
   "pygments_lexer": "ipython3",
   "version": "3.8.3"
  }
 },
 "nbformat": 4,
 "nbformat_minor": 4
}
