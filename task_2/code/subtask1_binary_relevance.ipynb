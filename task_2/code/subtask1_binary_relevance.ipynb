{
 "cells": [
  {
   "cell_type": "markdown",
   "metadata": {},
   "source": [
    "# Task 2, Subtask 1"
   ]
  },
  {
   "cell_type": "markdown",
   "metadata": {},
   "source": [
    "## Import libreries"
   ]
  },
  {
   "cell_type": "code",
   "execution_count": 1,
   "metadata": {},
   "outputs": [],
   "source": [
    "import pandas as pd\n",
    "import numpy as np\n",
    "from sklearn.experimental import enable_hist_gradient_boosting  # noqa\n",
    "from sklearn.ensemble import HistGradientBoostingClassifier\n",
    "import sklearn.metrics as metrics\n",
    "import time"
   ]
  },
  {
   "cell_type": "markdown",
   "metadata": {},
   "source": [
    "## Start timer"
   ]
  },
  {
   "cell_type": "code",
   "execution_count": 2,
   "metadata": {},
   "outputs": [],
   "source": [
    "start_time = time.time()"
   ]
  },
  {
   "cell_type": "markdown",
   "metadata": {},
   "source": [
    "## Read data"
   ]
  },
  {
   "cell_type": "code",
   "execution_count": 3,
   "metadata": {},
   "outputs": [],
   "source": [
    "## We read the already normalized and imputed data \n",
    "test_feat_path = \"../data/test_features_imp.csv\" \n",
    "train_feat_path = \"../data/train_features_imp.csv\" \n",
    "train_lab_path = \"../data/train_labels.csv\"\n",
    "test_feat = pd.read_csv(train_feat_path)\n",
    "train_feat = pd.read_csv(train_feat_path)\n",
    "train_lab = pd.read_csv(train_lab_path)\n",
    "\n",
    "## Order data to make sure that rows in X and Y match\n",
    "test_feat.sort_values(by=['pid'], inplace = True, ignore_index = True)\n",
    "train_feat.sort_values(by=['pid'], inplace = True, ignore_index = True)\n",
    "train_lab.sort_values(by=['pid'], inplace = True, ignore_index = True)\n",
    "\n",
    "## Get labels\n",
    "labels_ids = ['LABEL_BaseExcess', 'LABEL_Fibrinogen', 'LABEL_AST',\n",
    "              'LABEL_Alkalinephos', 'LABEL_Bilirubin_total', \n",
    "              'LABEL_Lactate', 'LABEL_TroponinI', 'LABEL_SaO2',\n",
    "              'LABEL_Bilirubin_direct', 'LABEL_EtCO2']\n",
    "\n",
    "## Select relevant label columns and exclude the pid column, and sample rows\n",
    "X_test = train_feat.iloc[:, 1:272].values\n",
    "X_train = train_feat.iloc[:, 1:272].values\n",
    "Y_train = train_lab[labels_ids].to_numpy()"
   ]
  },
  {
   "cell_type": "markdown",
   "metadata": {},
   "source": [
    "## Histogram-based Gradient Boosting Classification Tree"
   ]
  },
  {
   "cell_type": "code",
   "execution_count": 9,
   "metadata": {},
   "outputs": [
    {
     "name": "stdout",
     "output_type": "stream",
     "text": [
      "Validation scores for each label: \n",
      "0.8775993682548039\n",
      "0.9376151618847065\n",
      "0.799157673071861\n",
      "0.7928402211108186\n",
      "0.7925769939457752\n",
      "0.8423269281389839\n",
      "0.9307712555935772\n",
      "0.8360094761779415\n",
      "0.9686759673598315\n",
      "0.9639378783890498\n"
     ]
    }
   ],
   "source": [
    "output = pd.DataFrame({'pid': test_feat.iloc[:, 0].values})\n",
    "print(\"Validation scores for each label: \")\n",
    "for i, label in enumerate(labels_ids):\n",
    "    clf = HistGradientBoostingClassifier(scoring = 'f1_micro',\n",
    "                                         validation_fraction = 0.2).fit(X_train, Y_train[:, i])\n",
    "    print(clf.validation_score_[np.size(clf.validation_score_) - 1])\n",
    "    output[label] = clf.predict_proba(X_test)[:, 1]"
   ]
  },
  {
   "cell_type": "markdown",
   "metadata": {},
   "source": [
    "## Write probabilities to output"
   ]
  },
  {
   "cell_type": "code",
   "execution_count": 5,
   "metadata": {},
   "outputs": [
    {
     "data": {
      "text/html": [
       "<div>\n",
       "<style scoped>\n",
       "    .dataframe tbody tr th:only-of-type {\n",
       "        vertical-align: middle;\n",
       "    }\n",
       "\n",
       "    .dataframe tbody tr th {\n",
       "        vertical-align: top;\n",
       "    }\n",
       "\n",
       "    .dataframe thead th {\n",
       "        text-align: right;\n",
       "    }\n",
       "</style>\n",
       "<table border=\"1\" class=\"dataframe\">\n",
       "  <thead>\n",
       "    <tr style=\"text-align: right;\">\n",
       "      <th></th>\n",
       "      <th>pid</th>\n",
       "      <th>LABEL_BaseExcess</th>\n",
       "      <th>LABEL_Fibrinogen</th>\n",
       "      <th>LABEL_AST</th>\n",
       "      <th>LABEL_Alkalinephos</th>\n",
       "      <th>LABEL_Bilirubin_total</th>\n",
       "      <th>LABEL_Lactate</th>\n",
       "      <th>LABEL_TroponinI</th>\n",
       "      <th>LABEL_SaO2</th>\n",
       "      <th>LABEL_Bilirubin_direct</th>\n",
       "      <th>LABEL_EtCO2</th>\n",
       "    </tr>\n",
       "  </thead>\n",
       "  <tbody>\n",
       "    <tr>\n",
       "      <th>0</th>\n",
       "      <td>1</td>\n",
       "      <td>0.818699</td>\n",
       "      <td>0.070224</td>\n",
       "      <td>0.079805</td>\n",
       "      <td>0.047943</td>\n",
       "      <td>0.102599</td>\n",
       "      <td>0.230049</td>\n",
       "      <td>0.006836</td>\n",
       "      <td>0.104406</td>\n",
       "      <td>0.010467</td>\n",
       "      <td>0.002933</td>\n",
       "    </tr>\n",
       "    <tr>\n",
       "      <th>1</th>\n",
       "      <td>2</td>\n",
       "      <td>0.034358</td>\n",
       "      <td>0.028550</td>\n",
       "      <td>0.143829</td>\n",
       "      <td>0.110638</td>\n",
       "      <td>0.188830</td>\n",
       "      <td>0.094281</td>\n",
       "      <td>0.589342</td>\n",
       "      <td>0.136889</td>\n",
       "      <td>0.021069</td>\n",
       "      <td>0.021622</td>\n",
       "    </tr>\n",
       "    <tr>\n",
       "      <th>2</th>\n",
       "      <td>4</td>\n",
       "      <td>0.062457</td>\n",
       "      <td>0.020703</td>\n",
       "      <td>0.244249</td>\n",
       "      <td>0.140089</td>\n",
       "      <td>0.179788</td>\n",
       "      <td>0.132640</td>\n",
       "      <td>0.170118</td>\n",
       "      <td>0.294691</td>\n",
       "      <td>0.020221</td>\n",
       "      <td>0.047154</td>\n",
       "    </tr>\n",
       "    <tr>\n",
       "      <th>3</th>\n",
       "      <td>6</td>\n",
       "      <td>0.914936</td>\n",
       "      <td>0.071789</td>\n",
       "      <td>0.098797</td>\n",
       "      <td>0.062465</td>\n",
       "      <td>0.083364</td>\n",
       "      <td>0.334616</td>\n",
       "      <td>0.007087</td>\n",
       "      <td>0.901355</td>\n",
       "      <td>0.013386</td>\n",
       "      <td>0.002443</td>\n",
       "    </tr>\n",
       "    <tr>\n",
       "      <th>4</th>\n",
       "      <td>8</td>\n",
       "      <td>0.013321</td>\n",
       "      <td>0.025056</td>\n",
       "      <td>0.172867</td>\n",
       "      <td>0.206602</td>\n",
       "      <td>0.183143</td>\n",
       "      <td>0.036787</td>\n",
       "      <td>0.255564</td>\n",
       "      <td>0.048866</td>\n",
       "      <td>0.019521</td>\n",
       "      <td>0.039455</td>\n",
       "    </tr>\n",
       "    <tr>\n",
       "      <th>...</th>\n",
       "      <td>...</td>\n",
       "      <td>...</td>\n",
       "      <td>...</td>\n",
       "      <td>...</td>\n",
       "      <td>...</td>\n",
       "      <td>...</td>\n",
       "      <td>...</td>\n",
       "      <td>...</td>\n",
       "      <td>...</td>\n",
       "      <td>...</td>\n",
       "      <td>...</td>\n",
       "    </tr>\n",
       "    <tr>\n",
       "      <th>18990</th>\n",
       "      <td>31653</td>\n",
       "      <td>0.552467</td>\n",
       "      <td>0.149032</td>\n",
       "      <td>0.306233</td>\n",
       "      <td>0.108901</td>\n",
       "      <td>0.107033</td>\n",
       "      <td>0.551873</td>\n",
       "      <td>0.010804</td>\n",
       "      <td>0.071723</td>\n",
       "      <td>0.012706</td>\n",
       "      <td>0.002523</td>\n",
       "    </tr>\n",
       "    <tr>\n",
       "      <th>18991</th>\n",
       "      <td>31654</td>\n",
       "      <td>0.016474</td>\n",
       "      <td>0.024168</td>\n",
       "      <td>0.165630</td>\n",
       "      <td>0.222148</td>\n",
       "      <td>0.165583</td>\n",
       "      <td>0.036741</td>\n",
       "      <td>0.053688</td>\n",
       "      <td>0.056842</td>\n",
       "      <td>0.020080</td>\n",
       "      <td>0.038602</td>\n",
       "    </tr>\n",
       "    <tr>\n",
       "      <th>18992</th>\n",
       "      <td>31656</td>\n",
       "      <td>0.910376</td>\n",
       "      <td>0.020472</td>\n",
       "      <td>0.100442</td>\n",
       "      <td>0.142707</td>\n",
       "      <td>0.116707</td>\n",
       "      <td>0.320739</td>\n",
       "      <td>0.008323</td>\n",
       "      <td>0.305013</td>\n",
       "      <td>0.023101</td>\n",
       "      <td>0.003310</td>\n",
       "    </tr>\n",
       "    <tr>\n",
       "      <th>18993</th>\n",
       "      <td>31657</td>\n",
       "      <td>0.045149</td>\n",
       "      <td>0.025991</td>\n",
       "      <td>0.147566</td>\n",
       "      <td>0.135522</td>\n",
       "      <td>0.132083</td>\n",
       "      <td>0.060434</td>\n",
       "      <td>0.039512</td>\n",
       "      <td>0.061834</td>\n",
       "      <td>0.016571</td>\n",
       "      <td>0.015503</td>\n",
       "    </tr>\n",
       "    <tr>\n",
       "      <th>18994</th>\n",
       "      <td>31658</td>\n",
       "      <td>0.013951</td>\n",
       "      <td>0.019708</td>\n",
       "      <td>0.104143</td>\n",
       "      <td>0.103328</td>\n",
       "      <td>0.112419</td>\n",
       "      <td>0.050603</td>\n",
       "      <td>0.065914</td>\n",
       "      <td>0.053214</td>\n",
       "      <td>0.014160</td>\n",
       "      <td>0.024031</td>\n",
       "    </tr>\n",
       "  </tbody>\n",
       "</table>\n",
       "<p>18995 rows × 11 columns</p>\n",
       "</div>"
      ],
      "text/plain": [
       "         pid  LABEL_BaseExcess  LABEL_Fibrinogen  LABEL_AST  \\\n",
       "0          1          0.818699          0.070224   0.079805   \n",
       "1          2          0.034358          0.028550   0.143829   \n",
       "2          4          0.062457          0.020703   0.244249   \n",
       "3          6          0.914936          0.071789   0.098797   \n",
       "4          8          0.013321          0.025056   0.172867   \n",
       "...      ...               ...               ...        ...   \n",
       "18990  31653          0.552467          0.149032   0.306233   \n",
       "18991  31654          0.016474          0.024168   0.165630   \n",
       "18992  31656          0.910376          0.020472   0.100442   \n",
       "18993  31657          0.045149          0.025991   0.147566   \n",
       "18994  31658          0.013951          0.019708   0.104143   \n",
       "\n",
       "       LABEL_Alkalinephos  LABEL_Bilirubin_total  LABEL_Lactate  \\\n",
       "0                0.047943               0.102599       0.230049   \n",
       "1                0.110638               0.188830       0.094281   \n",
       "2                0.140089               0.179788       0.132640   \n",
       "3                0.062465               0.083364       0.334616   \n",
       "4                0.206602               0.183143       0.036787   \n",
       "...                   ...                    ...            ...   \n",
       "18990            0.108901               0.107033       0.551873   \n",
       "18991            0.222148               0.165583       0.036741   \n",
       "18992            0.142707               0.116707       0.320739   \n",
       "18993            0.135522               0.132083       0.060434   \n",
       "18994            0.103328               0.112419       0.050603   \n",
       "\n",
       "       LABEL_TroponinI  LABEL_SaO2  LABEL_Bilirubin_direct  LABEL_EtCO2  \n",
       "0             0.006836    0.104406                0.010467     0.002933  \n",
       "1             0.589342    0.136889                0.021069     0.021622  \n",
       "2             0.170118    0.294691                0.020221     0.047154  \n",
       "3             0.007087    0.901355                0.013386     0.002443  \n",
       "4             0.255564    0.048866                0.019521     0.039455  \n",
       "...                ...         ...                     ...          ...  \n",
       "18990         0.010804    0.071723                0.012706     0.002523  \n",
       "18991         0.053688    0.056842                0.020080     0.038602  \n",
       "18992         0.008323    0.305013                0.023101     0.003310  \n",
       "18993         0.039512    0.061834                0.016571     0.015503  \n",
       "18994         0.065914    0.053214                0.014160     0.024031  \n",
       "\n",
       "[18995 rows x 11 columns]"
      ]
     },
     "execution_count": 5,
     "metadata": {},
     "output_type": "execute_result"
    }
   ],
   "source": [
    "output"
   ]
  },
  {
   "cell_type": "code",
   "execution_count": 6,
   "metadata": {},
   "outputs": [],
   "source": [
    "#output.to_csv('../output/subtask_1_output', index = False, header = False)"
   ]
  },
  {
   "cell_type": "markdown",
   "metadata": {},
   "source": [
    "## Runtime"
   ]
  },
  {
   "cell_type": "code",
   "execution_count": 7,
   "metadata": {},
   "outputs": [
    {
     "name": "stdout",
     "output_type": "stream",
     "text": [
      "--- 0.49489843448003135 minutes ---\n"
     ]
    }
   ],
   "source": [
    "print(\"--- %s minutes ---\" % ((time.time() - start_time)/60))"
   ]
  },
  {
   "cell_type": "markdown",
   "metadata": {},
   "source": [
    "## Results Log"
   ]
  },
  {
   "cell_type": "markdown",
   "metadata": {},
   "source": [
    "|   | C | kernel | gamma | weight | features | n_features | F1 score | AUC | runtime (min) |\n",
    "|---|---|---|---|---|---|---|---|---|---|\n",
    "| run_1 |  1 |  rbf | scale  |  balanced |  median for NA's and mean  | 35 | 0.598165656150447 | ? | 33 |\n",
    "| run_2 |  1 |  rbf | scale  |  balanced |  median for NA's and mean, max, min, median, sd  | 170 | 0.628216870267411 |?| 102 |\n",
    "| run_3 |  1 |  rbf | scale  |  balanced |  median for NA's and mean, max, min, median, sd, range, skw, kurt  | 272 | 0.649372121402984 | 0.8236937992110356 | 141 |\n",
    "| run_4 |  na |  na | na |  na |  median for NA's and mean, max, min, median, sd, range, skw, kurt  | 272 | 0.871097657278231 | 0.8222653647930391 | 0.5 |"
   ]
  }
 ],
 "metadata": {
  "kernelspec": {
   "display_name": "Python 3",
   "language": "python",
   "name": "python3"
  },
  "language_info": {
   "codemirror_mode": {
    "name": "ipython",
    "version": 3
   },
   "file_extension": ".py",
   "mimetype": "text/x-python",
   "name": "python",
   "nbconvert_exporter": "python",
   "pygments_lexer": "ipython3",
   "version": "3.8.3"
  }
 },
 "nbformat": 4,
 "nbformat_minor": 4
}
