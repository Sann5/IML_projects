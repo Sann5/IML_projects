{
 "cells": [
  {
   "cell_type": "markdown",
   "id": "73b7567a",
   "metadata": {},
   "source": [
    "# Introduction to Machine Learning - Task 3\n",
    "\n",
    "Group name: Cbbayes\n",
    "\n",
    "Team members: mcolomer (mcolomer@student.ethz.ch), pratsink (pratsink@student.ethz.ch) and scastro (scastro@student.ethz.ch)\n",
    "\n",
    "Spring 2021"
   ]
  },
  {
   "cell_type": "markdown",
   "id": "a73bd818",
   "metadata": {},
   "source": [
    "## Libraries"
   ]
  },
  {
   "cell_type": "code",
   "execution_count": 100,
   "id": "586b29a7",
   "metadata": {},
   "outputs": [],
   "source": [
    "import pandas as pd\n",
    "import numpy as np\n",
    "from sklearn.preprocessing import OneHotEncoder\n",
    "from sklearn.ensemble import RandomForestClassifier\n",
    "import sklearn.metrics as metrics"
   ]
  },
  {
   "cell_type": "markdown",
   "id": "2318f830",
   "metadata": {},
   "source": [
    "## Preprocessing: one-hot encoding of the sequences"
   ]
  },
  {
   "cell_type": "code",
   "execution_count": 101,
   "id": "546931df",
   "metadata": {},
   "outputs": [],
   "source": [
    "# Indicate the path to the data file\n",
    "path = \"../data/\"\n",
    "\n",
    "train_data = pd.read_csv(path+\"train.csv\")\n",
    "test_data = pd.read_csv(path+\"test.csv\")\n",
    "\n",
    "aminoacids = [\"R\", \"H\", \"K\",\"D\",\"E\", \"S\",\"T\",\"N\",\"Q\",\"C\",\"U\",\n",
    "             \"G\",\"P\",\"A\",\"I\",\"L\",\"M\",\"F\",\"W\",\"Y\",\"V\"]\n",
    "\n",
    "#Preprocessing training dataset\n",
    "\n",
    "X_train = train_data[\"Sequence\"].str.split(\"\", n = 4, expand = True)\n",
    "\n",
    "\n",
    "for i in [1,2,3,4]:\n",
    "    train_data[\"pos\"+str(i)] = X_train[i]\n",
    "    train_data = pd.concat([train_data,pd.get_dummies(train_data[\"pos\"+str(i)], prefix=\"pos\"+str(i))],axis=1)\n",
    "    train_data = train_data.drop(columns=[\"pos\"+str(i)])\n",
    "    \n",
    "X_train = train_data.iloc[:, 2:82].values \n",
    "y_train = train_data.iloc[:,1].values \n",
    "\n",
    "#Preprocessing test dataset\n",
    "\n",
    "X_test = test_data[\"Sequence\"].str.split(\"\", n = 4, expand = True)\n",
    "\n",
    "\n",
    "for i in [1,2,3,4]:\n",
    "    test_data[\"pos\"+str(i)] = X_test[i]\n",
    "    test_data = pd.concat([test_data,pd.get_dummies(test_data[\"pos\"+str(i)], prefix=\"pos\"+str(i))],axis=1)\n",
    "    test_data = test_data.drop(columns=[\"pos\"+str(i)])\n",
    "    \n",
    "X_test = test_data.iloc[:, 1:81].values \n"
   ]
  },
  {
   "cell_type": "markdown",
   "id": "47cab5fd",
   "metadata": {},
   "source": [
    "## Classification\n",
    "\n",
    "Class are quite unbalanced:"
   ]
  },
  {
   "cell_type": "code",
   "execution_count": 102,
   "id": "848ee4bd",
   "metadata": {},
   "outputs": [
    {
     "name": "stdout",
     "output_type": "stream",
     "text": [
      "112000\n",
      "4213\n"
     ]
    }
   ],
   "source": [
    "print(len(y_train))\n",
    "print(sum(y_train))"
   ]
  },
  {
   "cell_type": "code",
   "execution_count": 107,
   "id": "a235e984",
   "metadata": {},
   "outputs": [],
   "source": [
    "def fit_RFC(X_train, y_train, X_test):\n",
    "    \"\"\"Random forest for predicting\n",
    "    the regression features\"\"\"\n",
    "    clf = RandomForestClassifier(n_estimators=100, class_weight='balanced')\n",
    "    clf.fit(X_train, y_train)\n",
    "    predicted = clf.predict(X_test)\n",
    "    return predicted"
   ]
  },
  {
   "cell_type": "code",
   "execution_count": null,
   "id": "79165d3d",
   "metadata": {},
   "outputs": [],
   "source": []
  },
  {
   "cell_type": "code",
   "execution_count": 108,
   "id": "0b9d20a7",
   "metadata": {},
   "outputs": [],
   "source": [
    "y_test = fit_RFC(X_train, y_train, X_test)"
   ]
  },
  {
   "cell_type": "code",
   "execution_count": 109,
   "id": "4605a6d1",
   "metadata": {},
   "outputs": [
    {
     "name": "stdout",
     "output_type": "stream",
     "text": [
      "48000\n",
      "1509\n"
     ]
    }
   ],
   "source": [
    "print(len(y_test))\n",
    "print(sum(y_test))"
   ]
  },
  {
   "cell_type": "code",
   "execution_count": 110,
   "id": "f5c2fe7c",
   "metadata": {},
   "outputs": [],
   "source": [
    "pd.DataFrame(y_test).to_csv('output.csv', index = False, header = False)             ## Save the results dataframe to a csv"
   ]
  },
  {
   "cell_type": "code",
   "execution_count": null,
   "id": "657bc482",
   "metadata": {},
   "outputs": [],
   "source": []
  }
 ],
 "metadata": {
  "kernelspec": {
   "display_name": "Python 3",
   "language": "python",
   "name": "python3"
  },
  "language_info": {
   "codemirror_mode": {
    "name": "ipython",
    "version": 3
   },
   "file_extension": ".py",
   "mimetype": "text/x-python",
   "name": "python",
   "nbconvert_exporter": "python",
   "pygments_lexer": "ipython3",
   "version": "3.7.4"
  }
 },
 "nbformat": 4,
 "nbformat_minor": 5
}
