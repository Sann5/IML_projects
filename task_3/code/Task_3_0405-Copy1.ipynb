{
 "cells": [
  {
   "cell_type": "markdown",
   "id": "73b7567a",
   "metadata": {},
   "source": [
    "# Introduction to Machine Learning - Task 3\n",
    "\n",
    "Group name: Cbbayes\n",
    "\n",
    "Team members: mcolomer (mcolomer@student.ethz.ch), pratsink (pratsink@student.ethz.ch) and scastro (scastro@student.ethz.ch)\n",
    "\n",
    "Spring 2021"
   ]
  },
  {
   "cell_type": "markdown",
   "id": "a73bd818",
   "metadata": {},
   "source": [
    "## Libraries"
   ]
  },
  {
   "cell_type": "code",
   "execution_count": 48,
   "id": "586b29a7",
   "metadata": {},
   "outputs": [],
   "source": [
    "import pandas as pd\n",
    "import numpy as np\n",
    "from sklearn.preprocessing import OneHotEncoder\n",
    "from sklearn.ensemble import RandomForestClassifier\n",
    "import sklearn.metrics as metrics"
   ]
  },
  {
   "cell_type": "markdown",
   "id": "2318f830",
   "metadata": {},
   "source": [
    "## Preprocessing: one-hot encoding of the sequences"
   ]
  },
  {
   "cell_type": "code",
   "execution_count": 49,
   "id": "546931df",
   "metadata": {},
   "outputs": [],
   "source": [
    "# Indicate the path to the data file\n",
    "path = \"../data/\"\n",
    "\n",
    "train_data = pd.read_csv(path+\"train.csv\")\n",
    "test_data = pd.read_csv(path+\"test.csv\")\n",
    "\n",
    "aminoacids = [\"R\", \"H\", \"K\",\"D\",\"E\", \"S\",\"T\",\"N\",\"Q\",\"C\",\"U\",\n",
    "             \"G\",\"P\",\"A\",\"I\",\"L\",\"M\",\"F\",\"W\",\"Y\",\"V\"]\n",
    "\n",
    "charge = [1,1,1,-1,-1,0,0,0,0,0,0,0,0,0,0,0,0,0,0,0,0]\n",
    "polarity=[1,1,1,1,1,1,1,1,1,1,1,1,1,0,0,0,0,0,0,0,0]\n",
    "special=[0,0,0,0,0,0,1,1,1,1,1,1,1,0,0,0,0,0,0,0,0]\n",
    "\n",
    "\n",
    "#Preprocessing training dataset\n",
    "\n",
    "X_train = train_data[\"Sequence\"].str.split(\"\", n = 4, expand = True)\n",
    "\n",
    "def map_charge(aa, charge, aminoacids):\n",
    "    i = aminoacids.index(aa)\n",
    "    return charge[i]\n",
    "\n",
    "def map_polarity(aa, polarity, aminoacids):\n",
    "    i = aminoacids.index(aa)\n",
    "    return polarity[i]\n",
    "\n",
    "for i in [1,2,3,4]:\n",
    "    train_data[\"pos\"+str(i)] = X_train[i]\n",
    "    train_data = pd.concat([train_data,pd.get_dummies(train_data[\"pos\"+str(i)], prefix=\"pos\"+str(i))],axis=1)\n",
    "    train_data[\"charge\"+str(i)] = train_data[\"pos\"+str(i)].apply(lambda aa: map_charge(aa, charge, aminoacids))\n",
    "    train_data[\"polarity\"+str(i)] = train_data[\"pos\"+str(i)].apply(lambda aa: map_polarity(aa, polarity, aminoacids))\n",
    "    train_data = train_data.drop(columns=[\"pos\"+str(i)])\n",
    "    \n",
    "X_train = train_data.iloc[:, 2:90].values \n",
    "y_train = train_data.iloc[:,1].values \n",
    "\n",
    "#Preprocessing test dataset\n",
    "\n",
    "X_test = test_data[\"Sequence\"].str.split(\"\", n = 4, expand = True)\n",
    "\n",
    "\n",
    "for i in [1,2,3,4]:\n",
    "    test_data[\"pos\"+str(i)] = X_test[i]\n",
    "    test_data = pd.concat([test_data,pd.get_dummies(test_data[\"pos\"+str(i)], prefix=\"pos\"+str(i))],axis=1)\n",
    "    test_data[\"charge\"+str(i)] = test_data[\"pos\"+str(i)].apply(lambda aa: map_charge(aa, charge, aminoacids))\n",
    "    test_data[\"polarity\"+str(i)] = test_data[\"pos\"+str(i)].apply(lambda aa: map_polarity(aa, polarity, aminoacids))\n",
    "    test_data = test_data.drop(columns=[\"pos\"+str(i)])\n",
    "    \n",
    "X_test = test_data.iloc[:, 1:89].values \n"
   ]
  },
  {
   "cell_type": "code",
   "execution_count": 75,
   "id": "f079047e",
   "metadata": {},
   "outputs": [
    {
     "data": {
      "text/html": [
       "<div>\n",
       "<style scoped>\n",
       "    .dataframe tbody tr th:only-of-type {\n",
       "        vertical-align: middle;\n",
       "    }\n",
       "\n",
       "    .dataframe tbody tr th {\n",
       "        vertical-align: top;\n",
       "    }\n",
       "\n",
       "    .dataframe thead th {\n",
       "        text-align: right;\n",
       "    }\n",
       "</style>\n",
       "<table border=\"1\" class=\"dataframe\">\n",
       "  <thead>\n",
       "    <tr style=\"text-align: right;\">\n",
       "      <th></th>\n",
       "      <th>Sequence</th>\n",
       "      <th>Active</th>\n",
       "      <th>pos1_A</th>\n",
       "      <th>pos1_C</th>\n",
       "      <th>pos1_D</th>\n",
       "      <th>pos1_E</th>\n",
       "      <th>pos1_F</th>\n",
       "      <th>pos1_G</th>\n",
       "      <th>pos1_H</th>\n",
       "      <th>pos1_I</th>\n",
       "      <th>...</th>\n",
       "      <th>pos4_P</th>\n",
       "      <th>pos4_Q</th>\n",
       "      <th>pos4_R</th>\n",
       "      <th>pos4_S</th>\n",
       "      <th>pos4_T</th>\n",
       "      <th>pos4_V</th>\n",
       "      <th>pos4_W</th>\n",
       "      <th>pos4_Y</th>\n",
       "      <th>charge4</th>\n",
       "      <th>polarity4</th>\n",
       "    </tr>\n",
       "  </thead>\n",
       "  <tbody>\n",
       "    <tr>\n",
       "      <th>0</th>\n",
       "      <td>DKWL</td>\n",
       "      <td>0</td>\n",
       "      <td>0</td>\n",
       "      <td>0</td>\n",
       "      <td>1</td>\n",
       "      <td>0</td>\n",
       "      <td>0</td>\n",
       "      <td>0</td>\n",
       "      <td>0</td>\n",
       "      <td>0</td>\n",
       "      <td>...</td>\n",
       "      <td>0</td>\n",
       "      <td>0</td>\n",
       "      <td>0</td>\n",
       "      <td>0</td>\n",
       "      <td>0</td>\n",
       "      <td>0</td>\n",
       "      <td>0</td>\n",
       "      <td>0</td>\n",
       "      <td>0</td>\n",
       "      <td>0</td>\n",
       "    </tr>\n",
       "    <tr>\n",
       "      <th>1</th>\n",
       "      <td>FCHN</td>\n",
       "      <td>0</td>\n",
       "      <td>0</td>\n",
       "      <td>0</td>\n",
       "      <td>0</td>\n",
       "      <td>0</td>\n",
       "      <td>1</td>\n",
       "      <td>0</td>\n",
       "      <td>0</td>\n",
       "      <td>0</td>\n",
       "      <td>...</td>\n",
       "      <td>0</td>\n",
       "      <td>0</td>\n",
       "      <td>0</td>\n",
       "      <td>0</td>\n",
       "      <td>0</td>\n",
       "      <td>0</td>\n",
       "      <td>0</td>\n",
       "      <td>0</td>\n",
       "      <td>0</td>\n",
       "      <td>1</td>\n",
       "    </tr>\n",
       "    <tr>\n",
       "      <th>2</th>\n",
       "      <td>KDQP</td>\n",
       "      <td>0</td>\n",
       "      <td>0</td>\n",
       "      <td>0</td>\n",
       "      <td>0</td>\n",
       "      <td>0</td>\n",
       "      <td>0</td>\n",
       "      <td>0</td>\n",
       "      <td>0</td>\n",
       "      <td>0</td>\n",
       "      <td>...</td>\n",
       "      <td>1</td>\n",
       "      <td>0</td>\n",
       "      <td>0</td>\n",
       "      <td>0</td>\n",
       "      <td>0</td>\n",
       "      <td>0</td>\n",
       "      <td>0</td>\n",
       "      <td>0</td>\n",
       "      <td>0</td>\n",
       "      <td>1</td>\n",
       "    </tr>\n",
       "    <tr>\n",
       "      <th>3</th>\n",
       "      <td>FNWI</td>\n",
       "      <td>0</td>\n",
       "      <td>0</td>\n",
       "      <td>0</td>\n",
       "      <td>0</td>\n",
       "      <td>0</td>\n",
       "      <td>1</td>\n",
       "      <td>0</td>\n",
       "      <td>0</td>\n",
       "      <td>0</td>\n",
       "      <td>...</td>\n",
       "      <td>0</td>\n",
       "      <td>0</td>\n",
       "      <td>0</td>\n",
       "      <td>0</td>\n",
       "      <td>0</td>\n",
       "      <td>0</td>\n",
       "      <td>0</td>\n",
       "      <td>0</td>\n",
       "      <td>0</td>\n",
       "      <td>0</td>\n",
       "    </tr>\n",
       "    <tr>\n",
       "      <th>4</th>\n",
       "      <td>NKRM</td>\n",
       "      <td>0</td>\n",
       "      <td>0</td>\n",
       "      <td>0</td>\n",
       "      <td>0</td>\n",
       "      <td>0</td>\n",
       "      <td>0</td>\n",
       "      <td>0</td>\n",
       "      <td>0</td>\n",
       "      <td>0</td>\n",
       "      <td>...</td>\n",
       "      <td>0</td>\n",
       "      <td>0</td>\n",
       "      <td>0</td>\n",
       "      <td>0</td>\n",
       "      <td>0</td>\n",
       "      <td>0</td>\n",
       "      <td>0</td>\n",
       "      <td>0</td>\n",
       "      <td>0</td>\n",
       "      <td>0</td>\n",
       "    </tr>\n",
       "    <tr>\n",
       "      <th>...</th>\n",
       "      <td>...</td>\n",
       "      <td>...</td>\n",
       "      <td>...</td>\n",
       "      <td>...</td>\n",
       "      <td>...</td>\n",
       "      <td>...</td>\n",
       "      <td>...</td>\n",
       "      <td>...</td>\n",
       "      <td>...</td>\n",
       "      <td>...</td>\n",
       "      <td>...</td>\n",
       "      <td>...</td>\n",
       "      <td>...</td>\n",
       "      <td>...</td>\n",
       "      <td>...</td>\n",
       "      <td>...</td>\n",
       "      <td>...</td>\n",
       "      <td>...</td>\n",
       "      <td>...</td>\n",
       "      <td>...</td>\n",
       "      <td>...</td>\n",
       "    </tr>\n",
       "    <tr>\n",
       "      <th>111995</th>\n",
       "      <td>GSME</td>\n",
       "      <td>0</td>\n",
       "      <td>0</td>\n",
       "      <td>0</td>\n",
       "      <td>0</td>\n",
       "      <td>0</td>\n",
       "      <td>0</td>\n",
       "      <td>1</td>\n",
       "      <td>0</td>\n",
       "      <td>0</td>\n",
       "      <td>...</td>\n",
       "      <td>0</td>\n",
       "      <td>0</td>\n",
       "      <td>0</td>\n",
       "      <td>0</td>\n",
       "      <td>0</td>\n",
       "      <td>0</td>\n",
       "      <td>0</td>\n",
       "      <td>0</td>\n",
       "      <td>-1</td>\n",
       "      <td>1</td>\n",
       "    </tr>\n",
       "    <tr>\n",
       "      <th>111996</th>\n",
       "      <td>DLPT</td>\n",
       "      <td>0</td>\n",
       "      <td>0</td>\n",
       "      <td>0</td>\n",
       "      <td>1</td>\n",
       "      <td>0</td>\n",
       "      <td>0</td>\n",
       "      <td>0</td>\n",
       "      <td>0</td>\n",
       "      <td>0</td>\n",
       "      <td>...</td>\n",
       "      <td>0</td>\n",
       "      <td>0</td>\n",
       "      <td>0</td>\n",
       "      <td>0</td>\n",
       "      <td>1</td>\n",
       "      <td>0</td>\n",
       "      <td>0</td>\n",
       "      <td>0</td>\n",
       "      <td>0</td>\n",
       "      <td>1</td>\n",
       "    </tr>\n",
       "    <tr>\n",
       "      <th>111997</th>\n",
       "      <td>SGHC</td>\n",
       "      <td>0</td>\n",
       "      <td>0</td>\n",
       "      <td>0</td>\n",
       "      <td>0</td>\n",
       "      <td>0</td>\n",
       "      <td>0</td>\n",
       "      <td>0</td>\n",
       "      <td>0</td>\n",
       "      <td>0</td>\n",
       "      <td>...</td>\n",
       "      <td>0</td>\n",
       "      <td>0</td>\n",
       "      <td>0</td>\n",
       "      <td>0</td>\n",
       "      <td>0</td>\n",
       "      <td>0</td>\n",
       "      <td>0</td>\n",
       "      <td>0</td>\n",
       "      <td>0</td>\n",
       "      <td>1</td>\n",
       "    </tr>\n",
       "    <tr>\n",
       "      <th>111998</th>\n",
       "      <td>KIGT</td>\n",
       "      <td>0</td>\n",
       "      <td>0</td>\n",
       "      <td>0</td>\n",
       "      <td>0</td>\n",
       "      <td>0</td>\n",
       "      <td>0</td>\n",
       "      <td>0</td>\n",
       "      <td>0</td>\n",
       "      <td>0</td>\n",
       "      <td>...</td>\n",
       "      <td>0</td>\n",
       "      <td>0</td>\n",
       "      <td>0</td>\n",
       "      <td>0</td>\n",
       "      <td>1</td>\n",
       "      <td>0</td>\n",
       "      <td>0</td>\n",
       "      <td>0</td>\n",
       "      <td>0</td>\n",
       "      <td>1</td>\n",
       "    </tr>\n",
       "    <tr>\n",
       "      <th>111999</th>\n",
       "      <td>PGPT</td>\n",
       "      <td>0</td>\n",
       "      <td>0</td>\n",
       "      <td>0</td>\n",
       "      <td>0</td>\n",
       "      <td>0</td>\n",
       "      <td>0</td>\n",
       "      <td>0</td>\n",
       "      <td>0</td>\n",
       "      <td>0</td>\n",
       "      <td>...</td>\n",
       "      <td>0</td>\n",
       "      <td>0</td>\n",
       "      <td>0</td>\n",
       "      <td>0</td>\n",
       "      <td>1</td>\n",
       "      <td>0</td>\n",
       "      <td>0</td>\n",
       "      <td>0</td>\n",
       "      <td>0</td>\n",
       "      <td>1</td>\n",
       "    </tr>\n",
       "  </tbody>\n",
       "</table>\n",
       "<p>112000 rows × 90 columns</p>\n",
       "</div>"
      ],
      "text/plain": [
       "       Sequence  Active  pos1_A  pos1_C  pos1_D  pos1_E  pos1_F  pos1_G  \\\n",
       "0          DKWL       0       0       0       1       0       0       0   \n",
       "1          FCHN       0       0       0       0       0       1       0   \n",
       "2          KDQP       0       0       0       0       0       0       0   \n",
       "3          FNWI       0       0       0       0       0       1       0   \n",
       "4          NKRM       0       0       0       0       0       0       0   \n",
       "...         ...     ...     ...     ...     ...     ...     ...     ...   \n",
       "111995     GSME       0       0       0       0       0       0       1   \n",
       "111996     DLPT       0       0       0       1       0       0       0   \n",
       "111997     SGHC       0       0       0       0       0       0       0   \n",
       "111998     KIGT       0       0       0       0       0       0       0   \n",
       "111999     PGPT       0       0       0       0       0       0       0   \n",
       "\n",
       "        pos1_H  pos1_I  ...  pos4_P  pos4_Q  pos4_R  pos4_S  pos4_T  pos4_V  \\\n",
       "0            0       0  ...       0       0       0       0       0       0   \n",
       "1            0       0  ...       0       0       0       0       0       0   \n",
       "2            0       0  ...       1       0       0       0       0       0   \n",
       "3            0       0  ...       0       0       0       0       0       0   \n",
       "4            0       0  ...       0       0       0       0       0       0   \n",
       "...        ...     ...  ...     ...     ...     ...     ...     ...     ...   \n",
       "111995       0       0  ...       0       0       0       0       0       0   \n",
       "111996       0       0  ...       0       0       0       0       1       0   \n",
       "111997       0       0  ...       0       0       0       0       0       0   \n",
       "111998       0       0  ...       0       0       0       0       1       0   \n",
       "111999       0       0  ...       0       0       0       0       1       0   \n",
       "\n",
       "        pos4_W  pos4_Y  charge4  polarity4  \n",
       "0            0       0        0          0  \n",
       "1            0       0        0          1  \n",
       "2            0       0        0          1  \n",
       "3            0       0        0          0  \n",
       "4            0       0        0          0  \n",
       "...        ...     ...      ...        ...  \n",
       "111995       0       0       -1          1  \n",
       "111996       0       0        0          1  \n",
       "111997       0       0        0          1  \n",
       "111998       0       0        0          1  \n",
       "111999       0       0        0          1  \n",
       "\n",
       "[112000 rows x 90 columns]"
      ]
     },
     "execution_count": 75,
     "metadata": {},
     "output_type": "execute_result"
    }
   ],
   "source": [
    "train_data"
   ]
  },
  {
   "cell_type": "code",
   "execution_count": 50,
   "id": "24872338",
   "metadata": {},
   "outputs": [
    {
     "name": "stdout",
     "output_type": "stream",
     "text": [
      "21\n",
      "21\n",
      "21\n"
     ]
    }
   ],
   "source": [
    "print(len(charge))\n",
    "print(len(polarity))\n",
    "print(len(special))"
   ]
  },
  {
   "cell_type": "markdown",
   "id": "47cab5fd",
   "metadata": {},
   "source": [
    "## Classification\n",
    "\n",
    "Class are quite unbalanced:"
   ]
  },
  {
   "cell_type": "code",
   "execution_count": 33,
   "id": "848ee4bd",
   "metadata": {},
   "outputs": [
    {
     "name": "stdout",
     "output_type": "stream",
     "text": [
      "112000\n",
      "4213\n"
     ]
    }
   ],
   "source": [
    "print(len(y_train))\n",
    "print(sum(y_train))"
   ]
  },
  {
   "cell_type": "code",
   "execution_count": 73,
   "id": "e2178e82",
   "metadata": {
    "scrolled": true
   },
   "outputs": [
    {
     "name": "stdout",
     "output_type": "stream",
     "text": [
      "Fitting 3 folds for each of 1 candidates, totalling 3 fits\n"
     ]
    },
    {
     "data": {
      "text/plain": [
       "{'n_estimators': 300}"
      ]
     },
     "execution_count": 73,
     "metadata": {},
     "output_type": "execute_result"
    }
   ],
   "source": [
    "from sklearn.model_selection import GridSearchCV\n",
    "from sklearn.metrics import f1_score, make_scorer\n",
    "\n",
    "# Create the parameter grid based on the results of random search \n",
    "param_grid = {\n",
    "    'n_estimators': [250]\n",
    "}\n",
    "# Create a based model\n",
    "rf = RandomForestClassifier(class_weight='balanced')\n",
    "# Instantiate the grid search model\n",
    "grid_search = GridSearchCV(estimator = rf, param_grid = param_grid, \n",
    "                          cv = 3, n_jobs = -1, verbose = 2, scoring=\"f1\")\n",
    "\n",
    "\n",
    "grid_search.fit(X_train, y_train)\n",
    "grid_search.best_params_\n"
   ]
  },
  {
   "cell_type": "code",
   "execution_count": 92,
   "id": "362c2921",
   "metadata": {},
   "outputs": [
    {
     "name": "stdout",
     "output_type": "stream",
     "text": [
      "0.8388746803069053   0.9895625\n"
     ]
    }
   ],
   "source": [
    "from sklearn.experimental import enable_hist_gradient_boosting  # noqa\n",
    "from sklearn.ensemble import HistGradientBoostingClassifier\n",
    "\n",
    "\n",
    "\n",
    "clf = HistGradientBoostingClassifier(scoring = 'f1',\n",
    "                                     random_state = 123).fit(X_train, y_train)\n",
    "    \n",
    "## Print the testing and traing score. Trainig score is estimated for the probability estimates not the labels.\n",
    "print(clf.validation_score_[np.size(clf.validation_score_) - 1],\n",
    "      \" \",\n",
    "      metrics.f1_score(y_train,\n",
    "                            clf.predict(X_train),\n",
    "                            average='micro'))\n",
    "\n",
    "\n",
    "y_test = clf.predict(X_test)\n"
   ]
  },
  {
   "cell_type": "code",
   "execution_count": null,
   "id": "c9435811",
   "metadata": {},
   "outputs": [],
   "source": []
  },
  {
   "cell_type": "code",
   "execution_count": null,
   "id": "9a6864a6",
   "metadata": {},
   "outputs": [],
   "source": [
    "from sklearn.experimental import enable_hist_gradient_boosting  # noqa\n",
    "from sklearn.ensemble import HistGradientBoostingClassifier\n",
    "\n",
    "\n"
   ]
  },
  {
   "cell_type": "code",
   "execution_count": 76,
   "id": "dbf608c4",
   "metadata": {},
   "outputs": [
    {
     "ename": "AttributeError",
     "evalue": "'GridSearchCV' object has no attribute 'grid_scores_'",
     "output_type": "error",
     "traceback": [
      "\u001b[0;31m---------------------------------------------------------------------------\u001b[0m",
      "\u001b[0;31mAttributeError\u001b[0m                            Traceback (most recent call last)",
      "\u001b[0;32m<ipython-input-76-3fbe22a0da2e>\u001b[0m in \u001b[0;36m<module>\u001b[0;34m\u001b[0m\n\u001b[0;32m----> 1\u001b[0;31m \u001b[0mscores\u001b[0m \u001b[0;34m=\u001b[0m \u001b[0;34m[\u001b[0m\u001b[0mx\u001b[0m\u001b[0;34m[\u001b[0m\u001b[0;36m1\u001b[0m\u001b[0;34m]\u001b[0m \u001b[0;32mfor\u001b[0m \u001b[0mx\u001b[0m \u001b[0;32min\u001b[0m \u001b[0mgrid_search\u001b[0m\u001b[0;34m.\u001b[0m\u001b[0mgrid_scores_\u001b[0m\u001b[0;34m]\u001b[0m\u001b[0;34m\u001b[0m\u001b[0;34m\u001b[0m\u001b[0m\n\u001b[0m",
      "\u001b[0;31mAttributeError\u001b[0m: 'GridSearchCV' object has no attribute 'grid_scores_'"
     ]
    }
   ],
   "source": [
    "scores = [x[1] for x in grid_search.grid_scores_]"
   ]
  },
  {
   "cell_type": "code",
   "execution_count": 77,
   "id": "da8595e6",
   "metadata": {},
   "outputs": [
    {
     "data": {
      "text/plain": [
       "make_scorer(f1_score, average=binary)"
      ]
     },
     "execution_count": 77,
     "metadata": {},
     "output_type": "execute_result"
    }
   ],
   "source": [
    "grid_search.scorer_"
   ]
  },
  {
   "cell_type": "code",
   "execution_count": 78,
   "id": "d798b326",
   "metadata": {},
   "outputs": [
    {
     "data": {
      "text/plain": [
       "0.8095144633851081"
      ]
     },
     "execution_count": 78,
     "metadata": {},
     "output_type": "execute_result"
    }
   ],
   "source": [
    "grid_search.best_score_"
   ]
  },
  {
   "cell_type": "code",
   "execution_count": 84,
   "id": "c328b91f",
   "metadata": {},
   "outputs": [
    {
     "data": {
      "text/plain": [
       "0.4132588950395086"
      ]
     },
     "execution_count": 84,
     "metadata": {},
     "output_type": "execute_result"
    }
   ],
   "source": [
    "grid_search.best_score_"
   ]
  },
  {
   "cell_type": "code",
   "execution_count": 64,
   "id": "a235e984",
   "metadata": {},
   "outputs": [],
   "source": [
    "def fit_RFC(X_train, y_train, X_test):\n",
    "    \"\"\"Random forest for predicting\n",
    "    the regression features\"\"\"\n",
    "    clf = RandomForestClassifier(n_estimators=250, class_weight='balanced')\n",
    "    clf.fit(X_train, y_train)\n",
    "    predicted = clf.predict(X_test)\n",
    "    return predicted"
   ]
  },
  {
   "cell_type": "code",
   "execution_count": 80,
   "id": "d1e64ab7",
   "metadata": {},
   "outputs": [],
   "source": [
    "from sklearn.ensemble import GradientBoostingClassifier\n",
    "\n",
    "def fit_RFC(X_train, y_train, X_test):\n",
    "    \"\"\"Random forest for predicting\n",
    "    the regression features\"\"\"\n",
    "    clf = RandomForestClassifier(n_estimators=250, class_weight='balanced')\n",
    "    clf.fit(X_train, y_train)\n",
    "    predicted = clf.predict(X_test)\n",
    "    return predicted"
   ]
  },
  {
   "cell_type": "code",
   "execution_count": null,
   "id": "643189ab",
   "metadata": {},
   "outputs": [],
   "source": [
    "rf_random.best_params_"
   ]
  },
  {
   "cell_type": "code",
   "execution_count": 66,
   "id": "0b9d20a7",
   "metadata": {},
   "outputs": [],
   "source": [
    "y_test = fit_RFC(X_train, y_train, X_test)"
   ]
  },
  {
   "cell_type": "code",
   "execution_count": 68,
   "id": "4605a6d1",
   "metadata": {},
   "outputs": [
    {
     "name": "stdout",
     "output_type": "stream",
     "text": [
      "48000\n",
      "1519\n"
     ]
    }
   ],
   "source": [
    "print(len(y_test))\n",
    "print(sum(y_test))"
   ]
  },
  {
   "cell_type": "code",
   "execution_count": 93,
   "id": "f5c2fe7c",
   "metadata": {},
   "outputs": [],
   "source": [
    "pd.DataFrame(y_test).to_csv('output_HBGC_balanced_charge_polarity.csv', index = False, header = False)             ## Save the results dataframe to a csv"
   ]
  },
  {
   "cell_type": "code",
   "execution_count": null,
   "id": "657bc482",
   "metadata": {},
   "outputs": [],
   "source": []
  }
 ],
 "metadata": {
  "kernelspec": {
   "display_name": "Python 3",
   "language": "python",
   "name": "python3"
  }
 },
 "nbformat": 4,
 "nbformat_minor": 5
}
