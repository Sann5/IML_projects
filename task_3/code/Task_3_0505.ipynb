{
 "cells": [
  {
   "cell_type": "markdown",
   "id": "73b7567a",
   "metadata": {},
   "source": [
    "# Introduction to Machine Learning - Task 3\n",
    "\n",
    "Group name: Cbbayes\n",
    "\n",
    "Team members: mcolomer (mcolomer@student.ethz.ch), pratsink (pratsink@student.ethz.ch) and scastro (scastro@student.ethz.ch)\n",
    "\n",
    "Spring 2021"
   ]
  },
  {
   "cell_type": "markdown",
   "id": "a73bd818",
   "metadata": {},
   "source": [
    "## Libraries"
   ]
  },
  {
   "cell_type": "code",
   "execution_count": 1,
   "id": "586b29a7",
   "metadata": {},
   "outputs": [],
   "source": [
    "import pandas as pd\n",
    "import numpy as np\n",
    "from sklearn.preprocessing import OneHotEncoder\n",
    "from sklearn.ensemble import RandomForestClassifier\n",
    "import sklearn.metrics as metrics"
   ]
  },
  {
   "cell_type": "markdown",
   "id": "2318f830",
   "metadata": {},
   "source": [
    "## Preprocessing: one-hot encoding of the sequences"
   ]
  },
  {
   "cell_type": "code",
   "execution_count": 2,
   "id": "546931df",
   "metadata": {},
   "outputs": [],
   "source": [
    "# Indicate the path to the data file\n",
    "path = \"../data/\"\n",
    "\n",
    "train_data = pd.read_csv(path+\"train.csv\")\n",
    "test_data = pd.read_csv(path+\"test.csv\")\n",
    "\n",
    "aminoacids = [\"R\", \"H\", \"K\",\"D\",\"E\", \"S\",\"T\",\"N\",\"Q\",\"C\",\"U\",\n",
    "             \"G\",\"P\",\"A\",\"I\",\"L\",\"M\",\"F\",\"W\",\"Y\",\"V\"]\n",
    "\n",
    "charge = [1,1,1,-1,-1,0,0,0,0,0,0,0,0,0,0,0,0,0,0,0,0]\n",
    "polarity=[1,1,1,1,1,1,1,1,1,1,1,1,1,0,0,0,0,0,0,0,0]\n",
    "special=[0,0,0,0,0,0,0,0,0,1,1,1,1,0,0,0,0,0,0,0,0]\n",
    "\n",
    "\n",
    "#Preprocessing training dataset\n",
    "\n",
    "X_train = train_data[\"Sequence\"].str.split(\"\", n = 4, expand = True)\n",
    "\n",
    "def map_charge(aa, charge, aminoacids):\n",
    "    i = aminoacids.index(aa)\n",
    "    return charge[i]\n",
    "\n",
    "def map_polarity(aa, polarity, aminoacids):\n",
    "    i = aminoacids.index(aa)\n",
    "    return polarity[i]\n",
    "\n",
    "for i in [1,2,3,4]:\n",
    "    train_data[\"pos\"+str(i)] = X_train[i]\n",
    "    train_data = pd.concat([train_data,pd.get_dummies(train_data[\"pos\"+str(i)], prefix=\"pos\"+str(i))],axis=1)\n",
    "    train_data[\"charge\"+str(i)] = train_data[\"pos\"+str(i)].apply(lambda aa: map_charge(aa, charge, aminoacids))\n",
    "    train_data[\"polarity\"+str(i)] = train_data[\"pos\"+str(i)].apply(lambda aa: map_polarity(aa, polarity, aminoacids))\n",
    "    train_data = train_data.drop(columns=[\"pos\"+str(i)])\n",
    "    \n",
    "X_train = train_data.iloc[:, 2:90].values \n",
    "y_train = train_data.iloc[:,1].values \n",
    "\n",
    "#Preprocessing test dataset\n",
    "\n",
    "X_test = test_data[\"Sequence\"].str.split(\"\", n = 4, expand = True)\n",
    "\n",
    "\n",
    "for i in [1,2,3,4]:\n",
    "    test_data[\"pos\"+str(i)] = X_test[i]\n",
    "    test_data = pd.concat([test_data,pd.get_dummies(test_data[\"pos\"+str(i)], prefix=\"pos\"+str(i))],axis=1)\n",
    "    test_data[\"charge\"+str(i)] = test_data[\"pos\"+str(i)].apply(lambda aa: map_charge(aa, charge, aminoacids))\n",
    "    test_data[\"polarity\"+str(i)] = test_data[\"pos\"+str(i)].apply(lambda aa: map_polarity(aa, polarity, aminoacids))\n",
    "    test_data = test_data.drop(columns=[\"pos\"+str(i)])\n",
    "    \n",
    "X_test = test_data.iloc[:, 1:89].values \n"
   ]
  },
  {
   "cell_type": "code",
   "execution_count": 3,
   "id": "85dec7c8",
   "metadata": {},
   "outputs": [
    {
     "name": "stdout",
     "output_type": "stream",
     "text": [
      "21\n",
      "21\n",
      "21\n"
     ]
    }
   ],
   "source": [
    "print(len(charge))\n",
    "print(len(polarity))\n",
    "print(len(special))"
   ]
  },
  {
   "cell_type": "markdown",
   "id": "47cab5fd",
   "metadata": {},
   "source": [
    "## Classification\n",
    "\n",
    "Class are quite unbalanced:"
   ]
  },
  {
   "cell_type": "code",
   "execution_count": 4,
   "id": "848ee4bd",
   "metadata": {},
   "outputs": [
    {
     "name": "stdout",
     "output_type": "stream",
     "text": [
      "112000\n",
      "4213\n"
     ]
    }
   ],
   "source": [
    "print(len(y_train))\n",
    "print(sum(y_train))"
   ]
  },
  {
   "cell_type": "code",
   "execution_count": 9,
   "id": "b90986bb",
   "metadata": {},
   "outputs": [
    {
     "name": "stdout",
     "output_type": "stream",
     "text": [
      "Fitting 3 folds for each of 2 candidates, totalling 6 fits\n"
     ]
    },
    {
     "data": {
      "text/plain": [
       "{'n_estimators': 300}"
      ]
     },
     "execution_count": 9,
     "metadata": {},
     "output_type": "execute_result"
    }
   ],
   "source": [
    "from sklearn.model_selection import GridSearchCV\n",
    "from sklearn.metrics import f1_score, make_scorer\n",
    "\n",
    "# Create the parameter grid based on the results of random search \n",
    "param_grid = {\n",
    "    'n_estimators': [250,300]\n",
    "    \n",
    "}\n",
    "# Create a based model\n",
    "rf = MLPClassifier(class_weight='balanced')\n",
    "# Instantiate the grid search model\n",
    "grid_search = GridSearchCV(estimator = rf, param_grid = param_grid, \n",
    "                          cv = 3, n_jobs = -1, verbose = 2, scoring=\"f1\")\n",
    "\n",
    "\n",
    "grid_search.fit(X_train, y_train)\n",
    "grid_search.best_params_\n"
   ]
  },
  {
   "cell_type": "code",
   "execution_count": null,
   "id": "378aa7c4",
   "metadata": {},
   "outputs": [],
   "source": [
    "from sklearn.model_selection import GridSearchCV\n",
    "from sklearn.metrics import f1_score, make_scorer\n",
    "\n",
    "# Create the parameter grid based on the results of random search \n",
    "param_grid = {\n",
    "    'n_estimators': [250,300]\n",
    "    \n",
    "}\n",
    "# Create a based model\n",
    "rf = RandomForestClassifier(class_weight='balanced_subsample')\n",
    "# Instantiate the grid search model\n",
    "grid_search = GridSearchCV(estimator = rf, param_grid = param_grid, \n",
    "                          cv = 3, n_jobs = -1, verbose = 2, scoring=\"f1\")\n",
    "\n",
    "\n",
    "grid_search.fit(X_train, y_train)\n",
    "grid_search.best_params_\n"
   ]
  },
  {
   "cell_type": "code",
   "execution_count": 6,
   "id": "65610692",
   "metadata": {},
   "outputs": [
    {
     "data": {
      "text/plain": [
       "make_scorer(f1_score, average=binary)"
      ]
     },
     "execution_count": 6,
     "metadata": {},
     "output_type": "execute_result"
    }
   ],
   "source": [
    "grid_search.scorer_"
   ]
  },
  {
   "cell_type": "code",
   "execution_count": 7,
   "id": "f603e2be",
   "metadata": {},
   "outputs": [
    {
     "data": {
      "text/plain": [
       "0.8120560712110794"
      ]
     },
     "execution_count": 7,
     "metadata": {},
     "output_type": "execute_result"
    }
   ],
   "source": [
    "grid_search.best_score_"
   ]
  },
  {
   "cell_type": "code",
   "execution_count": 10,
   "id": "52180208",
   "metadata": {},
   "outputs": [
    {
     "name": "stdout",
     "output_type": "stream",
     "text": [
      "{'mean_fit_time': array([102.68404261,  88.888105  ]), 'std_fit_time': array([ 0.93579585, 20.83585741]), 'mean_score_time': array([4.02074361, 2.90831836]), 'std_score_time': array([0.14942299, 1.18479463]), 'param_n_estimators': masked_array(data=[250, 300],\n",
      "             mask=[False, False],\n",
      "       fill_value='?',\n",
      "            dtype=object), 'params': [{'n_estimators': 250}, {'n_estimators': 300}], 'split0_test_score': array([0.81603774, 0.81566456]), 'split1_test_score': array([0.80522565, 0.80524642]), 'split2_test_score': array([0.81237759, 0.81394438]), 'mean_test_score': array([0.81121366, 0.81161845]), 'std_test_score': array([0.00449009, 0.0045601 ]), 'rank_test_score': array([2, 1], dtype=int32)}\n"
     ]
    }
   ],
   "source": [
    "print(grid_search.cv_results_)"
   ]
  },
  {
   "cell_type": "code",
   "execution_count": 8,
   "id": "5128097c",
   "metadata": {},
   "outputs": [
    {
     "name": "stdout",
     "output_type": "stream",
     "text": [
      "{'mean_fit_time': array([113.485286  , 102.87980874]), 'std_fit_time': array([ 1.19609629, 31.53070118]), 'mean_score_time': array([4.40012074, 3.58625555]), 'std_score_time': array([0.33826858, 0.08746272]), 'param_n_estimators': masked_array(data=[250, 350],\n",
      "             mask=[False, False],\n",
      "       fill_value='?',\n",
      "            dtype=object), 'params': [{'n_estimators': 250}, {'n_estimators': 350}], 'split0_test_score': array([0.81510622, 0.81469775]), 'split1_test_score': array([0.80366388, 0.80381255]), 'split2_test_score': array([0.81739812, 0.81576893]), 'mean_test_score': array([0.81205607, 0.81142641]), 'std_test_score': array([0.00600749, 0.00540154]), 'rank_test_score': array([1, 2], dtype=int32)}\n"
     ]
    }
   ],
   "source": [
    "print(grid_search.cv_results_)"
   ]
  },
  {
   "cell_type": "code",
   "execution_count": 64,
   "id": "a235e984",
   "metadata": {},
   "outputs": [],
   "source": [
    "def fit_RFC(X_train, y_train, X_test):\n",
    "    \"\"\"Random forest for predicting\n",
    "    the regression features\"\"\"\n",
    "    clf = RandomForestClassifier(n_estimators=250, class_weight='balanced')\n",
    "    clf.fit(X_train, y_train)\n",
    "    predicted = clf.predict(X_test)\n",
    "    return predicted"
   ]
  },
  {
   "cell_type": "code",
   "execution_count": null,
   "id": "e11083a3",
   "metadata": {},
   "outputs": [],
   "source": [
    "rf_random.best_params_"
   ]
  },
  {
   "cell_type": "code",
   "execution_count": 42,
   "id": "0b9d20a7",
   "metadata": {},
   "outputs": [],
   "source": [
    "y_test = fit_RFC(X_train, y_train, X_test)"
   ]
  },
  {
   "cell_type": "code",
   "execution_count": 37,
   "id": "4605a6d1",
   "metadata": {},
   "outputs": [
    {
     "name": "stdout",
     "output_type": "stream",
     "text": [
      "48000\n",
      "1382\n"
     ]
    }
   ],
   "source": [
    "print(len(y_test))\n",
    "print(sum(y_test))"
   ]
  },
  {
   "cell_type": "code",
   "execution_count": 65,
   "id": "f5c2fe7c",
   "metadata": {},
   "outputs": [],
   "source": [
    "pd.DataFrame(y_test).to_csv('output_RFC_250estim_balanced_charge_polarity.csv', index = False, header = False)             ## Save the results dataframe to a csv"
   ]
  },
  {
   "cell_type": "code",
   "execution_count": null,
   "id": "657bc482",
   "metadata": {},
   "outputs": [],
   "source": []
  }
 ],
 "metadata": {
  "kernelspec": {
   "display_name": "Python 3",
   "language": "python",
   "name": "python3"
  },
  "language_info": {
   "codemirror_mode": {
    "name": "ipython",
    "version": 3
   },
   "file_extension": ".py",
   "mimetype": "text/x-python",
   "name": "python",
   "nbconvert_exporter": "python",
   "pygments_lexer": "ipython3",
   "version": "3.7.4"
  }
 },
 "nbformat": 4,
 "nbformat_minor": 5
}
